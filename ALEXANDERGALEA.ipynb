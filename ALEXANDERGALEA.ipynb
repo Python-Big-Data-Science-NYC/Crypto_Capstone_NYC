{
 "cells": [
  {
   "cell_type": "code",
   "execution_count": null,
   "metadata": {
    "collapsed": true
   },
   "outputs": [],
   "source": [
    "import twitter"
   ]
  },
  {
   "cell_type": "code",
   "execution_count": null,
   "metadata": {
    "collapsed": true
   },
   "outputs": [],
   "source": [
    "api = twitter.Api(consumer_key='WePA5SfOMvHskQBXvOgv1Nkdf',\n",
    "                      consumer_secret='PhzfQ0LfX7fPSmtTLEv0lkk1Loixw7Xmf4jLZKyZrQsPSCbv0G',\n",
    "                      access_token_key='968329675-ZLZ9wAZC74CmnymEUvF2P5GdGdIFPeVasInhYkOf',\n",
    "                      access_token_secret='NPXe8DnjAhZieg8PePR70cLGDu61F8a8UgWPwSa87c8hy')"
   ]
  },
  {
   "cell_type": "code",
   "execution_count": 1,
   "metadata": {
    "collapsed": true
   },
   "outputs": [],
   "source": [
    "search_phrase = '#makedonalddrumpfagain'\n",
    "time_limit = 1.0 # runtime limit in hours\n",
    "min_days_old, max_days_old = 1, 2 # search limits"
   ]
  },
  {
   "cell_type": "code",
   "execution_count": 2,
   "metadata": {
    "collapsed": true
   },
   "outputs": [],
   "source": [
    "import tweepy\n",
    "from tweepy import OAuthHandler\n",
    "import json\n",
    "import datetime as dt\n",
    "import time\n",
    "import os\n",
    "import sys"
   ]
  },
  {
   "cell_type": "code",
   "execution_count": null,
   "metadata": {
    "collapsed": true
   },
   "outputs": [],
   "source": []
  }
 ],
 "metadata": {
  "kernelspec": {
   "display_name": "Python 3",
   "language": "python",
   "name": "python3"
  },
  "language_info": {
   "codemirror_mode": {
    "name": "ipython",
    "version": 3
   },
   "file_extension": ".py",
   "mimetype": "text/x-python",
   "name": "python",
   "nbconvert_exporter": "python",
   "pygments_lexer": "ipython3",
   "version": "3.6.1"
  }
 },
 "nbformat": 4,
 "nbformat_minor": 2
}
