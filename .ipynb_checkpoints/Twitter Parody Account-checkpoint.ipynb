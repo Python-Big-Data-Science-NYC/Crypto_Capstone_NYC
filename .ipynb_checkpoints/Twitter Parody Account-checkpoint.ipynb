{
 "cells": [
  {
   "cell_type": "code",
   "execution_count": 1,
   "metadata": {
    "collapsed": true
   },
   "outputs": [],
   "source": [
    "#https://marcobonzanini.com/2015/03/02/mining-twitter-data-with-python-part-1/\n",
    "import twitter"
   ]
  },
  {
   "cell_type": "code",
   "execution_count": 2,
   "metadata": {
    "collapsed": true
   },
   "outputs": [],
   "source": [
    "api = twitter.Api(consumer_key='WePA5SfOMvHskQBXvOgv1Nkdf',\n",
    "                      consumer_secret='PhzfQ0LfX7fPSmtTLEv0lkk1Loixw7Xmf4jLZKyZrQsPSCbv0G',\n",
    "                      access_token_key='968329675-ZLZ9wAZC74CmnymEUvF2P5GdGdIFPeVasInhYkOf',\n",
    "                      access_token_secret='NPXe8DnjAhZieg8PePR70cLGDu61F8a8UgWPwSa87c8hy')"
   ]
  },
  {
   "cell_type": "code",
   "execution_count": 3,
   "metadata": {},
   "outputs": [
    {
     "name": "stdout",
     "output_type": "stream",
     "text": [
      "{\"created_at\": \"Sat Nov 24 16:27:47 +0000 2012\", \"default_profile\": true, \"description\": \"99% of job will be taken by ML/AL, country that has such companies & engineer will be super power in 2040. India should be tax free, 0 regulation, border-less\", \"favourites_count\": 3536, \"followers_count\": 467, \"friends_count\": 4359, \"id\": 968329675, \"id_str\": \"968329675\", \"lang\": \"en\", \"listed_count\": 12, \"location\": \"India\", \"name\": \"Shivbhakta Joshi\", \"profile_background_color\": \"C0DEED\", \"profile_background_image_url\": \"http://abs.twimg.com/images/themes/theme1/bg.png\", \"profile_background_image_url_https\": \"https://abs.twimg.com/images/themes/theme1/bg.png\", \"profile_banner_url\": \"https://pbs.twimg.com/profile_banners/968329675/1433524344\", \"profile_image_url\": \"http://pbs.twimg.com/profile_images/690566643982979075/UTJsU3YP_normal.jpg\", \"profile_image_url_https\": \"https://pbs.twimg.com/profile_images/690566643982979075/UTJsU3YP_normal.jpg\", \"profile_link_color\": \"1DA1F2\", \"profile_sidebar_border_color\": \"C0DEED\", \"profile_sidebar_fill_color\": \"DDEEF6\", \"profile_text_color\": \"333333\", \"profile_use_background_image\": true, \"screen_name\": \"shivbhaktajoshi\", \"status\": {\"created_at\": \"Sat Mar 03 00:27:22 +0000 2018\", \"id\": 969730919111315456, \"id_str\": \"969730919111315456\", \"in_reply_to_screen_name\": \"DCDerek1\", \"in_reply_to_status_id\": 969011161432772609, \"in_reply_to_user_id\": 825753052636409856, \"lang\": \"en\", \"source\": \"<a href=\\\"http://twitter.com/download/android\\\" rel=\\\"nofollow\\\">Twitter for Android</a>\", \"text\": \"@DCDerek1 That's hihly unethical by Indians\"}, \"statuses_count\": 1019, \"time_zone\": \"Hawaii\", \"utc_offset\": -36000}\n"
     ]
    }
   ],
   "source": [
    "print(api.VerifyCredentials())"
   ]
  },
  {
   "cell_type": "code",
   "execution_count": 6,
   "metadata": {},
   "outputs": [],
   "source": [
    "import tweepy\n",
    "from tweepy import OAuthHandler\n",
    "\n",
    "consumer_key='WePA5SfOMvHskQBXvOgv1Nkdf'\n",
    "consumer_secret='PhzfQ0LfX7fPSmtTLEv0lkk1Loixw7Xmf4jLZKyZrQsPSCbv0G'\n",
    "access_token='968329675-ZLZ9wAZC74CmnymEUvF2P5GdGdIFPeVasInhYkOf'\n",
    "access_secret='NPXe8DnjAhZieg8PePR70cLGDu61F8a8UgWPwSa87c8hy'\n",
    " \n",
    "auth = OAuthHandler(consumer_key, consumer_secret)\n",
    "auth.set_access_token(access_token, access_secret)\n",
    " \n",
    "api = tweepy.API(auth)"
   ]
  },
  {
   "cell_type": "code",
   "execution_count": 7,
   "metadata": {},
   "outputs": [
    {
     "name": "stdout",
     "output_type": "stream",
     "text": [
      "אולי יעניין אותכם - בדקנו: עשר המכוניות המשומשות המבוקשות ביותר בישראל https://t.co/hvnfZDxDrE\n",
      "Oh OK I'm totally over the \"Jewish question\" now that you asked nicely https://t.co/KSTdmcCehT\n",
      "How To Explore Tokyo Without Becoming Insanely Broke https://t.co/16y16UeODn #travel #ttot\n",
      "RT @Avadhi_deepak: शेर को घेरने के लिये कुत्तों ने झुंड बनाया😂\n",
      "\n",
      "बसपा और सपा के गठजोड़ को बस इतने में समझ लीजिए, घर ख़रीदने (राज्यसभा) की मज…\n",
      "«C'est la fête de trop-oh!» https://t.co/YYMOXv1lBD\n",
      "आमा के ओ शिखिये dao 😊 https://t.co/WFBjF2bDzd\n",
      "RT @kumarisuhani055: त्रिपुरा में भारी बहुमत से जीत तथा\n",
      "नागालैंड और मेघालय में शानदार\n",
      "प्रदर्शन के लिए एक बार फिर, PM @narendramodi जी, #BJP…\n",
      "RT @DS__Rajput: @politicalkirti_ 🌺🌺जय जय श्री राधेकृष्णा🌺🌺\n",
      "🙏🌷🙏🌷👣👣🌷🙏🌷🙏\n",
      "RT @gurjer570: बिजेपी बड़ी और विपक्ष छोटा होता जा रहा है ऐसा ही चलता रहा तो एक दिन विपक्ष को देखने के लिए दुरबीन और बिजेपी को जीतने के लिए…\n",
      "RT @RajeshTamret: Why such high vacancy rates in judiciaries in a country with a population of 132 crore? Who gains from it? Whose illegal…\n"
     ]
    }
   ],
   "source": [
    "for status in tweepy.Cursor(api.home_timeline).items(10):\n",
    "    # Process a single status\n",
    "    print(status.text)"
   ]
  },
  {
   "cell_type": "code",
   "execution_count": null,
   "metadata": {
    "collapsed": true
   },
   "outputs": [],
   "source": [
    "from tweepy import Stream\n",
    "from tweepy.streaming import StreamListener\n",
    " \n",
    "class MyListener(StreamListener):\n",
    " \n",
    "    def on_data(self, data):\n",
    "        try:\n",
    "            with open('python.json', 'a') as f:\n",
    "                f.write(data)\n",
    "                return True\n",
    "        except BaseException as e:\n",
    "            print(\"Error on_data: %s\" % str(e))\n",
    "        return True\n",
    " \n",
    "    def on_error(self, status):\n",
    "        print(status)\n",
    "        return True\n",
    " \n",
    "twitter_stream = Stream(auth, MyListener())\n",
    "twitter_stream.filter(track=['#python'])"
   ]
  },
  {
   "cell_type": "code",
   "execution_count": null,
   "metadata": {
    "collapsed": true
   },
   "outputs": [],
   "source": []
  }
 ],
 "metadata": {
  "kernelspec": {
   "display_name": "Python 3",
   "language": "python",
   "name": "python3"
  },
  "language_info": {
   "codemirror_mode": {
    "name": "ipython",
    "version": 3
   },
   "file_extension": ".py",
   "mimetype": "text/x-python",
   "name": "python",
   "nbconvert_exporter": "python",
   "pygments_lexer": "ipython3",
   "version": "3.6.1"
  }
 },
 "nbformat": 4,
 "nbformat_minor": 2
}
