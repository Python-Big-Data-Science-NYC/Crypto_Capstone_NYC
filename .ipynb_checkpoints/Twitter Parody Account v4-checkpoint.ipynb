{
 "cells": [
  {
   "cell_type": "code",
   "execution_count": 91,
   "metadata": {},
   "outputs": [],
   "source": [
    "#https://marcobonzanini.com/2015/03/02/mining-twitter-data-with-python-part-1/\n",
    "import twitter"
   ]
  },
  {
   "cell_type": "code",
   "execution_count": 92,
   "metadata": {},
   "outputs": [],
   "source": [
    "# api = twitter.Api(consumer_key='WePA5SfOMvHskQBXvOgv1Nkdf',\n",
    "#                       consumer_secret='PhzfQ0LfX7fPSmtTLEv0lkk1Loixw7Xmf4jLZKyZrQsPSCbv0G',\n",
    "#                       access_token_key='968329675-ZLZ9wAZC74CmnymEUvF2P5GdGdIFPeVasInhYkOf',\n",
    "#                       access_token_secret='NPXe8DnjAhZieg8PePR70cLGDu61F8a8UgWPwSa87c8hy')"
   ]
  },
  {
   "cell_type": "code",
   "execution_count": 93,
   "metadata": {},
   "outputs": [],
   "source": [
    "# print(api.VerifyCredentials())"
   ]
  },
  {
   "cell_type": "code",
   "execution_count": 94,
   "metadata": {},
   "outputs": [],
   "source": [
    "import tweepy\n",
    "from tweepy import OAuthHandler\n",
    "\n",
    "consumer_key='WePA5SfOMvHskQBXvOgv1Nkdf'\n",
    "consumer_secret='PhzfQ0LfX7fPSmtTLEv0lkk1Loixw7Xmf4jLZKyZrQsPSCbv0G'\n",
    "access_token='968329675-ZLZ9wAZC74CmnymEUvF2P5GdGdIFPeVasInhYkOf'\n",
    "access_secret='NPXe8DnjAhZieg8PePR70cLGDu61F8a8UgWPwSa87c8hy'\n",
    " \n",
    "auth = OAuthHandler(consumer_key, consumer_secret)\n",
    "auth.set_access_token(access_token, access_secret)\n",
    " \n",
    "api = tweepy.API(auth)"
   ]
  },
  {
   "cell_type": "code",
   "execution_count": 95,
   "metadata": {},
   "outputs": [],
   "source": [
    "#for status in tweepy.Cursor(api.home_timeline).items(10):\n",
    "    # Process a single status\n",
    "    #print(status.text)"
   ]
  },
  {
   "cell_type": "code",
   "execution_count": 96,
   "metadata": {
    "collapsed": true
   },
   "outputs": [],
   "source": [
    "def process_or_store(tweet):\n",
    "    print(json.dumps(tweet))"
   ]
  },
  {
   "cell_type": "code",
   "execution_count": 97,
   "metadata": {},
   "outputs": [
    {
     "name": "stdout",
     "output_type": "stream",
     "text": [
      "{\"created_at\":\"Mon Mar 05 00:51:04 +0000 2018\",\"id\":970461660803751936,\"id_str\":\"970461660803751936\",\"text\":\"\\ud83d\\udcb0 ICO PRE-SALE: 35% BONUS \\ud83d\\udcb0\\n\\nTOKIA: free Cryptocurrency exchange is now possible!\\n\\nGET BONUS here:\\u2026 https:\\/\\/t.co\\/Kv4vbvuLio\",\"display_text_range\":[0,140],\"source\":\"\\u003ca href=\\\"https:\\/\\/google.com\\/\\\" rel=\\\"nofollow\\\"\\u003eDanny Cryptocurrency Scouter\\u003c\\/a\\u003e\",\"truncated\":true,\"in_reply_to_status_id\":null,\"in_reply_to_status_id_str\":null,\"in_reply_to_user_id\":null,\"in_reply_to_user_id_str\":null,\"in_reply_to_screen_name\":null,\"user\":{\"id\":941272231069519872,\"id_str\":\"941272231069519872\",\"name\":\"Daniel Morrison\",\"screen_name\":\"CryptoScout79\",\"location\":null,\"url\":null,\"description\":null,\"translator_type\":\"none\",\"protected\":false,\"verified\":false,\"followers_count\":4,\"friends_count\":0,\"listed_count\":0,\"favourites_count\":0,\"statuses_count\":4482,\"created_at\":\"Thu Dec 14 11:42:42 +0000 2017\",\"utc_offset\":null,\"time_zone\":null,\"geo_enabled\":false,\"lang\":\"it\",\"contributors_enabled\":false,\"is_translator\":false,\"profile_background_color\":\"F5F8FA\",\"profile_background_image_url\":\"\",\"profile_background_image_url_https\":\"\",\"profile_background_tile\":false,\"profile_link_color\":\"1DA1F2\",\"profile_sidebar_border_color\":\"C0DEED\",\"profile_sidebar_fill_color\":\"DDEEF6\",\"profile_text_color\":\"333333\",\"profile_use_background_image\":true,\"profile_image_url\":\"http:\\/\\/pbs.twimg.com\\/profile_images\\/941273513922650113\\/rp4kYctt_normal.jpg\",\"profile_image_url_https\":\"https:\\/\\/pbs.twimg.com\\/profile_images\\/941273513922650113\\/rp4kYctt_normal.jpg\",\"default_profile\":true,\"default_profile_image\":false,\"following\":null,\"follow_request_sent\":null,\"notifications\":null},\"geo\":null,\"coordinates\":null,\"place\":null,\"contributors\":null,\"is_quote_status\":false,\"extended_tweet\":{\"full_text\":\"\\ud83d\\udcb0 ICO PRE-SALE: 35% BONUS \\ud83d\\udcb0\\n\\nTOKIA: free Cryptocurrency exchange is now possible!\\n\\nGET BONUS here: https:\\/\\/t.co\\/4W3svHQ0BD \\u2b05\\ufe0f\\n\\n#bch #ethereum #startup #deals #bitcoincash #binance #trade #fintech #erc20 #bonus #airdrop #fx #token #market #coin #stocks #bitcoin https:\\/\\/t.co\\/X6aN7snk6k\",\"display_text_range\":[0,260],\"entities\":{\"hashtags\":[{\"text\":\"bch\",\"indices\":[127,131]},{\"text\":\"ethereum\",\"indices\":[132,141]},{\"text\":\"startup\",\"indices\":[142,150]},{\"text\":\"deals\",\"indices\":[151,157]},{\"text\":\"bitcoincash\",\"indices\":[158,170]},{\"text\":\"binance\",\"indices\":[171,179]},{\"text\":\"trade\",\"indices\":[180,186]},{\"text\":\"fintech\",\"indices\":[187,195]},{\"text\":\"erc20\",\"indices\":[196,202]},{\"text\":\"bonus\",\"indices\":[203,209]},{\"text\":\"airdrop\",\"indices\":[210,218]},{\"text\":\"fx\",\"indices\":[219,222]},{\"text\":\"token\",\"indices\":[223,229]},{\"text\":\"market\",\"indices\":[230,237]},{\"text\":\"coin\",\"indices\":[238,243]},{\"text\":\"stocks\",\"indices\":[244,251]},{\"text\":\"bitcoin\",\"indices\":[252,260]}],\"urls\":[{\"url\":\"https:\\/\\/t.co\\/4W3svHQ0BD\",\"expanded_url\":\"https:\\/\\/goo.gl\\/9L72kt\",\"display_url\":\"goo.gl\\/9L72kt\",\"indices\":[99,122]}],\"user_mentions\":[],\"symbols\":[],\"media\":[{\"id\":970461656814940160,\"id_str\":\"970461656814940160\",\"indices\":[261,284],\"media_url\":\"http:\\/\\/pbs.twimg.com\\/media\\/DXfFvDKXcAAzSxp.jpg\",\"media_url_https\":\"https:\\/\\/pbs.twimg.com\\/media\\/DXfFvDKXcAAzSxp.jpg\",\"url\":\"https:\\/\\/t.co\\/X6aN7snk6k\",\"display_url\":\"pic.twitter.com\\/X6aN7snk6k\",\"expanded_url\":\"https:\\/\\/twitter.com\\/CryptoScout79\\/status\\/970461660803751936\\/photo\\/1\",\"type\":\"photo\",\"sizes\":{\"thumb\":{\"w\":150,\"h\":150,\"resize\":\"crop\"},\"large\":{\"w\":587,\"h\":264,\"resize\":\"fit\"},\"medium\":{\"w\":587,\"h\":264,\"resize\":\"fit\"},\"small\":{\"w\":587,\"h\":264,\"resize\":\"fit\"}}}]},\"extended_entities\":{\"media\":[{\"id\":970461656814940160,\"id_str\":\"970461656814940160\",\"indices\":[261,284],\"media_url\":\"http:\\/\\/pbs.twimg.com\\/media\\/DXfFvDKXcAAzSxp.jpg\",\"media_url_https\":\"https:\\/\\/pbs.twimg.com\\/media\\/DXfFvDKXcAAzSxp.jpg\",\"url\":\"https:\\/\\/t.co\\/X6aN7snk6k\",\"display_url\":\"pic.twitter.com\\/X6aN7snk6k\",\"expanded_url\":\"https:\\/\\/twitter.com\\/CryptoScout79\\/status\\/970461660803751936\\/photo\\/1\",\"type\":\"photo\",\"sizes\":{\"thumb\":{\"w\":150,\"h\":150,\"resize\":\"crop\"},\"large\":{\"w\":587,\"h\":264,\"resize\":\"fit\"},\"medium\":{\"w\":587,\"h\":264,\"resize\":\"fit\"},\"small\":{\"w\":587,\"h\":264,\"resize\":\"fit\"}}}]}},\"quote_count\":0,\"reply_count\":0,\"retweet_count\":0,\"favorite_count\":0,\"entities\":{\"hashtags\":[],\"urls\":[{\"url\":\"https:\\/\\/t.co\\/Kv4vbvuLio\",\"expanded_url\":\"https:\\/\\/twitter.com\\/i\\/web\\/status\\/970461660803751936\",\"display_url\":\"twitter.com\\/i\\/web\\/status\\/9\\u2026\",\"indices\":[100,123]}],\"user_mentions\":[],\"symbols\":[]},\"favorited\":false,\"retweeted\":false,\"possibly_sensitive\":false,\"filter_level\":\"low\",\"lang\":\"en\",\"timestamp_ms\":\"1520211064898\"}\n",
      "\n",
      "{\"created_at\":\"Mon Mar 05 00:51:41 +0000 2018\",\"id\":970461812301819904,\"id_str\":\"970461812301819904\",\"text\":\"Micah Adams \\\"I like finding new uses for things\\\"\\nhttps:\\/\\/t.co\\/yWjzQH0umJ\\n#art #Toronto #coin #details #film #artist #fun\",\"source\":\"\\u003ca href=\\\"http:\\/\\/twittbot.net\\/\\\" rel=\\\"nofollow\\\"\\u003etwittbot.net\\u003c\\/a\\u003e\",\"truncated\":false,\"in_reply_to_status_id\":null,\"in_reply_to_status_id_str\":null,\"in_reply_to_user_id\":null,\"in_reply_to_user_id_str\":null,\"in_reply_to_screen_name\":null,\"user\":{\"id\":2187081404,\"id_str\":\"2187081404\",\"name\":\"FILMARTIST\",\"screen_name\":\"filmartist_ca\",\"location\":\"Toronto, Canada\",\"url\":\"http:\\/\\/filmartist.ca\\/\",\"description\":\"Paris Zheng+Yuya Saito | TO-JPN-CHN #Motion + #Design + #Style |\\ud83c\\udfac We See #Art in Everything | Digital Contents Marketing \\u2728Contact us on Instagram or Website!\",\"translator_type\":\"none\",\"protected\":false,\"verified\":false,\"followers_count\":7958,\"friends_count\":6993,\"listed_count\":466,\"favourites_count\":263,\"statuses_count\":28300,\"created_at\":\"Sun Nov 10 20:21:49 +0000 2013\",\"utc_offset\":-18000,\"time_zone\":\"Eastern Time (US & Canada)\",\"geo_enabled\":false,\"lang\":\"en\",\"contributors_enabled\":false,\"is_translator\":false,\"profile_background_color\":\"ABB8C2\",\"profile_background_image_url\":\"http:\\/\\/pbs.twimg.com\\/profile_background_images\\/539859599633825792\\/rCDDUpX2.jpeg\",\"profile_background_image_url_https\":\"https:\\/\\/pbs.twimg.com\\/profile_background_images\\/539859599633825792\\/rCDDUpX2.jpeg\",\"profile_background_tile\":true,\"profile_link_color\":\"5D2971\",\"profile_sidebar_border_color\":\"000000\",\"profile_sidebar_fill_color\":\"000000\",\"profile_text_color\":\"000000\",\"profile_use_background_image\":false,\"profile_image_url\":\"http:\\/\\/pbs.twimg.com\\/profile_images\\/840383330197598209\\/IyQ84QWY_normal.jpg\",\"profile_image_url_https\":\"https:\\/\\/pbs.twimg.com\\/profile_images\\/840383330197598209\\/IyQ84QWY_normal.jpg\",\"profile_banner_url\":\"https:\\/\\/pbs.twimg.com\\/profile_banners\\/2187081404\\/1436248273\",\"default_profile\":false,\"default_profile_image\":false,\"following\":null,\"follow_request_sent\":null,\"notifications\":null},\"geo\":null,\"coordinates\":null,\"place\":null,\"contributors\":null,\"is_quote_status\":false,\"quote_count\":0,\"reply_count\":0,\"retweet_count\":0,\"favorite_count\":0,\"entities\":{\"hashtags\":[{\"text\":\"art\",\"indices\":[73,77]},{\"text\":\"Toronto\",\"indices\":[78,86]},{\"text\":\"coin\",\"indices\":[87,92]},{\"text\":\"details\",\"indices\":[93,101]},{\"text\":\"film\",\"indices\":[102,107]},{\"text\":\"artist\",\"indices\":[108,115]},{\"text\":\"fun\",\"indices\":[116,120]}],\"urls\":[{\"url\":\"https:\\/\\/t.co\\/yWjzQH0umJ\",\"expanded_url\":\"https:\\/\\/www.patreon.com\\/posts\\/micah-adams-i-7181106\",\"display_url\":\"patreon.com\\/posts\\/micah-ad\\u2026\",\"indices\":[49,72]}],\"user_mentions\":[],\"symbols\":[]},\"favorited\":false,\"retweeted\":false,\"possibly_sensitive\":false,\"filter_level\":\"low\",\"lang\":\"en\",\"timestamp_ms\":\"1520211101018\"}\n",
      "\n",
      "{\"created_at\":\"Mon Mar 05 00:51:44 +0000 2018\",\"id\":970461826470285312,\"id_str\":\"970461826470285312\",\"text\":\"\\ud83d\\ude4c YASSS It's time for a great show \\ud83d\\udd25LS\\ud83d\\udd25JORDAN\\ud83d\\udd25:#Lvl\\ud83c\\udd99Party\\ud83c\\udf89 #Coin\\nhttps:\\/\\/t.co\\/ZTvV6hQwzP https:\\/\\/t.co\\/4XzfVk3Pjc\",\"display_text_range\":[0,88],\"source\":\"\\u003ca href=\\\"http:\\/\\/www.cmcm.com\\/\\\" rel=\\\"nofollow\\\"\\u003eLive.me \\u003c\\/a\\u003e\",\"truncated\":false,\"in_reply_to_status_id\":null,\"in_reply_to_status_id_str\":null,\"in_reply_to_user_id\":null,\"in_reply_to_user_id_str\":null,\"in_reply_to_screen_name\":null,\"user\":{\"id\":905806237807325184,\"id_str\":\"905806237807325184\",\"name\":\"Melissa Marie\",\"screen_name\":\"missyoox\",\"location\":null,\"url\":null,\"description\":null,\"translator_type\":\"none\",\"protected\":false,\"verified\":false,\"followers_count\":4,\"friends_count\":56,\"listed_count\":0,\"favourites_count\":4,\"statuses_count\":1014,\"created_at\":\"Thu Sep 07 14:53:31 +0000 2017\",\"utc_offset\":null,\"time_zone\":null,\"geo_enabled\":false,\"lang\":\"en\",\"contributors_enabled\":false,\"is_translator\":false,\"profile_background_color\":\"F5F8FA\",\"profile_background_image_url\":\"\",\"profile_background_image_url_https\":\"\",\"profile_background_tile\":false,\"profile_link_color\":\"1DA1F2\",\"profile_sidebar_border_color\":\"C0DEED\",\"profile_sidebar_fill_color\":\"DDEEF6\",\"profile_text_color\":\"333333\",\"profile_use_background_image\":true,\"profile_image_url\":\"http:\\/\\/abs.twimg.com\\/sticky\\/default_profile_images\\/default_profile_normal.png\",\"profile_image_url_https\":\"https:\\/\\/abs.twimg.com\\/sticky\\/default_profile_images\\/default_profile_normal.png\",\"default_profile\":true,\"default_profile_image\":false,\"following\":null,\"follow_request_sent\":null,\"notifications\":null},\"geo\":null,\"coordinates\":null,\"place\":null,\"contributors\":null,\"is_quote_status\":false,\"quote_count\":0,\"reply_count\":0,\"retweet_count\":0,\"favorite_count\":0,\"entities\":{\"hashtags\":[{\"text\":\"Lvl\",\"indices\":[47,51]},{\"text\":\"Coin\",\"indices\":[59,64]}],\"urls\":[{\"url\":\"https:\\/\\/t.co\\/ZTvV6hQwzP\",\"expanded_url\":\"https:\\/\\/www.liveme.com\\/share\\/index_live.php?title=%23Lvl%F0%9F%86%99Party%F0%9F%8E%89+%23CoinDrop+%23LiTyCiTy%F0%9F%94%A5&pic=http:\\/\\/live.store.cmcm.com\\/big\\/liveme\\/poster\\/f0e60b661fcf2195f54ee2bc50156eb2_icon.jpeg&url=http%3A%2F%2Fwww.liveme.com%2Fmedia%2Fliveshort%2Fdist%2F%3Fvideoid%3D15202083818953945074%26area%3DA_US%26countryCode%3DUS%26topDown%3D1%26s%3D826830988671057920%26shareto%3DTwitter\",\"display_url\":\"liveme.com\\/share\\/index_li\\u2026\",\"indices\":[65,88]}],\"user_mentions\":[],\"symbols\":[],\"media\":[{\"id\":970461824356405254,\"id_str\":\"970461824356405254\",\"indices\":[89,112],\"media_url\":\"http:\\/\\/pbs.twimg.com\\/media\\/DXfF4zTXUAYeeWd.jpg\",\"media_url_https\":\"https:\\/\\/pbs.twimg.com\\/media\\/DXfF4zTXUAYeeWd.jpg\",\"url\":\"https:\\/\\/t.co\\/4XzfVk3Pjc\",\"display_url\":\"pic.twitter.com\\/4XzfVk3Pjc\",\"expanded_url\":\"https:\\/\\/twitter.com\\/missyoox\\/status\\/970461826470285312\\/photo\\/1\",\"type\":\"photo\",\"sizes\":{\"thumb\":{\"w\":150,\"h\":150,\"resize\":\"crop\"},\"small\":{\"w\":680,\"h\":680,\"resize\":\"fit\"},\"medium\":{\"w\":720,\"h\":720,\"resize\":\"fit\"},\"large\":{\"w\":720,\"h\":720,\"resize\":\"fit\"}}}]},\"extended_entities\":{\"media\":[{\"id\":970461824356405254,\"id_str\":\"970461824356405254\",\"indices\":[89,112],\"media_url\":\"http:\\/\\/pbs.twimg.com\\/media\\/DXfF4zTXUAYeeWd.jpg\",\"media_url_https\":\"https:\\/\\/pbs.twimg.com\\/media\\/DXfF4zTXUAYeeWd.jpg\",\"url\":\"https:\\/\\/t.co\\/4XzfVk3Pjc\",\"display_url\":\"pic.twitter.com\\/4XzfVk3Pjc\",\"expanded_url\":\"https:\\/\\/twitter.com\\/missyoox\\/status\\/970461826470285312\\/photo\\/1\",\"type\":\"photo\",\"sizes\":{\"thumb\":{\"w\":150,\"h\":150,\"resize\":\"crop\"},\"small\":{\"w\":680,\"h\":680,\"resize\":\"fit\"},\"medium\":{\"w\":720,\"h\":720,\"resize\":\"fit\"},\"large\":{\"w\":720,\"h\":720,\"resize\":\"fit\"}}}]},\"favorited\":false,\"retweeted\":false,\"possibly_sensitive\":false,\"filter_level\":\"low\",\"lang\":\"en\",\"timestamp_ms\":\"1520211104396\"}\n"
     ]
    },
    {
     "name": "stdout",
     "output_type": "stream",
     "text": [
      "\n",
      "{\"created_at\":\"Mon Mar 05 00:52:01 +0000 2018\",\"id\":970461898259877888,\"id_str\":\"970461898259877888\",\"text\":\"RT @travelflexcoin: TRF team is growing! We have hired 1 senior and 2 junior Web Developers from Holland. We will give all the infos about\\u2026\",\"source\":\"\\u003ca href=\\\"http:\\/\\/twitter.com\\/download\\/iphone\\\" rel=\\\"nofollow\\\"\\u003eTwitter for iPhone\\u003c\\/a\\u003e\",\"truncated\":false,\"in_reply_to_status_id\":null,\"in_reply_to_status_id_str\":null,\"in_reply_to_user_id\":null,\"in_reply_to_user_id_str\":null,\"in_reply_to_screen_name\":null,\"user\":{\"id\":941706362269995008,\"id_str\":\"941706362269995008\",\"name\":\"heyhey\",\"screen_name\":\"heyhey0628\",\"location\":null,\"url\":null,\"description\":\"\\u30cf\\u30a4\\u30d5\\u30a1\\u30a4\\u8d85\\u5c0f\\u898f\\u6a21\\u30af\\u30e9\\u30de\\u30b9__(\\u2312(_ \\u00b4-\\u03c9\\uff65)\\u2584\\ufe3b\\u253b\\u2533\\u2550\\u2550\\u2501\\u3067\\u3082\\u6700\\u8fd1\\u306f\\u4eee\\u60f3\\u901a\\u8ca8\\u306e\\u30c1\\u30e3\\u30fc\\u30c8\\u898b\\u3059\\u304e\\u3066\\u30b2\\u30fc\\u30e0\\u6642\\u9593\\u534a\\u6e1bw\\u4ed5\\u4e8b\\u306f\\u60c5\\u5f31\\u306e\\u30de\\u30cd\\u30fc\\u30b8\\u30e3\\u30fc\\u3002\\u3088\\u308d\\u3057\\u304f\\u3067\\u3059\\ud83d\\ude07\",\"translator_type\":\"none\",\"protected\":false,\"verified\":false,\"followers_count\":82,\"friends_count\":102,\"listed_count\":0,\"favourites_count\":1019,\"statuses_count\":854,\"created_at\":\"Fri Dec 15 16:27:47 +0000 2017\",\"utc_offset\":null,\"time_zone\":null,\"geo_enabled\":false,\"lang\":\"ja\",\"contributors_enabled\":false,\"is_translator\":false,\"profile_background_color\":\"F5F8FA\",\"profile_background_image_url\":\"\",\"profile_background_image_url_https\":\"\",\"profile_background_tile\":false,\"profile_link_color\":\"1DA1F2\",\"profile_sidebar_border_color\":\"C0DEED\",\"profile_sidebar_fill_color\":\"DDEEF6\",\"profile_text_color\":\"333333\",\"profile_use_background_image\":true,\"profile_image_url\":\"http:\\/\\/pbs.twimg.com\\/profile_images\\/941707898991738880\\/lxvNEO4G_normal.jpg\",\"profile_image_url_https\":\"https:\\/\\/pbs.twimg.com\\/profile_images\\/941707898991738880\\/lxvNEO4G_normal.jpg\",\"profile_banner_url\":\"https:\\/\\/pbs.twimg.com\\/profile_banners\\/941706362269995008\\/1516728148\",\"default_profile\":true,\"default_profile_image\":false,\"following\":null,\"follow_request_sent\":null,\"notifications\":null},\"geo\":null,\"coordinates\":null,\"place\":null,\"contributors\":null,\"retweeted_status\":{\"created_at\":\"Sun Mar 04 17:30:26 +0000 2018\",\"id\":970350771236737025,\"id_str\":\"970350771236737025\",\"text\":\"TRF team is growing! We have hired 1 senior and 2 junior Web Developers from Holland. We will give all the infos ab\\u2026 https:\\/\\/t.co\\/o7HvfbPwL4\",\"source\":\"\\u003ca href=\\\"http:\\/\\/twitter.com\\\" rel=\\\"nofollow\\\"\\u003eTwitter Web Client\\u003c\\/a\\u003e\",\"truncated\":true,\"in_reply_to_status_id\":null,\"in_reply_to_status_id_str\":null,\"in_reply_to_user_id\":null,\"in_reply_to_user_id_str\":null,\"in_reply_to_screen_name\":null,\"user\":{\"id\":915075539106390023,\"id_str\":\"915075539106390023\",\"name\":\"Travelflexcoin\",\"screen_name\":\"travelflexcoin\",\"location\":null,\"url\":\"http:\\/\\/travelflex.org\",\"description\":\"Travelflex is a decentralized social travel network. Connecting the Travel Industry to Blockchain.\",\"translator_type\":\"none\",\"protected\":false,\"verified\":false,\"followers_count\":4733,\"friends_count\":27,\"listed_count\":37,\"favourites_count\":307,\"statuses_count\":290,\"created_at\":\"Tue Oct 03 04:46:24 +0000 2017\",\"utc_offset\":null,\"time_zone\":null,\"geo_enabled\":false,\"lang\":\"en\",\"contributors_enabled\":false,\"is_translator\":false,\"profile_background_color\":\"F5F8FA\",\"profile_background_image_url\":\"\",\"profile_background_image_url_https\":\"\",\"profile_background_tile\":false,\"profile_link_color\":\"1DA1F2\",\"profile_sidebar_border_color\":\"C0DEED\",\"profile_sidebar_fill_color\":\"DDEEF6\",\"profile_text_color\":\"333333\",\"profile_use_background_image\":true,\"profile_image_url\":\"http:\\/\\/pbs.twimg.com\\/profile_images\\/945590606637580288\\/IzL5DMP8_normal.jpg\",\"profile_image_url_https\":\"https:\\/\\/pbs.twimg.com\\/profile_images\\/945590606637580288\\/IzL5DMP8_normal.jpg\",\"profile_banner_url\":\"https:\\/\\/pbs.twimg.com\\/profile_banners\\/915075539106390023\\/1518729123\",\"default_profile\":true,\"default_profile_image\":false,\"following\":null,\"follow_request_sent\":null,\"notifications\":null},\"geo\":null,\"coordinates\":null,\"place\":null,\"contributors\":null,\"is_quote_status\":false,\"extended_tweet\":{\"full_text\":\"TRF team is growing! We have hired 1 senior and 2 junior Web Developers from Holland. We will give all the infos about them soon. \\n\\n#travelflex #developer #team #coin #newpeople\",\"display_text_range\":[0,177],\"entities\":{\"hashtags\":[{\"text\":\"travelflex\",\"indices\":[132,143]},{\"text\":\"developer\",\"indices\":[144,154]},{\"text\":\"team\",\"indices\":[155,160]},{\"text\":\"coin\",\"indices\":[161,166]},{\"text\":\"newpeople\",\"indices\":[167,177]}],\"urls\":[],\"user_mentions\":[],\"symbols\":[]}},\"quote_count\":2,\"reply_count\":7,\"retweet_count\":29,\"favorite_count\":82,\"entities\":{\"hashtags\":[],\"urls\":[{\"url\":\"https:\\/\\/t.co\\/o7HvfbPwL4\",\"expanded_url\":\"https:\\/\\/twitter.com\\/i\\/web\\/status\\/970350771236737025\",\"display_url\":\"twitter.com\\/i\\/web\\/status\\/9\\u2026\",\"indices\":[117,140]}],\"user_mentions\":[],\"symbols\":[]},\"favorited\":false,\"retweeted\":false,\"filter_level\":\"low\",\"lang\":\"en\"},\"is_quote_status\":false,\"quote_count\":0,\"reply_count\":0,\"retweet_count\":0,\"favorite_count\":0,\"entities\":{\"hashtags\":[],\"urls\":[],\"user_mentions\":[{\"screen_name\":\"travelflexcoin\",\"name\":\"Travelflexcoin\",\"id\":915075539106390023,\"id_str\":\"915075539106390023\",\"indices\":[3,18]}],\"symbols\":[]},\"favorited\":false,\"retweeted\":false,\"filter_level\":\"low\",\"lang\":\"en\",\"timestamp_ms\":\"1520211121512\"}\n",
      "\n"
     ]
    },
    {
     "ename": "KeyboardInterrupt",
     "evalue": "",
     "output_type": "error",
     "traceback": [
      "\u001b[1;31m---------------------------------------------------------------------------\u001b[0m",
      "\u001b[1;31mKeyboardInterrupt\u001b[0m                         Traceback (most recent call last)",
      "\u001b[1;32m<ipython-input-97-c7a5252834b4>\u001b[0m in \u001b[0;36m<module>\u001b[1;34m()\u001b[0m\n\u001b[0;32m     29\u001b[0m \u001b[1;33m\u001b[0m\u001b[0m\n\u001b[0;32m     30\u001b[0m \u001b[0mtwitter_stream\u001b[0m \u001b[1;33m=\u001b[0m \u001b[0mStream\u001b[0m\u001b[1;33m(\u001b[0m\u001b[0mauth\u001b[0m\u001b[1;33m,\u001b[0m \u001b[0mMyListener\u001b[0m\u001b[1;33m(\u001b[0m\u001b[1;33m)\u001b[0m\u001b[1;33m)\u001b[0m\u001b[1;33m\u001b[0m\u001b[0m\n\u001b[1;32m---> 31\u001b[1;33m \u001b[0mtwitter_stream\u001b[0m\u001b[1;33m.\u001b[0m\u001b[0mfilter\u001b[0m\u001b[1;33m(\u001b[0m\u001b[0mtrack\u001b[0m\u001b[1;33m=\u001b[0m\u001b[1;33m[\u001b[0m\u001b[1;34m'#coin'\u001b[0m\u001b[1;33m]\u001b[0m\u001b[1;33m)\u001b[0m\u001b[1;33m\u001b[0m\u001b[0m\n\u001b[0m\u001b[0;32m     32\u001b[0m \u001b[1;31m#data\u001b[0m\u001b[1;33m\u001b[0m\u001b[1;33m\u001b[0m\u001b[0m\n",
      "\u001b[1;32mC:\\Anaconda2\\lib\\site-packages\\tweepy\\streaming.pyc\u001b[0m in \u001b[0;36mfilter\u001b[1;34m(self, follow, track, async, locations, stall_warnings, languages, encoding, filter_level)\u001b[0m\n\u001b[0;32m    448\u001b[0m         \u001b[0mself\u001b[0m\u001b[1;33m.\u001b[0m\u001b[0msession\u001b[0m\u001b[1;33m.\u001b[0m\u001b[0mparams\u001b[0m \u001b[1;33m=\u001b[0m \u001b[1;33m{\u001b[0m\u001b[1;34m'delimited'\u001b[0m\u001b[1;33m:\u001b[0m \u001b[1;34m'length'\u001b[0m\u001b[1;33m}\u001b[0m\u001b[1;33m\u001b[0m\u001b[0m\n\u001b[0;32m    449\u001b[0m         \u001b[0mself\u001b[0m\u001b[1;33m.\u001b[0m\u001b[0mhost\u001b[0m \u001b[1;33m=\u001b[0m \u001b[1;34m'stream.twitter.com'\u001b[0m\u001b[1;33m\u001b[0m\u001b[0m\n\u001b[1;32m--> 450\u001b[1;33m         \u001b[0mself\u001b[0m\u001b[1;33m.\u001b[0m\u001b[0m_start\u001b[0m\u001b[1;33m(\u001b[0m\u001b[0masync\u001b[0m\u001b[1;33m)\u001b[0m\u001b[1;33m\u001b[0m\u001b[0m\n\u001b[0m\u001b[0;32m    451\u001b[0m \u001b[1;33m\u001b[0m\u001b[0m\n\u001b[0;32m    452\u001b[0m     def sitestream(self, follow, stall_warnings=False,\n",
      "\u001b[1;32mC:\\Anaconda2\\lib\\site-packages\\tweepy\\streaming.pyc\u001b[0m in \u001b[0;36m_start\u001b[1;34m(self, async)\u001b[0m\n\u001b[0;32m    362\u001b[0m             \u001b[0mself\u001b[0m\u001b[1;33m.\u001b[0m\u001b[0m_thread\u001b[0m\u001b[1;33m.\u001b[0m\u001b[0mstart\u001b[0m\u001b[1;33m(\u001b[0m\u001b[1;33m)\u001b[0m\u001b[1;33m\u001b[0m\u001b[0m\n\u001b[0;32m    363\u001b[0m         \u001b[1;32melse\u001b[0m\u001b[1;33m:\u001b[0m\u001b[1;33m\u001b[0m\u001b[0m\n\u001b[1;32m--> 364\u001b[1;33m             \u001b[0mself\u001b[0m\u001b[1;33m.\u001b[0m\u001b[0m_run\u001b[0m\u001b[1;33m(\u001b[0m\u001b[1;33m)\u001b[0m\u001b[1;33m\u001b[0m\u001b[0m\n\u001b[0m\u001b[0;32m    365\u001b[0m \u001b[1;33m\u001b[0m\u001b[0m\n\u001b[0;32m    366\u001b[0m     \u001b[1;32mdef\u001b[0m \u001b[0mon_closed\u001b[0m\u001b[1;33m(\u001b[0m\u001b[0mself\u001b[0m\u001b[1;33m,\u001b[0m \u001b[0mresp\u001b[0m\u001b[1;33m)\u001b[0m\u001b[1;33m:\u001b[0m\u001b[1;33m\u001b[0m\u001b[0m\n",
      "\u001b[1;32mC:\\Anaconda2\\lib\\site-packages\\tweepy\\streaming.pyc\u001b[0m in \u001b[0;36m_run\u001b[1;34m(self)\u001b[0m\n\u001b[0;32m    264\u001b[0m                     \u001b[0mself\u001b[0m\u001b[1;33m.\u001b[0m\u001b[0msnooze_time\u001b[0m \u001b[1;33m=\u001b[0m \u001b[0mself\u001b[0m\u001b[1;33m.\u001b[0m\u001b[0msnooze_time_step\u001b[0m\u001b[1;33m\u001b[0m\u001b[0m\n\u001b[0;32m    265\u001b[0m                     \u001b[0mself\u001b[0m\u001b[1;33m.\u001b[0m\u001b[0mlistener\u001b[0m\u001b[1;33m.\u001b[0m\u001b[0mon_connect\u001b[0m\u001b[1;33m(\u001b[0m\u001b[1;33m)\u001b[0m\u001b[1;33m\u001b[0m\u001b[0m\n\u001b[1;32m--> 266\u001b[1;33m                     \u001b[0mself\u001b[0m\u001b[1;33m.\u001b[0m\u001b[0m_read_loop\u001b[0m\u001b[1;33m(\u001b[0m\u001b[0mresp\u001b[0m\u001b[1;33m)\u001b[0m\u001b[1;33m\u001b[0m\u001b[0m\n\u001b[0m\u001b[0;32m    267\u001b[0m             \u001b[1;32mexcept\u001b[0m \u001b[1;33m(\u001b[0m\u001b[0mTimeout\u001b[0m\u001b[1;33m,\u001b[0m \u001b[0mssl\u001b[0m\u001b[1;33m.\u001b[0m\u001b[0mSSLError\u001b[0m\u001b[1;33m)\u001b[0m \u001b[1;32mas\u001b[0m \u001b[0mexc\u001b[0m\u001b[1;33m:\u001b[0m\u001b[1;33m\u001b[0m\u001b[0m\n\u001b[0;32m    268\u001b[0m                 \u001b[1;31m# This is still necessary, as a SSLError can actually be\u001b[0m\u001b[1;33m\u001b[0m\u001b[1;33m\u001b[0m\u001b[0m\n",
      "\u001b[1;32mC:\\Anaconda2\\lib\\site-packages\\tweepy\\streaming.pyc\u001b[0m in \u001b[0;36m_read_loop\u001b[1;34m(self, resp)\u001b[0m\n\u001b[0;32m    314\u001b[0m             \u001b[0mlength\u001b[0m \u001b[1;33m=\u001b[0m \u001b[1;36m0\u001b[0m\u001b[1;33m\u001b[0m\u001b[0m\n\u001b[0;32m    315\u001b[0m             \u001b[1;32mwhile\u001b[0m \u001b[1;32mnot\u001b[0m \u001b[0mresp\u001b[0m\u001b[1;33m.\u001b[0m\u001b[0mraw\u001b[0m\u001b[1;33m.\u001b[0m\u001b[0mclosed\u001b[0m\u001b[1;33m:\u001b[0m\u001b[1;33m\u001b[0m\u001b[0m\n\u001b[1;32m--> 316\u001b[1;33m                 \u001b[0mline\u001b[0m \u001b[1;33m=\u001b[0m \u001b[0mbuf\u001b[0m\u001b[1;33m.\u001b[0m\u001b[0mread_line\u001b[0m\u001b[1;33m(\u001b[0m\u001b[1;33m)\u001b[0m\u001b[1;33m.\u001b[0m\u001b[0mstrip\u001b[0m\u001b[1;33m(\u001b[0m\u001b[1;33m)\u001b[0m\u001b[1;33m\u001b[0m\u001b[0m\n\u001b[0m\u001b[0;32m    317\u001b[0m                 \u001b[1;32mif\u001b[0m \u001b[1;32mnot\u001b[0m \u001b[0mline\u001b[0m\u001b[1;33m:\u001b[0m\u001b[1;33m\u001b[0m\u001b[0m\n\u001b[0;32m    318\u001b[0m                     \u001b[0mself\u001b[0m\u001b[1;33m.\u001b[0m\u001b[0mlistener\u001b[0m\u001b[1;33m.\u001b[0m\u001b[0mkeep_alive\u001b[0m\u001b[1;33m(\u001b[0m\u001b[1;33m)\u001b[0m  \u001b[1;31m# keep-alive new lines are expected\u001b[0m\u001b[1;33m\u001b[0m\u001b[0m\n",
      "\u001b[1;32mC:\\Anaconda2\\lib\\site-packages\\tweepy\\streaming.pyc\u001b[0m in \u001b[0;36mread_line\u001b[1;34m(self, sep)\u001b[0m\n\u001b[0;32m    179\u001b[0m             \u001b[1;32melse\u001b[0m\u001b[1;33m:\u001b[0m\u001b[1;33m\u001b[0m\u001b[0m\n\u001b[0;32m    180\u001b[0m                 \u001b[0mstart\u001b[0m \u001b[1;33m=\u001b[0m \u001b[0mlen\u001b[0m\u001b[1;33m(\u001b[0m\u001b[0mself\u001b[0m\u001b[1;33m.\u001b[0m\u001b[0m_buffer\u001b[0m\u001b[1;33m)\u001b[0m\u001b[1;33m\u001b[0m\u001b[0m\n\u001b[1;32m--> 181\u001b[1;33m             \u001b[0mself\u001b[0m\u001b[1;33m.\u001b[0m\u001b[0m_buffer\u001b[0m \u001b[1;33m+=\u001b[0m \u001b[0mself\u001b[0m\u001b[1;33m.\u001b[0m\u001b[0m_stream\u001b[0m\u001b[1;33m.\u001b[0m\u001b[0mread\u001b[0m\u001b[1;33m(\u001b[0m\u001b[0mself\u001b[0m\u001b[1;33m.\u001b[0m\u001b[0m_chunk_size\u001b[0m\u001b[1;33m)\u001b[0m\u001b[1;33m\u001b[0m\u001b[0m\n\u001b[0m\u001b[0;32m    182\u001b[0m         \u001b[1;32mreturn\u001b[0m \u001b[0msix\u001b[0m\u001b[1;33m.\u001b[0m\u001b[0mb\u001b[0m\u001b[1;33m(\u001b[0m\u001b[1;34m''\u001b[0m\u001b[1;33m)\u001b[0m\u001b[1;33m\u001b[0m\u001b[0m\n\u001b[0;32m    183\u001b[0m \u001b[1;33m\u001b[0m\u001b[0m\n",
      "\u001b[1;32mC:\\Anaconda2\\lib\\site-packages\\urllib3\\response.pyc\u001b[0m in \u001b[0;36mread\u001b[1;34m(self, amt, decode_content, cache_content)\u001b[0m\n\u001b[0;32m    382\u001b[0m             \u001b[1;32melse\u001b[0m\u001b[1;33m:\u001b[0m\u001b[1;33m\u001b[0m\u001b[0m\n\u001b[0;32m    383\u001b[0m                 \u001b[0mcache_content\u001b[0m \u001b[1;33m=\u001b[0m \u001b[0mFalse\u001b[0m\u001b[1;33m\u001b[0m\u001b[0m\n\u001b[1;32m--> 384\u001b[1;33m                 \u001b[0mdata\u001b[0m \u001b[1;33m=\u001b[0m \u001b[0mself\u001b[0m\u001b[1;33m.\u001b[0m\u001b[0m_fp\u001b[0m\u001b[1;33m.\u001b[0m\u001b[0mread\u001b[0m\u001b[1;33m(\u001b[0m\u001b[0mamt\u001b[0m\u001b[1;33m)\u001b[0m\u001b[1;33m\u001b[0m\u001b[0m\n\u001b[0m\u001b[0;32m    385\u001b[0m                 \u001b[1;32mif\u001b[0m \u001b[0mamt\u001b[0m \u001b[1;33m!=\u001b[0m \u001b[1;36m0\u001b[0m \u001b[1;32mand\u001b[0m \u001b[1;32mnot\u001b[0m \u001b[0mdata\u001b[0m\u001b[1;33m:\u001b[0m  \u001b[1;31m# Platform-specific: Buggy versions of Python.\u001b[0m\u001b[1;33m\u001b[0m\u001b[0m\n\u001b[0;32m    386\u001b[0m                     \u001b[1;31m# Close the connection when no data is returned\u001b[0m\u001b[1;33m\u001b[0m\u001b[1;33m\u001b[0m\u001b[0m\n",
      "\u001b[1;32mC:\\Anaconda2\\lib\\httplib.pyc\u001b[0m in \u001b[0;36mread\u001b[1;34m(self, amt)\u001b[0m\n\u001b[0;32m    571\u001b[0m \u001b[1;33m\u001b[0m\u001b[0m\n\u001b[0;32m    572\u001b[0m         \u001b[1;32mif\u001b[0m \u001b[0mself\u001b[0m\u001b[1;33m.\u001b[0m\u001b[0mchunked\u001b[0m\u001b[1;33m:\u001b[0m\u001b[1;33m\u001b[0m\u001b[0m\n\u001b[1;32m--> 573\u001b[1;33m             \u001b[1;32mreturn\u001b[0m \u001b[0mself\u001b[0m\u001b[1;33m.\u001b[0m\u001b[0m_read_chunked\u001b[0m\u001b[1;33m(\u001b[0m\u001b[0mamt\u001b[0m\u001b[1;33m)\u001b[0m\u001b[1;33m\u001b[0m\u001b[0m\n\u001b[0m\u001b[0;32m    574\u001b[0m \u001b[1;33m\u001b[0m\u001b[0m\n\u001b[0;32m    575\u001b[0m         \u001b[1;32mif\u001b[0m \u001b[0mamt\u001b[0m \u001b[1;32mis\u001b[0m \u001b[0mNone\u001b[0m\u001b[1;33m:\u001b[0m\u001b[1;33m\u001b[0m\u001b[0m\n",
      "\u001b[1;32mC:\\Anaconda2\\lib\\httplib.pyc\u001b[0m in \u001b[0;36m_read_chunked\u001b[1;34m(self, amt)\u001b[0m\n\u001b[0;32m    613\u001b[0m         \u001b[1;32mwhile\u001b[0m \u001b[0mTrue\u001b[0m\u001b[1;33m:\u001b[0m\u001b[1;33m\u001b[0m\u001b[0m\n\u001b[0;32m    614\u001b[0m             \u001b[1;32mif\u001b[0m \u001b[0mchunk_left\u001b[0m \u001b[1;32mis\u001b[0m \u001b[0mNone\u001b[0m\u001b[1;33m:\u001b[0m\u001b[1;33m\u001b[0m\u001b[0m\n\u001b[1;32m--> 615\u001b[1;33m                 \u001b[0mline\u001b[0m \u001b[1;33m=\u001b[0m \u001b[0mself\u001b[0m\u001b[1;33m.\u001b[0m\u001b[0mfp\u001b[0m\u001b[1;33m.\u001b[0m\u001b[0mreadline\u001b[0m\u001b[1;33m(\u001b[0m\u001b[0m_MAXLINE\u001b[0m \u001b[1;33m+\u001b[0m \u001b[1;36m1\u001b[0m\u001b[1;33m)\u001b[0m\u001b[1;33m\u001b[0m\u001b[0m\n\u001b[0m\u001b[0;32m    616\u001b[0m                 \u001b[1;32mif\u001b[0m \u001b[0mlen\u001b[0m\u001b[1;33m(\u001b[0m\u001b[0mline\u001b[0m\u001b[1;33m)\u001b[0m \u001b[1;33m>\u001b[0m \u001b[0m_MAXLINE\u001b[0m\u001b[1;33m:\u001b[0m\u001b[1;33m\u001b[0m\u001b[0m\n\u001b[0;32m    617\u001b[0m                     \u001b[1;32mraise\u001b[0m \u001b[0mLineTooLong\u001b[0m\u001b[1;33m(\u001b[0m\u001b[1;34m\"chunk size\"\u001b[0m\u001b[1;33m)\u001b[0m\u001b[1;33m\u001b[0m\u001b[0m\n",
      "\u001b[1;32mC:\\Anaconda2\\lib\\socket.pyc\u001b[0m in \u001b[0;36mreadline\u001b[1;34m(self, size)\u001b[0m\n\u001b[0;32m    478\u001b[0m             \u001b[1;32mwhile\u001b[0m \u001b[0mTrue\u001b[0m\u001b[1;33m:\u001b[0m\u001b[1;33m\u001b[0m\u001b[0m\n\u001b[0;32m    479\u001b[0m                 \u001b[1;32mtry\u001b[0m\u001b[1;33m:\u001b[0m\u001b[1;33m\u001b[0m\u001b[0m\n\u001b[1;32m--> 480\u001b[1;33m                     \u001b[0mdata\u001b[0m \u001b[1;33m=\u001b[0m \u001b[0mself\u001b[0m\u001b[1;33m.\u001b[0m\u001b[0m_sock\u001b[0m\u001b[1;33m.\u001b[0m\u001b[0mrecv\u001b[0m\u001b[1;33m(\u001b[0m\u001b[0mself\u001b[0m\u001b[1;33m.\u001b[0m\u001b[0m_rbufsize\u001b[0m\u001b[1;33m)\u001b[0m\u001b[1;33m\u001b[0m\u001b[0m\n\u001b[0m\u001b[0;32m    481\u001b[0m                 \u001b[1;32mexcept\u001b[0m \u001b[0merror\u001b[0m\u001b[1;33m,\u001b[0m \u001b[0me\u001b[0m\u001b[1;33m:\u001b[0m\u001b[1;33m\u001b[0m\u001b[0m\n\u001b[0;32m    482\u001b[0m                     \u001b[1;32mif\u001b[0m \u001b[0me\u001b[0m\u001b[1;33m.\u001b[0m\u001b[0margs\u001b[0m\u001b[1;33m[\u001b[0m\u001b[1;36m0\u001b[0m\u001b[1;33m]\u001b[0m \u001b[1;33m==\u001b[0m \u001b[0mEINTR\u001b[0m\u001b[1;33m:\u001b[0m\u001b[1;33m\u001b[0m\u001b[0m\n",
      "\u001b[1;32mC:\\Anaconda2\\lib\\site-packages\\urllib3\\contrib\\pyopenssl.pyc\u001b[0m in \u001b[0;36mrecv\u001b[1;34m(self, *args, **kwargs)\u001b[0m\n\u001b[0;32m    265\u001b[0m                 \u001b[1;32mraise\u001b[0m\u001b[1;33m\u001b[0m\u001b[0m\n\u001b[0;32m    266\u001b[0m         \u001b[1;32mexcept\u001b[0m \u001b[0mOpenSSL\u001b[0m\u001b[1;33m.\u001b[0m\u001b[0mSSL\u001b[0m\u001b[1;33m.\u001b[0m\u001b[0mWantReadError\u001b[0m\u001b[1;33m:\u001b[0m\u001b[1;33m\u001b[0m\u001b[0m\n\u001b[1;32m--> 267\u001b[1;33m             \u001b[0mrd\u001b[0m \u001b[1;33m=\u001b[0m \u001b[0mutil\u001b[0m\u001b[1;33m.\u001b[0m\u001b[0mwait_for_read\u001b[0m\u001b[1;33m(\u001b[0m\u001b[0mself\u001b[0m\u001b[1;33m.\u001b[0m\u001b[0msocket\u001b[0m\u001b[1;33m,\u001b[0m \u001b[0mself\u001b[0m\u001b[1;33m.\u001b[0m\u001b[0msocket\u001b[0m\u001b[1;33m.\u001b[0m\u001b[0mgettimeout\u001b[0m\u001b[1;33m(\u001b[0m\u001b[1;33m)\u001b[0m\u001b[1;33m)\u001b[0m\u001b[1;33m\u001b[0m\u001b[0m\n\u001b[0m\u001b[0;32m    268\u001b[0m             \u001b[1;32mif\u001b[0m \u001b[1;32mnot\u001b[0m \u001b[0mrd\u001b[0m\u001b[1;33m:\u001b[0m\u001b[1;33m\u001b[0m\u001b[0m\n\u001b[0;32m    269\u001b[0m                 \u001b[1;32mraise\u001b[0m \u001b[0mtimeout\u001b[0m\u001b[1;33m(\u001b[0m\u001b[1;34m'The read operation timed out'\u001b[0m\u001b[1;33m)\u001b[0m\u001b[1;33m\u001b[0m\u001b[0m\n",
      "\u001b[1;32mC:\\Anaconda2\\lib\\site-packages\\urllib3\\util\\wait.pyc\u001b[0m in \u001b[0;36mwait_for_read\u001b[1;34m(socks, timeout)\u001b[0m\n\u001b[0;32m     31\u001b[0m     \u001b[1;32mor\u001b[0m \u001b[0moptionally\u001b[0m \u001b[0ma\u001b[0m \u001b[0msingle\u001b[0m \u001b[0msocket\u001b[0m \u001b[1;32mif\u001b[0m \u001b[0mpassed\u001b[0m \u001b[1;32min\u001b[0m\u001b[1;33m.\u001b[0m \u001b[0mReturns\u001b[0m \u001b[0ma\u001b[0m \u001b[0mlist\u001b[0m \u001b[0mof\u001b[0m\u001b[1;33m\u001b[0m\u001b[0m\n\u001b[0;32m     32\u001b[0m     sockets that can be read from immediately. \"\"\"\n\u001b[1;32m---> 33\u001b[1;33m     \u001b[1;32mreturn\u001b[0m \u001b[0m_wait_for_io_events\u001b[0m\u001b[1;33m(\u001b[0m\u001b[0msocks\u001b[0m\u001b[1;33m,\u001b[0m \u001b[0mEVENT_READ\u001b[0m\u001b[1;33m,\u001b[0m \u001b[0mtimeout\u001b[0m\u001b[1;33m)\u001b[0m\u001b[1;33m\u001b[0m\u001b[0m\n\u001b[0m\u001b[0;32m     34\u001b[0m \u001b[1;33m\u001b[0m\u001b[0m\n\u001b[0;32m     35\u001b[0m \u001b[1;33m\u001b[0m\u001b[0m\n",
      "\u001b[1;32mC:\\Anaconda2\\lib\\site-packages\\urllib3\\util\\wait.pyc\u001b[0m in \u001b[0;36m_wait_for_io_events\u001b[1;34m(socks, events, timeout)\u001b[0m\n\u001b[0;32m     24\u001b[0m             \u001b[0mselector\u001b[0m\u001b[1;33m.\u001b[0m\u001b[0mregister\u001b[0m\u001b[1;33m(\u001b[0m\u001b[0msock\u001b[0m\u001b[1;33m,\u001b[0m \u001b[0mevents\u001b[0m\u001b[1;33m)\u001b[0m\u001b[1;33m\u001b[0m\u001b[0m\n\u001b[0;32m     25\u001b[0m         return [key[0].fileobj for key in\n\u001b[1;32m---> 26\u001b[1;33m                 selector.select(timeout) if key[1] & events]\n\u001b[0m\u001b[0;32m     27\u001b[0m \u001b[1;33m\u001b[0m\u001b[0m\n\u001b[0;32m     28\u001b[0m \u001b[1;33m\u001b[0m\u001b[0m\n",
      "\u001b[1;32mC:\\Anaconda2\\lib\\site-packages\\urllib3\\util\\selectors.pyc\u001b[0m in \u001b[0;36mselect\u001b[1;34m(self, timeout)\u001b[0m\n\u001b[0;32m    318\u001b[0m             \u001b[0mready\u001b[0m \u001b[1;33m=\u001b[0m \u001b[1;33m[\u001b[0m\u001b[1;33m]\u001b[0m\u001b[1;33m\u001b[0m\u001b[0m\n\u001b[0;32m    319\u001b[0m             r, w, _ = _syscall_wrapper(self._select, True, self._readers,\n\u001b[1;32m--> 320\u001b[1;33m                                        self._writers, timeout)\n\u001b[0m\u001b[0;32m    321\u001b[0m             \u001b[0mr\u001b[0m \u001b[1;33m=\u001b[0m \u001b[0mset\u001b[0m\u001b[1;33m(\u001b[0m\u001b[0mr\u001b[0m\u001b[1;33m)\u001b[0m\u001b[1;33m\u001b[0m\u001b[0m\n\u001b[0;32m    322\u001b[0m             \u001b[0mw\u001b[0m \u001b[1;33m=\u001b[0m \u001b[0mset\u001b[0m\u001b[1;33m(\u001b[0m\u001b[0mw\u001b[0m\u001b[1;33m)\u001b[0m\u001b[1;33m\u001b[0m\u001b[0m\n",
      "\u001b[1;32mC:\\Anaconda2\\lib\\site-packages\\urllib3\\util\\selectors.pyc\u001b[0m in \u001b[0;36m_syscall_wrapper\u001b[1;34m(func, recalc_timeout, *args, **kwargs)\u001b[0m\n\u001b[0;32m     92\u001b[0m         \u001b[1;32mwhile\u001b[0m \u001b[0mresult\u001b[0m \u001b[1;32mis\u001b[0m \u001b[0m_SYSCALL_SENTINEL\u001b[0m\u001b[1;33m:\u001b[0m\u001b[1;33m\u001b[0m\u001b[0m\n\u001b[0;32m     93\u001b[0m             \u001b[1;32mtry\u001b[0m\u001b[1;33m:\u001b[0m\u001b[1;33m\u001b[0m\u001b[0m\n\u001b[1;32m---> 94\u001b[1;33m                 \u001b[0mresult\u001b[0m \u001b[1;33m=\u001b[0m \u001b[0mfunc\u001b[0m\u001b[1;33m(\u001b[0m\u001b[1;33m*\u001b[0m\u001b[0margs\u001b[0m\u001b[1;33m,\u001b[0m \u001b[1;33m**\u001b[0m\u001b[0mkwargs\u001b[0m\u001b[1;33m)\u001b[0m\u001b[1;33m\u001b[0m\u001b[0m\n\u001b[0m\u001b[0;32m     95\u001b[0m             \u001b[1;31m# OSError is thrown by select.select\u001b[0m\u001b[1;33m\u001b[0m\u001b[1;33m\u001b[0m\u001b[0m\n\u001b[0;32m     96\u001b[0m             \u001b[1;31m# IOError is thrown by select.epoll.poll\u001b[0m\u001b[1;33m\u001b[0m\u001b[1;33m\u001b[0m\u001b[0m\n",
      "\u001b[1;32mC:\\Anaconda2\\lib\\site-packages\\urllib3\\util\\selectors.pyc\u001b[0m in \u001b[0;36m_select\u001b[1;34m(self, r, w, timeout)\u001b[0m\n\u001b[0;32m    308\u001b[0m         \u001b[1;32mdef\u001b[0m \u001b[0m_select\u001b[0m\u001b[1;33m(\u001b[0m\u001b[0mself\u001b[0m\u001b[1;33m,\u001b[0m \u001b[0mr\u001b[0m\u001b[1;33m,\u001b[0m \u001b[0mw\u001b[0m\u001b[1;33m,\u001b[0m \u001b[0mtimeout\u001b[0m\u001b[1;33m=\u001b[0m\u001b[0mNone\u001b[0m\u001b[1;33m)\u001b[0m\u001b[1;33m:\u001b[0m\u001b[1;33m\u001b[0m\u001b[0m\n\u001b[0;32m    309\u001b[0m             \u001b[1;34m\"\"\" Wrapper for select.select because timeout is a positional arg \"\"\"\u001b[0m\u001b[1;33m\u001b[0m\u001b[0m\n\u001b[1;32m--> 310\u001b[1;33m             \u001b[1;32mreturn\u001b[0m \u001b[0mselect\u001b[0m\u001b[1;33m.\u001b[0m\u001b[0mselect\u001b[0m\u001b[1;33m(\u001b[0m\u001b[0mr\u001b[0m\u001b[1;33m,\u001b[0m \u001b[0mw\u001b[0m\u001b[1;33m,\u001b[0m \u001b[1;33m[\u001b[0m\u001b[1;33m]\u001b[0m\u001b[1;33m,\u001b[0m \u001b[0mtimeout\u001b[0m\u001b[1;33m)\u001b[0m\u001b[1;33m\u001b[0m\u001b[0m\n\u001b[0m\u001b[0;32m    311\u001b[0m \u001b[1;33m\u001b[0m\u001b[0m\n\u001b[0;32m    312\u001b[0m         \u001b[1;32mdef\u001b[0m \u001b[0mselect\u001b[0m\u001b[1;33m(\u001b[0m\u001b[0mself\u001b[0m\u001b[1;33m,\u001b[0m \u001b[0mtimeout\u001b[0m\u001b[1;33m=\u001b[0m\u001b[0mNone\u001b[0m\u001b[1;33m)\u001b[0m\u001b[1;33m:\u001b[0m\u001b[1;33m\u001b[0m\u001b[0m\n",
      "\u001b[1;31mKeyboardInterrupt\u001b[0m: "
     ]
    }
   ],
   "source": [
    "from tweepy import Stream\n",
    "from tweepy.streaming import StreamListener\n",
    "import json\n",
    "\n",
    "\n",
    "rawdata=[]\n",
    "    \n",
    "class MyListener(StreamListener):\n",
    " \n",
    "    def on_data(self, data):\n",
    "        try:\n",
    "            with open(r'D:\\GSkyDrive\\Qcfinance\\learners students\\Naveen Python\\Capstone Project\\cryptocapstone\\coin.json', 'a') as f:\n",
    "                f.write(data)\n",
    "                #json.dump(data, f)\n",
    "\n",
    "                #a = json.load(f)\n",
    "                rawdata.append(data)\n",
    "\n",
    "                print (data)\n",
    "                #f.close()\n",
    "                return True\n",
    "        except BaseException as e:\n",
    "            print(\"Error on_data: %s\" % str(e))\n",
    "        return True\n",
    " \n",
    "    def on_error(self, status):\n",
    "        print(status)\n",
    "        return True\n",
    " \n",
    "twitter_stream = Stream(auth, MyListener())\n",
    "twitter_stream.filter(track=['#coin'])\n",
    "#data"
   ]
  },
  {
   "cell_type": "code",
   "execution_count": 98,
   "metadata": {},
   "outputs": [
    {
     "data": {
      "text/plain": [
       "[u'{\"created_at\":\"Mon Mar 05 00:51:04 +0000 2018\",\"id\":970461660803751936,\"id_str\":\"970461660803751936\",\"text\":\"\\\\ud83d\\\\udcb0 ICO PRE-SALE: 35% BONUS \\\\ud83d\\\\udcb0\\\\n\\\\nTOKIA: free Cryptocurrency exchange is now possible!\\\\n\\\\nGET BONUS here:\\\\u2026 https:\\\\/\\\\/t.co\\\\/Kv4vbvuLio\",\"display_text_range\":[0,140],\"source\":\"\\\\u003ca href=\\\\\"https:\\\\/\\\\/google.com\\\\/\\\\\" rel=\\\\\"nofollow\\\\\"\\\\u003eDanny Cryptocurrency Scouter\\\\u003c\\\\/a\\\\u003e\",\"truncated\":true,\"in_reply_to_status_id\":null,\"in_reply_to_status_id_str\":null,\"in_reply_to_user_id\":null,\"in_reply_to_user_id_str\":null,\"in_reply_to_screen_name\":null,\"user\":{\"id\":941272231069519872,\"id_str\":\"941272231069519872\",\"name\":\"Daniel Morrison\",\"screen_name\":\"CryptoScout79\",\"location\":null,\"url\":null,\"description\":null,\"translator_type\":\"none\",\"protected\":false,\"verified\":false,\"followers_count\":4,\"friends_count\":0,\"listed_count\":0,\"favourites_count\":0,\"statuses_count\":4482,\"created_at\":\"Thu Dec 14 11:42:42 +0000 2017\",\"utc_offset\":null,\"time_zone\":null,\"geo_enabled\":false,\"lang\":\"it\",\"contributors_enabled\":false,\"is_translator\":false,\"profile_background_color\":\"F5F8FA\",\"profile_background_image_url\":\"\",\"profile_background_image_url_https\":\"\",\"profile_background_tile\":false,\"profile_link_color\":\"1DA1F2\",\"profile_sidebar_border_color\":\"C0DEED\",\"profile_sidebar_fill_color\":\"DDEEF6\",\"profile_text_color\":\"333333\",\"profile_use_background_image\":true,\"profile_image_url\":\"http:\\\\/\\\\/pbs.twimg.com\\\\/profile_images\\\\/941273513922650113\\\\/rp4kYctt_normal.jpg\",\"profile_image_url_https\":\"https:\\\\/\\\\/pbs.twimg.com\\\\/profile_images\\\\/941273513922650113\\\\/rp4kYctt_normal.jpg\",\"default_profile\":true,\"default_profile_image\":false,\"following\":null,\"follow_request_sent\":null,\"notifications\":null},\"geo\":null,\"coordinates\":null,\"place\":null,\"contributors\":null,\"is_quote_status\":false,\"extended_tweet\":{\"full_text\":\"\\\\ud83d\\\\udcb0 ICO PRE-SALE: 35% BONUS \\\\ud83d\\\\udcb0\\\\n\\\\nTOKIA: free Cryptocurrency exchange is now possible!\\\\n\\\\nGET BONUS here: https:\\\\/\\\\/t.co\\\\/4W3svHQ0BD \\\\u2b05\\\\ufe0f\\\\n\\\\n#bch #ethereum #startup #deals #bitcoincash #binance #trade #fintech #erc20 #bonus #airdrop #fx #token #market #coin #stocks #bitcoin https:\\\\/\\\\/t.co\\\\/X6aN7snk6k\",\"display_text_range\":[0,260],\"entities\":{\"hashtags\":[{\"text\":\"bch\",\"indices\":[127,131]},{\"text\":\"ethereum\",\"indices\":[132,141]},{\"text\":\"startup\",\"indices\":[142,150]},{\"text\":\"deals\",\"indices\":[151,157]},{\"text\":\"bitcoincash\",\"indices\":[158,170]},{\"text\":\"binance\",\"indices\":[171,179]},{\"text\":\"trade\",\"indices\":[180,186]},{\"text\":\"fintech\",\"indices\":[187,195]},{\"text\":\"erc20\",\"indices\":[196,202]},{\"text\":\"bonus\",\"indices\":[203,209]},{\"text\":\"airdrop\",\"indices\":[210,218]},{\"text\":\"fx\",\"indices\":[219,222]},{\"text\":\"token\",\"indices\":[223,229]},{\"text\":\"market\",\"indices\":[230,237]},{\"text\":\"coin\",\"indices\":[238,243]},{\"text\":\"stocks\",\"indices\":[244,251]},{\"text\":\"bitcoin\",\"indices\":[252,260]}],\"urls\":[{\"url\":\"https:\\\\/\\\\/t.co\\\\/4W3svHQ0BD\",\"expanded_url\":\"https:\\\\/\\\\/goo.gl\\\\/9L72kt\",\"display_url\":\"goo.gl\\\\/9L72kt\",\"indices\":[99,122]}],\"user_mentions\":[],\"symbols\":[],\"media\":[{\"id\":970461656814940160,\"id_str\":\"970461656814940160\",\"indices\":[261,284],\"media_url\":\"http:\\\\/\\\\/pbs.twimg.com\\\\/media\\\\/DXfFvDKXcAAzSxp.jpg\",\"media_url_https\":\"https:\\\\/\\\\/pbs.twimg.com\\\\/media\\\\/DXfFvDKXcAAzSxp.jpg\",\"url\":\"https:\\\\/\\\\/t.co\\\\/X6aN7snk6k\",\"display_url\":\"pic.twitter.com\\\\/X6aN7snk6k\",\"expanded_url\":\"https:\\\\/\\\\/twitter.com\\\\/CryptoScout79\\\\/status\\\\/970461660803751936\\\\/photo\\\\/1\",\"type\":\"photo\",\"sizes\":{\"thumb\":{\"w\":150,\"h\":150,\"resize\":\"crop\"},\"large\":{\"w\":587,\"h\":264,\"resize\":\"fit\"},\"medium\":{\"w\":587,\"h\":264,\"resize\":\"fit\"},\"small\":{\"w\":587,\"h\":264,\"resize\":\"fit\"}}}]},\"extended_entities\":{\"media\":[{\"id\":970461656814940160,\"id_str\":\"970461656814940160\",\"indices\":[261,284],\"media_url\":\"http:\\\\/\\\\/pbs.twimg.com\\\\/media\\\\/DXfFvDKXcAAzSxp.jpg\",\"media_url_https\":\"https:\\\\/\\\\/pbs.twimg.com\\\\/media\\\\/DXfFvDKXcAAzSxp.jpg\",\"url\":\"https:\\\\/\\\\/t.co\\\\/X6aN7snk6k\",\"display_url\":\"pic.twitter.com\\\\/X6aN7snk6k\",\"expanded_url\":\"https:\\\\/\\\\/twitter.com\\\\/CryptoScout79\\\\/status\\\\/970461660803751936\\\\/photo\\\\/1\",\"type\":\"photo\",\"sizes\":{\"thumb\":{\"w\":150,\"h\":150,\"resize\":\"crop\"},\"large\":{\"w\":587,\"h\":264,\"resize\":\"fit\"},\"medium\":{\"w\":587,\"h\":264,\"resize\":\"fit\"},\"small\":{\"w\":587,\"h\":264,\"resize\":\"fit\"}}}]}},\"quote_count\":0,\"reply_count\":0,\"retweet_count\":0,\"favorite_count\":0,\"entities\":{\"hashtags\":[],\"urls\":[{\"url\":\"https:\\\\/\\\\/t.co\\\\/Kv4vbvuLio\",\"expanded_url\":\"https:\\\\/\\\\/twitter.com\\\\/i\\\\/web\\\\/status\\\\/970461660803751936\",\"display_url\":\"twitter.com\\\\/i\\\\/web\\\\/status\\\\/9\\\\u2026\",\"indices\":[100,123]}],\"user_mentions\":[],\"symbols\":[]},\"favorited\":false,\"retweeted\":false,\"possibly_sensitive\":false,\"filter_level\":\"low\",\"lang\":\"en\",\"timestamp_ms\":\"1520211064898\"}\\r\\n',\n",
       " u'{\"created_at\":\"Mon Mar 05 00:51:41 +0000 2018\",\"id\":970461812301819904,\"id_str\":\"970461812301819904\",\"text\":\"Micah Adams \\\\\"I like finding new uses for things\\\\\"\\\\nhttps:\\\\/\\\\/t.co\\\\/yWjzQH0umJ\\\\n#art #Toronto #coin #details #film #artist #fun\",\"source\":\"\\\\u003ca href=\\\\\"http:\\\\/\\\\/twittbot.net\\\\/\\\\\" rel=\\\\\"nofollow\\\\\"\\\\u003etwittbot.net\\\\u003c\\\\/a\\\\u003e\",\"truncated\":false,\"in_reply_to_status_id\":null,\"in_reply_to_status_id_str\":null,\"in_reply_to_user_id\":null,\"in_reply_to_user_id_str\":null,\"in_reply_to_screen_name\":null,\"user\":{\"id\":2187081404,\"id_str\":\"2187081404\",\"name\":\"FILMARTIST\",\"screen_name\":\"filmartist_ca\",\"location\":\"Toronto, Canada\",\"url\":\"http:\\\\/\\\\/filmartist.ca\\\\/\",\"description\":\"Paris Zheng+Yuya Saito | TO-JPN-CHN #Motion + #Design + #Style |\\\\ud83c\\\\udfac We See #Art in Everything | Digital Contents Marketing \\\\u2728Contact us on Instagram or Website!\",\"translator_type\":\"none\",\"protected\":false,\"verified\":false,\"followers_count\":7958,\"friends_count\":6993,\"listed_count\":466,\"favourites_count\":263,\"statuses_count\":28300,\"created_at\":\"Sun Nov 10 20:21:49 +0000 2013\",\"utc_offset\":-18000,\"time_zone\":\"Eastern Time (US & Canada)\",\"geo_enabled\":false,\"lang\":\"en\",\"contributors_enabled\":false,\"is_translator\":false,\"profile_background_color\":\"ABB8C2\",\"profile_background_image_url\":\"http:\\\\/\\\\/pbs.twimg.com\\\\/profile_background_images\\\\/539859599633825792\\\\/rCDDUpX2.jpeg\",\"profile_background_image_url_https\":\"https:\\\\/\\\\/pbs.twimg.com\\\\/profile_background_images\\\\/539859599633825792\\\\/rCDDUpX2.jpeg\",\"profile_background_tile\":true,\"profile_link_color\":\"5D2971\",\"profile_sidebar_border_color\":\"000000\",\"profile_sidebar_fill_color\":\"000000\",\"profile_text_color\":\"000000\",\"profile_use_background_image\":false,\"profile_image_url\":\"http:\\\\/\\\\/pbs.twimg.com\\\\/profile_images\\\\/840383330197598209\\\\/IyQ84QWY_normal.jpg\",\"profile_image_url_https\":\"https:\\\\/\\\\/pbs.twimg.com\\\\/profile_images\\\\/840383330197598209\\\\/IyQ84QWY_normal.jpg\",\"profile_banner_url\":\"https:\\\\/\\\\/pbs.twimg.com\\\\/profile_banners\\\\/2187081404\\\\/1436248273\",\"default_profile\":false,\"default_profile_image\":false,\"following\":null,\"follow_request_sent\":null,\"notifications\":null},\"geo\":null,\"coordinates\":null,\"place\":null,\"contributors\":null,\"is_quote_status\":false,\"quote_count\":0,\"reply_count\":0,\"retweet_count\":0,\"favorite_count\":0,\"entities\":{\"hashtags\":[{\"text\":\"art\",\"indices\":[73,77]},{\"text\":\"Toronto\",\"indices\":[78,86]},{\"text\":\"coin\",\"indices\":[87,92]},{\"text\":\"details\",\"indices\":[93,101]},{\"text\":\"film\",\"indices\":[102,107]},{\"text\":\"artist\",\"indices\":[108,115]},{\"text\":\"fun\",\"indices\":[116,120]}],\"urls\":[{\"url\":\"https:\\\\/\\\\/t.co\\\\/yWjzQH0umJ\",\"expanded_url\":\"https:\\\\/\\\\/www.patreon.com\\\\/posts\\\\/micah-adams-i-7181106\",\"display_url\":\"patreon.com\\\\/posts\\\\/micah-ad\\\\u2026\",\"indices\":[49,72]}],\"user_mentions\":[],\"symbols\":[]},\"favorited\":false,\"retweeted\":false,\"possibly_sensitive\":false,\"filter_level\":\"low\",\"lang\":\"en\",\"timestamp_ms\":\"1520211101018\"}\\r\\n',\n",
       " u'{\"created_at\":\"Mon Mar 05 00:51:44 +0000 2018\",\"id\":970461826470285312,\"id_str\":\"970461826470285312\",\"text\":\"\\\\ud83d\\\\ude4c YASSS It\\'s time for a great show \\\\ud83d\\\\udd25LS\\\\ud83d\\\\udd25JORDAN\\\\ud83d\\\\udd25:#Lvl\\\\ud83c\\\\udd99Party\\\\ud83c\\\\udf89 #Coin\\\\nhttps:\\\\/\\\\/t.co\\\\/ZTvV6hQwzP https:\\\\/\\\\/t.co\\\\/4XzfVk3Pjc\",\"display_text_range\":[0,88],\"source\":\"\\\\u003ca href=\\\\\"http:\\\\/\\\\/www.cmcm.com\\\\/\\\\\" rel=\\\\\"nofollow\\\\\"\\\\u003eLive.me \\\\u003c\\\\/a\\\\u003e\",\"truncated\":false,\"in_reply_to_status_id\":null,\"in_reply_to_status_id_str\":null,\"in_reply_to_user_id\":null,\"in_reply_to_user_id_str\":null,\"in_reply_to_screen_name\":null,\"user\":{\"id\":905806237807325184,\"id_str\":\"905806237807325184\",\"name\":\"Melissa Marie\",\"screen_name\":\"missyoox\",\"location\":null,\"url\":null,\"description\":null,\"translator_type\":\"none\",\"protected\":false,\"verified\":false,\"followers_count\":4,\"friends_count\":56,\"listed_count\":0,\"favourites_count\":4,\"statuses_count\":1014,\"created_at\":\"Thu Sep 07 14:53:31 +0000 2017\",\"utc_offset\":null,\"time_zone\":null,\"geo_enabled\":false,\"lang\":\"en\",\"contributors_enabled\":false,\"is_translator\":false,\"profile_background_color\":\"F5F8FA\",\"profile_background_image_url\":\"\",\"profile_background_image_url_https\":\"\",\"profile_background_tile\":false,\"profile_link_color\":\"1DA1F2\",\"profile_sidebar_border_color\":\"C0DEED\",\"profile_sidebar_fill_color\":\"DDEEF6\",\"profile_text_color\":\"333333\",\"profile_use_background_image\":true,\"profile_image_url\":\"http:\\\\/\\\\/abs.twimg.com\\\\/sticky\\\\/default_profile_images\\\\/default_profile_normal.png\",\"profile_image_url_https\":\"https:\\\\/\\\\/abs.twimg.com\\\\/sticky\\\\/default_profile_images\\\\/default_profile_normal.png\",\"default_profile\":true,\"default_profile_image\":false,\"following\":null,\"follow_request_sent\":null,\"notifications\":null},\"geo\":null,\"coordinates\":null,\"place\":null,\"contributors\":null,\"is_quote_status\":false,\"quote_count\":0,\"reply_count\":0,\"retweet_count\":0,\"favorite_count\":0,\"entities\":{\"hashtags\":[{\"text\":\"Lvl\",\"indices\":[47,51]},{\"text\":\"Coin\",\"indices\":[59,64]}],\"urls\":[{\"url\":\"https:\\\\/\\\\/t.co\\\\/ZTvV6hQwzP\",\"expanded_url\":\"https:\\\\/\\\\/www.liveme.com\\\\/share\\\\/index_live.php?title=%23Lvl%F0%9F%86%99Party%F0%9F%8E%89+%23CoinDrop+%23LiTyCiTy%F0%9F%94%A5&pic=http:\\\\/\\\\/live.store.cmcm.com\\\\/big\\\\/liveme\\\\/poster\\\\/f0e60b661fcf2195f54ee2bc50156eb2_icon.jpeg&url=http%3A%2F%2Fwww.liveme.com%2Fmedia%2Fliveshort%2Fdist%2F%3Fvideoid%3D15202083818953945074%26area%3DA_US%26countryCode%3DUS%26topDown%3D1%26s%3D826830988671057920%26shareto%3DTwitter\",\"display_url\":\"liveme.com\\\\/share\\\\/index_li\\\\u2026\",\"indices\":[65,88]}],\"user_mentions\":[],\"symbols\":[],\"media\":[{\"id\":970461824356405254,\"id_str\":\"970461824356405254\",\"indices\":[89,112],\"media_url\":\"http:\\\\/\\\\/pbs.twimg.com\\\\/media\\\\/DXfF4zTXUAYeeWd.jpg\",\"media_url_https\":\"https:\\\\/\\\\/pbs.twimg.com\\\\/media\\\\/DXfF4zTXUAYeeWd.jpg\",\"url\":\"https:\\\\/\\\\/t.co\\\\/4XzfVk3Pjc\",\"display_url\":\"pic.twitter.com\\\\/4XzfVk3Pjc\",\"expanded_url\":\"https:\\\\/\\\\/twitter.com\\\\/missyoox\\\\/status\\\\/970461826470285312\\\\/photo\\\\/1\",\"type\":\"photo\",\"sizes\":{\"thumb\":{\"w\":150,\"h\":150,\"resize\":\"crop\"},\"small\":{\"w\":680,\"h\":680,\"resize\":\"fit\"},\"medium\":{\"w\":720,\"h\":720,\"resize\":\"fit\"},\"large\":{\"w\":720,\"h\":720,\"resize\":\"fit\"}}}]},\"extended_entities\":{\"media\":[{\"id\":970461824356405254,\"id_str\":\"970461824356405254\",\"indices\":[89,112],\"media_url\":\"http:\\\\/\\\\/pbs.twimg.com\\\\/media\\\\/DXfF4zTXUAYeeWd.jpg\",\"media_url_https\":\"https:\\\\/\\\\/pbs.twimg.com\\\\/media\\\\/DXfF4zTXUAYeeWd.jpg\",\"url\":\"https:\\\\/\\\\/t.co\\\\/4XzfVk3Pjc\",\"display_url\":\"pic.twitter.com\\\\/4XzfVk3Pjc\",\"expanded_url\":\"https:\\\\/\\\\/twitter.com\\\\/missyoox\\\\/status\\\\/970461826470285312\\\\/photo\\\\/1\",\"type\":\"photo\",\"sizes\":{\"thumb\":{\"w\":150,\"h\":150,\"resize\":\"crop\"},\"small\":{\"w\":680,\"h\":680,\"resize\":\"fit\"},\"medium\":{\"w\":720,\"h\":720,\"resize\":\"fit\"},\"large\":{\"w\":720,\"h\":720,\"resize\":\"fit\"}}}]},\"favorited\":false,\"retweeted\":false,\"possibly_sensitive\":false,\"filter_level\":\"low\",\"lang\":\"en\",\"timestamp_ms\":\"1520211104396\"}\\r\\n',\n",
       " u'{\"created_at\":\"Mon Mar 05 00:52:01 +0000 2018\",\"id\":970461898259877888,\"id_str\":\"970461898259877888\",\"text\":\"RT @travelflexcoin: TRF team is growing! We have hired 1 senior and 2 junior Web Developers from Holland. We will give all the infos about\\\\u2026\",\"source\":\"\\\\u003ca href=\\\\\"http:\\\\/\\\\/twitter.com\\\\/download\\\\/iphone\\\\\" rel=\\\\\"nofollow\\\\\"\\\\u003eTwitter for iPhone\\\\u003c\\\\/a\\\\u003e\",\"truncated\":false,\"in_reply_to_status_id\":null,\"in_reply_to_status_id_str\":null,\"in_reply_to_user_id\":null,\"in_reply_to_user_id_str\":null,\"in_reply_to_screen_name\":null,\"user\":{\"id\":941706362269995008,\"id_str\":\"941706362269995008\",\"name\":\"heyhey\",\"screen_name\":\"heyhey0628\",\"location\":null,\"url\":null,\"description\":\"\\\\u30cf\\\\u30a4\\\\u30d5\\\\u30a1\\\\u30a4\\\\u8d85\\\\u5c0f\\\\u898f\\\\u6a21\\\\u30af\\\\u30e9\\\\u30de\\\\u30b9__(\\\\u2312(_ \\\\u00b4-\\\\u03c9\\\\uff65)\\\\u2584\\\\ufe3b\\\\u253b\\\\u2533\\\\u2550\\\\u2550\\\\u2501\\\\u3067\\\\u3082\\\\u6700\\\\u8fd1\\\\u306f\\\\u4eee\\\\u60f3\\\\u901a\\\\u8ca8\\\\u306e\\\\u30c1\\\\u30e3\\\\u30fc\\\\u30c8\\\\u898b\\\\u3059\\\\u304e\\\\u3066\\\\u30b2\\\\u30fc\\\\u30e0\\\\u6642\\\\u9593\\\\u534a\\\\u6e1bw\\\\u4ed5\\\\u4e8b\\\\u306f\\\\u60c5\\\\u5f31\\\\u306e\\\\u30de\\\\u30cd\\\\u30fc\\\\u30b8\\\\u30e3\\\\u30fc\\\\u3002\\\\u3088\\\\u308d\\\\u3057\\\\u304f\\\\u3067\\\\u3059\\\\ud83d\\\\ude07\",\"translator_type\":\"none\",\"protected\":false,\"verified\":false,\"followers_count\":82,\"friends_count\":102,\"listed_count\":0,\"favourites_count\":1019,\"statuses_count\":854,\"created_at\":\"Fri Dec 15 16:27:47 +0000 2017\",\"utc_offset\":null,\"time_zone\":null,\"geo_enabled\":false,\"lang\":\"ja\",\"contributors_enabled\":false,\"is_translator\":false,\"profile_background_color\":\"F5F8FA\",\"profile_background_image_url\":\"\",\"profile_background_image_url_https\":\"\",\"profile_background_tile\":false,\"profile_link_color\":\"1DA1F2\",\"profile_sidebar_border_color\":\"C0DEED\",\"profile_sidebar_fill_color\":\"DDEEF6\",\"profile_text_color\":\"333333\",\"profile_use_background_image\":true,\"profile_image_url\":\"http:\\\\/\\\\/pbs.twimg.com\\\\/profile_images\\\\/941707898991738880\\\\/lxvNEO4G_normal.jpg\",\"profile_image_url_https\":\"https:\\\\/\\\\/pbs.twimg.com\\\\/profile_images\\\\/941707898991738880\\\\/lxvNEO4G_normal.jpg\",\"profile_banner_url\":\"https:\\\\/\\\\/pbs.twimg.com\\\\/profile_banners\\\\/941706362269995008\\\\/1516728148\",\"default_profile\":true,\"default_profile_image\":false,\"following\":null,\"follow_request_sent\":null,\"notifications\":null},\"geo\":null,\"coordinates\":null,\"place\":null,\"contributors\":null,\"retweeted_status\":{\"created_at\":\"Sun Mar 04 17:30:26 +0000 2018\",\"id\":970350771236737025,\"id_str\":\"970350771236737025\",\"text\":\"TRF team is growing! We have hired 1 senior and 2 junior Web Developers from Holland. We will give all the infos ab\\\\u2026 https:\\\\/\\\\/t.co\\\\/o7HvfbPwL4\",\"source\":\"\\\\u003ca href=\\\\\"http:\\\\/\\\\/twitter.com\\\\\" rel=\\\\\"nofollow\\\\\"\\\\u003eTwitter Web Client\\\\u003c\\\\/a\\\\u003e\",\"truncated\":true,\"in_reply_to_status_id\":null,\"in_reply_to_status_id_str\":null,\"in_reply_to_user_id\":null,\"in_reply_to_user_id_str\":null,\"in_reply_to_screen_name\":null,\"user\":{\"id\":915075539106390023,\"id_str\":\"915075539106390023\",\"name\":\"Travelflexcoin\",\"screen_name\":\"travelflexcoin\",\"location\":null,\"url\":\"http:\\\\/\\\\/travelflex.org\",\"description\":\"Travelflex is a decentralized social travel network. Connecting the Travel Industry to Blockchain.\",\"translator_type\":\"none\",\"protected\":false,\"verified\":false,\"followers_count\":4733,\"friends_count\":27,\"listed_count\":37,\"favourites_count\":307,\"statuses_count\":290,\"created_at\":\"Tue Oct 03 04:46:24 +0000 2017\",\"utc_offset\":null,\"time_zone\":null,\"geo_enabled\":false,\"lang\":\"en\",\"contributors_enabled\":false,\"is_translator\":false,\"profile_background_color\":\"F5F8FA\",\"profile_background_image_url\":\"\",\"profile_background_image_url_https\":\"\",\"profile_background_tile\":false,\"profile_link_color\":\"1DA1F2\",\"profile_sidebar_border_color\":\"C0DEED\",\"profile_sidebar_fill_color\":\"DDEEF6\",\"profile_text_color\":\"333333\",\"profile_use_background_image\":true,\"profile_image_url\":\"http:\\\\/\\\\/pbs.twimg.com\\\\/profile_images\\\\/945590606637580288\\\\/IzL5DMP8_normal.jpg\",\"profile_image_url_https\":\"https:\\\\/\\\\/pbs.twimg.com\\\\/profile_images\\\\/945590606637580288\\\\/IzL5DMP8_normal.jpg\",\"profile_banner_url\":\"https:\\\\/\\\\/pbs.twimg.com\\\\/profile_banners\\\\/915075539106390023\\\\/1518729123\",\"default_profile\":true,\"default_profile_image\":false,\"following\":null,\"follow_request_sent\":null,\"notifications\":null},\"geo\":null,\"coordinates\":null,\"place\":null,\"contributors\":null,\"is_quote_status\":false,\"extended_tweet\":{\"full_text\":\"TRF team is growing! We have hired 1 senior and 2 junior Web Developers from Holland. We will give all the infos about them soon. \\\\n\\\\n#travelflex #developer #team #coin #newpeople\",\"display_text_range\":[0,177],\"entities\":{\"hashtags\":[{\"text\":\"travelflex\",\"indices\":[132,143]},{\"text\":\"developer\",\"indices\":[144,154]},{\"text\":\"team\",\"indices\":[155,160]},{\"text\":\"coin\",\"indices\":[161,166]},{\"text\":\"newpeople\",\"indices\":[167,177]}],\"urls\":[],\"user_mentions\":[],\"symbols\":[]}},\"quote_count\":2,\"reply_count\":7,\"retweet_count\":29,\"favorite_count\":82,\"entities\":{\"hashtags\":[],\"urls\":[{\"url\":\"https:\\\\/\\\\/t.co\\\\/o7HvfbPwL4\",\"expanded_url\":\"https:\\\\/\\\\/twitter.com\\\\/i\\\\/web\\\\/status\\\\/970350771236737025\",\"display_url\":\"twitter.com\\\\/i\\\\/web\\\\/status\\\\/9\\\\u2026\",\"indices\":[117,140]}],\"user_mentions\":[],\"symbols\":[]},\"favorited\":false,\"retweeted\":false,\"filter_level\":\"low\",\"lang\":\"en\"},\"is_quote_status\":false,\"quote_count\":0,\"reply_count\":0,\"retweet_count\":0,\"favorite_count\":0,\"entities\":{\"hashtags\":[],\"urls\":[],\"user_mentions\":[{\"screen_name\":\"travelflexcoin\",\"name\":\"Travelflexcoin\",\"id\":915075539106390023,\"id_str\":\"915075539106390023\",\"indices\":[3,18]}],\"symbols\":[]},\"favorited\":false,\"retweeted\":false,\"filter_level\":\"low\",\"lang\":\"en\",\"timestamp_ms\":\"1520211121512\"}\\r\\n']"
      ]
     },
     "execution_count": 98,
     "metadata": {},
     "output_type": "execute_result"
    }
   ],
   "source": [
    "rawdata"
   ]
  },
  {
   "cell_type": "code",
   "execution_count": 99,
   "metadata": {},
   "outputs": [
    {
     "name": "stdout",
     "output_type": "stream",
     "text": [
      "{\n",
      "    \"quote_count\": 0, \n",
      "    \"contributors\": null, \n",
      "    \"truncated\": true, \n",
      "    \"text\": \"\\ud83d\\udcb0 ICO PRE-SALE: 35% BONUS \\ud83d\\udcb0\\n\\nTOKIA: free Cryptocurrency exchange is now possible!\\n\\nGET BONUS here:\\u2026 https://t.co/Kv4vbvuLio\", \n",
      "    \"is_quote_status\": false, \n",
      "    \"in_reply_to_status_id\": null, \n",
      "    \"reply_count\": 0, \n",
      "    \"id\": 970461660803751936, \n",
      "    \"favorite_count\": 0, \n",
      "    \"entities\": {\n",
      "        \"user_mentions\": [], \n",
      "        \"symbols\": [], \n",
      "        \"hashtags\": [], \n",
      "        \"urls\": [\n",
      "            {\n",
      "                \"url\": \"https://t.co/Kv4vbvuLio\", \n",
      "                \"indices\": [\n",
      "                    100, \n",
      "                    123\n",
      "                ], \n",
      "                \"expanded_url\": \"https://twitter.com/i/web/status/970461660803751936\", \n",
      "                \"display_url\": \"twitter.com/i/web/status/9\\u2026\"\n",
      "            }\n",
      "        ]\n",
      "    }, \n",
      "    \"retweeted\": false, \n",
      "    \"coordinates\": null, \n",
      "    \"timestamp_ms\": \"1520211064898\", \n",
      "    \"source\": \"<a href=\\\"https://google.com/\\\" rel=\\\"nofollow\\\">Danny Cryptocurrency Scouter</a>\", \n",
      "    \"in_reply_to_screen_name\": null, \n",
      "    \"id_str\": \"970461660803751936\", \n",
      "    \"display_text_range\": [\n",
      "        0, \n",
      "        140\n",
      "    ], \n",
      "    \"retweet_count\": 0, \n",
      "    \"in_reply_to_user_id\": null, \n",
      "    \"favorited\": false, \n",
      "    \"user\": {\n",
      "        \"follow_request_sent\": null, \n",
      "        \"profile_use_background_image\": true, \n",
      "        \"default_profile_image\": false, \n",
      "        \"id\": 941272231069519872, \n",
      "        \"default_profile\": true, \n",
      "        \"verified\": false, \n",
      "        \"profile_image_url_https\": \"https://pbs.twimg.com/profile_images/941273513922650113/rp4kYctt_normal.jpg\", \n",
      "        \"profile_sidebar_fill_color\": \"DDEEF6\", \n",
      "        \"profile_text_color\": \"333333\", \n",
      "        \"followers_count\": 4, \n",
      "        \"profile_sidebar_border_color\": \"C0DEED\", \n",
      "        \"id_str\": \"941272231069519872\", \n",
      "        \"profile_background_color\": \"F5F8FA\", \n",
      "        \"listed_count\": 0, \n",
      "        \"profile_background_image_url_https\": \"\", \n",
      "        \"utc_offset\": null, \n",
      "        \"statuses_count\": 4482, \n",
      "        \"description\": null, \n",
      "        \"friends_count\": 0, \n",
      "        \"location\": null, \n",
      "        \"profile_link_color\": \"1DA1F2\", \n",
      "        \"profile_image_url\": \"http://pbs.twimg.com/profile_images/941273513922650113/rp4kYctt_normal.jpg\", \n",
      "        \"following\": null, \n",
      "        \"geo_enabled\": false, \n",
      "        \"profile_background_image_url\": \"\", \n",
      "        \"name\": \"Daniel Morrison\", \n",
      "        \"lang\": \"it\", \n",
      "        \"profile_background_tile\": false, \n",
      "        \"favourites_count\": 0, \n",
      "        \"screen_name\": \"CryptoScout79\", \n",
      "        \"notifications\": null, \n",
      "        \"url\": null, \n",
      "        \"created_at\": \"Thu Dec 14 11:42:42 +0000 2017\", \n",
      "        \"contributors_enabled\": false, \n",
      "        \"time_zone\": null, \n",
      "        \"protected\": false, \n",
      "        \"translator_type\": \"none\", \n",
      "        \"is_translator\": false\n",
      "    }, \n",
      "    \"geo\": null, \n",
      "    \"in_reply_to_user_id_str\": null, \n",
      "    \"possibly_sensitive\": false, \n",
      "    \"lang\": \"en\", \n",
      "    \"extended_tweet\": {\n",
      "        \"display_text_range\": [\n",
      "            0, \n",
      "            260\n",
      "        ], \n",
      "        \"entities\": {\n",
      "            \"user_mentions\": [], \n",
      "            \"symbols\": [], \n",
      "            \"hashtags\": [\n",
      "                {\n",
      "                    \"indices\": [\n",
      "                        127, \n",
      "                        131\n",
      "                    ], \n",
      "                    \"text\": \"bch\"\n",
      "                }, \n",
      "                {\n",
      "                    \"indices\": [\n",
      "                        132, \n",
      "                        141\n",
      "                    ], \n",
      "                    \"text\": \"ethereum\"\n",
      "                }, \n",
      "                {\n",
      "                    \"indices\": [\n",
      "                        142, \n",
      "                        150\n",
      "                    ], \n",
      "                    \"text\": \"startup\"\n",
      "                }, \n",
      "                {\n",
      "                    \"indices\": [\n",
      "                        151, \n",
      "                        157\n",
      "                    ], \n",
      "                    \"text\": \"deals\"\n",
      "                }, \n",
      "                {\n",
      "                    \"indices\": [\n",
      "                        158, \n",
      "                        170\n",
      "                    ], \n",
      "                    \"text\": \"bitcoincash\"\n",
      "                }, \n",
      "                {\n",
      "                    \"indices\": [\n",
      "                        171, \n",
      "                        179\n",
      "                    ], \n",
      "                    \"text\": \"binance\"\n",
      "                }, \n",
      "                {\n",
      "                    \"indices\": [\n",
      "                        180, \n",
      "                        186\n",
      "                    ], \n",
      "                    \"text\": \"trade\"\n",
      "                }, \n",
      "                {\n",
      "                    \"indices\": [\n",
      "                        187, \n",
      "                        195\n",
      "                    ], \n",
      "                    \"text\": \"fintech\"\n",
      "                }, \n",
      "                {\n",
      "                    \"indices\": [\n",
      "                        196, \n",
      "                        202\n",
      "                    ], \n",
      "                    \"text\": \"erc20\"\n",
      "                }, \n",
      "                {\n",
      "                    \"indices\": [\n",
      "                        203, \n",
      "                        209\n",
      "                    ], \n",
      "                    \"text\": \"bonus\"\n",
      "                }, \n",
      "                {\n",
      "                    \"indices\": [\n",
      "                        210, \n",
      "                        218\n",
      "                    ], \n",
      "                    \"text\": \"airdrop\"\n",
      "                }, \n",
      "                {\n",
      "                    \"indices\": [\n",
      "                        219, \n",
      "                        222\n",
      "                    ], \n",
      "                    \"text\": \"fx\"\n",
      "                }, \n",
      "                {\n",
      "                    \"indices\": [\n",
      "                        223, \n",
      "                        229\n",
      "                    ], \n",
      "                    \"text\": \"token\"\n",
      "                }, \n",
      "                {\n",
      "                    \"indices\": [\n",
      "                        230, \n",
      "                        237\n",
      "                    ], \n",
      "                    \"text\": \"market\"\n",
      "                }, \n",
      "                {\n",
      "                    \"indices\": [\n",
      "                        238, \n",
      "                        243\n",
      "                    ], \n",
      "                    \"text\": \"coin\"\n",
      "                }, \n",
      "                {\n",
      "                    \"indices\": [\n",
      "                        244, \n",
      "                        251\n",
      "                    ], \n",
      "                    \"text\": \"stocks\"\n",
      "                }, \n",
      "                {\n",
      "                    \"indices\": [\n",
      "                        252, \n",
      "                        260\n",
      "                    ], \n",
      "                    \"text\": \"bitcoin\"\n",
      "                }\n",
      "            ], \n",
      "            \"urls\": [\n",
      "                {\n",
      "                    \"url\": \"https://t.co/4W3svHQ0BD\", \n",
      "                    \"indices\": [\n",
      "                        99, \n",
      "                        122\n",
      "                    ], \n",
      "                    \"expanded_url\": \"https://goo.gl/9L72kt\", \n",
      "                    \"display_url\": \"goo.gl/9L72kt\"\n",
      "                }\n",
      "            ], \n",
      "            \"media\": [\n",
      "                {\n",
      "                    \"expanded_url\": \"https://twitter.com/CryptoScout79/status/970461660803751936/photo/1\", \n",
      "                    \"display_url\": \"pic.twitter.com/X6aN7snk6k\", \n",
      "                    \"url\": \"https://t.co/X6aN7snk6k\", \n",
      "                    \"media_url_https\": \"https://pbs.twimg.com/media/DXfFvDKXcAAzSxp.jpg\", \n",
      "                    \"id_str\": \"970461656814940160\", \n",
      "                    \"sizes\": {\n",
      "                        \"large\": {\n",
      "                            \"h\": 264, \n",
      "                            \"resize\": \"fit\", \n",
      "                            \"w\": 587\n",
      "                        }, \n",
      "                        \"small\": {\n",
      "                            \"h\": 264, \n",
      "                            \"resize\": \"fit\", \n",
      "                            \"w\": 587\n",
      "                        }, \n",
      "                        \"medium\": {\n",
      "                            \"h\": 264, \n",
      "                            \"resize\": \"fit\", \n",
      "                            \"w\": 587\n",
      "                        }, \n",
      "                        \"thumb\": {\n",
      "                            \"h\": 150, \n",
      "                            \"resize\": \"crop\", \n",
      "                            \"w\": 150\n",
      "                        }\n",
      "                    }, \n",
      "                    \"indices\": [\n",
      "                        261, \n",
      "                        284\n",
      "                    ], \n",
      "                    \"type\": \"photo\", \n",
      "                    \"id\": 970461656814940160, \n",
      "                    \"media_url\": \"http://pbs.twimg.com/media/DXfFvDKXcAAzSxp.jpg\"\n",
      "                }\n",
      "            ]\n",
      "        }, \n",
      "        \"extended_entities\": {\n",
      "            \"media\": [\n",
      "                {\n",
      "                    \"expanded_url\": \"https://twitter.com/CryptoScout79/status/970461660803751936/photo/1\", \n",
      "                    \"display_url\": \"pic.twitter.com/X6aN7snk6k\", \n",
      "                    \"url\": \"https://t.co/X6aN7snk6k\", \n",
      "                    \"media_url_https\": \"https://pbs.twimg.com/media/DXfFvDKXcAAzSxp.jpg\", \n",
      "                    \"id_str\": \"970461656814940160\", \n",
      "                    \"sizes\": {\n",
      "                        \"large\": {\n",
      "                            \"h\": 264, \n",
      "                            \"resize\": \"fit\", \n",
      "                            \"w\": 587\n",
      "                        }, \n",
      "                        \"small\": {\n",
      "                            \"h\": 264, \n",
      "                            \"resize\": \"fit\", \n",
      "                            \"w\": 587\n",
      "                        }, \n",
      "                        \"medium\": {\n",
      "                            \"h\": 264, \n",
      "                            \"resize\": \"fit\", \n",
      "                            \"w\": 587\n",
      "                        }, \n",
      "                        \"thumb\": {\n",
      "                            \"h\": 150, \n",
      "                            \"resize\": \"crop\", \n",
      "                            \"w\": 150\n",
      "                        }\n",
      "                    }, \n",
      "                    \"indices\": [\n",
      "                        261, \n",
      "                        284\n",
      "                    ], \n",
      "                    \"type\": \"photo\", \n",
      "                    \"id\": 970461656814940160, \n",
      "                    \"media_url\": \"http://pbs.twimg.com/media/DXfFvDKXcAAzSxp.jpg\"\n",
      "                }\n",
      "            ]\n",
      "        }, \n",
      "        \"full_text\": \"\\ud83d\\udcb0 ICO PRE-SALE: 35% BONUS \\ud83d\\udcb0\\n\\nTOKIA: free Cryptocurrency exchange is now possible!\\n\\nGET BONUS here: https://t.co/4W3svHQ0BD \\u2b05\\ufe0f\\n\\n#bch #ethereum #startup #deals #bitcoincash #binance #trade #fintech #erc20 #bonus #airdrop #fx #token #market #coin #stocks #bitcoin https://t.co/X6aN7snk6k\"\n",
      "    }, \n",
      "    \"created_at\": \"Mon Mar 05 00:51:04 +0000 2018\", \n",
      "    \"filter_level\": \"low\", \n",
      "    \"in_reply_to_status_id_str\": null, \n",
      "    \"place\": null\n",
      "}\n"
     ]
    }
   ],
   "source": [
    "import json\n",
    " \n",
    "with open(r'D:\\GSkyDrive\\Qcfinance\\learners students\\Naveen Python\\Capstone Project\\cryptocapstone\\coin.json', 'r') as f:\n",
    "    line = f.readline() # read only the first tweet/line\n",
    "    tweet = json.loads(line) # load it as Python dict\n",
    "    print(json.dumps(tweet, indent=4)) # pretty-print"
   ]
  },
  {
   "cell_type": "code",
   "execution_count": 100,
   "metadata": {},
   "outputs": [
    {
     "name": "stdout",
     "output_type": "stream",
     "text": [
      "['RT', '@marcobonzanini', ':', 'just', 'an', 'example', '!', ':D', 'http://example.com', '#NLP']\n"
     ]
    }
   ],
   "source": [
    "import re\n",
    " \n",
    "emoticons_str = r\"\"\"\n",
    "    (?:\n",
    "        [:=;] # Eyes\n",
    "        [oO\\-]? # Nose (optional)\n",
    "        [D\\)\\]\\(\\]/\\\\OpP] # Mouth\n",
    "    )\"\"\"\n",
    " \n",
    "regex_str = [\n",
    "    emoticons_str,\n",
    "    r'<[^>]+>', # HTML tags\n",
    "    r'(?:@[\\w_]+)', # @-mentions\n",
    "    r\"(?:\\#+[\\w_]+[\\w\\'_\\-]*[\\w_]+)\", # hash-tags\n",
    "    r'http[s]?://(?:[a-z]|[0-9]|[$-_@.&amp;+]|[!*\\(\\),]|(?:%[0-9a-f][0-9a-f]))+', # URLs\n",
    " \n",
    "    r'(?:(?:\\d+,?)+(?:\\.?\\d+)?)', # numbers\n",
    "    r\"(?:[a-z][a-z'\\-_]+[a-z])\", # words with - and '\n",
    "    r'(?:[\\w_]+)', # other words\n",
    "    r'(?:\\S)' # anything else\n",
    "]\n",
    "    \n",
    "tokens_re = re.compile(r'('+'|'.join(regex_str)+')', re.VERBOSE | re.IGNORECASE)\n",
    "emoticon_re = re.compile(r'^'+emoticons_str+'$', re.VERBOSE | re.IGNORECASE)\n",
    " \n",
    "def tokenize(s):\n",
    "    return tokens_re.findall(s)\n",
    " \n",
    "def preprocess(s, lowercase=False):\n",
    "    tokens = tokenize(s)\n",
    "    if lowercase:\n",
    "        tokens = [token if emoticon_re.search(token) else token.lower() for token in tokens]\n",
    "    return tokens\n",
    " \n",
    "tweet = 'RT @marcobonzanini: just an example! :D http://example.com #NLP'\n",
    "print(preprocess(tweet))\n",
    "# ['RT', '@marcobonzanini', ':', 'just', 'an', 'example', '!', ':D', 'http://example.com', '#NLP']"
   ]
  },
  {
   "cell_type": "code",
   "execution_count": 110,
   "metadata": {},
   "outputs": [
    {
     "name": "stdout",
     "output_type": "stream",
     "text": [
      "[u'RT', u'@FullstackDevJS', u':', u'Getting', u'Started', u'with', u'React', u',', u'Webpack', u'and', u'Bootstrap', u'#Fullstack', u'#Javascript', u'#Angular', u'#React', u'#Python', u'https://t.co/YiryaQPz41']\n",
      "[u'\\ud83d', u'\\udce2', u'Very', u'Nice', u'#airdrop', u'about', u'$', u'33', u'worth', u'!', u'(', u'#token', u'price', u')', u'\\ud83d', u'\\udce2', u'1', u'.', u'Go', u'to', u'https://t.co/2B2B61Zy4x', u'2', u'.', u'Sign', u'up', u'E-mail', u'3', u'.', u'Join', u'\\u2026', u'https://t.co/eZPTYw9B7I']\n",
      "[u'RT', u'@NBCoin', u':', u'#Airdrop', u'#National', u'#Broadcasting', u'#Coin', u'#NBC', u'#Is', u'#Live', u'#Join', u'\\xa0', u'https://t.co/rvWHdtnvuV']\n",
      "[u'https://t.co/4NqKZk1R2d']\n",
      "[u'follow', u'this', u'https://t.co/Fnz4RbAg60']\n",
      "[u'The', u'dynamics', u'of', u'the', u'high-volatility', u'market', u'can', u'be', u'incredibly', u'influenced', u'by', u'news', u'background', u'.', u'The', u'announcement', u'of', u'har', u'\\u2026', u'https://t.co/EPoTOenvyD']\n",
      "[u'\\ud83d', u'\\udce2', u'BETHEREUM', u'#airdrop', u'#coin', u'#Freecoin', u'50', u'TOKEN', u'Veriyor', u'\\u2757', u'\\ufe0f', u'\\xc7', u'ok', u'ba', u'\\u015f', u'ar', u'\\u0131', u'l', u'\\u0131', u'.', u'Mail', u'adresi', u'onay', u'\\u0131', u'istiyor', u'.', u'\\u25b6', u'\\ufe0f', u'\\u2026', u'https://t.co/Nh8Pgtj2sL']\n",
      "[u'https://t.co/uii4dF5t9U', u'A', u'decentralized', u'cryptocurrency', u'built', u'to', u'create', u'an', u'all-inclusive', u'ecosystem', u'consisting', u'of', u'co', u'\\u2026', u'https://t.co/K96wgvf9wh']\n",
      "[u'[', u'USD', u']', u'04', u'/', u'03', u'/', u'2018', u'21', u':', u'59', u':', u'03', u'Bitcoin', u':', u'$', u'11444.3', u'Ethereum', u':', u'$', u'865.339', u'#bitcoin', u'#ethereum', u'#altcoin', u'#coin', u'#blockchain', u'\\u2026', u'https://t.co/x1mLuo6dmy']\n",
      "[u'RT', u'@CoinvestHQ', u':', u'Have', u'you', u'seen', u'the', u'latest', u'interview', u'between', u'our', u'Founder', u'@damon_nam', u'and', u'Crypto', u'enthusiast', u'@RobertBeadles', u'?', u'Check', u'out', u'the', u'conve', u'\\u2026']\n",
      "[u'[', u'TR', u']', u'04', u'/', u'03', u'/', u'2018', u'21', u':', u'59', u':', u'03', u'Bitcoin', u':', u'\\u20ba', u'42273', u'Ethereum', u':', u'\\u20ba', u'3201', u'#bitcoin', u'#ethereum', u'#altcoin', u'#coin', u'#blockchain', u'#crypto', u'\\u2026', u'https://t.co/iEfTQjnma1']\n",
      "[u'[', u'TR', u']', u'04', u'/', u'03', u'/', u'2018', u'22', u':', u'00', u':', u'03', u'Bitcoin', u':', u'\\u20ba', u'42273', u'Ethereum', u':', u'\\u20ba', u'3201', u'#bitcoin', u'#ethereum', u'#altcoin', u'#coin', u'#blockchain', u'#crypto', u'\\u2026', u'https://t.co/AYqpTtAPIJ']\n",
      "[u'[', u'USD', u']', u'04', u'/', u'03', u'/', u'2018', u'22', u':', u'00', u':', u'03', u'Bitcoin', u':', u'$', u'11444.3', u'Ethereum', u':', u'$', u'864.746', u'#bitcoin', u'#ethereum', u'#altcoin', u'#coin', u'#blockchain', u'\\u2026', u'https://t.co/ZD7ysg3gN7']\n"
     ]
    }
   ],
   "source": [
    "with open(r'D:\\GSkyDrive\\Qcfinance\\learners students\\Naveen Python\\Capstone Project\\cryptocapstone\\python.json', 'r') as f:\n",
    "    for line in f:\n",
    "        tweet = json.loads(line)\n",
    "        tokens = preprocess(tweet['text'])\n",
    "       # tokens = preprocess(tweet['user'])\n",
    "        print (tokens)\n"
   ]
  },
  {
   "cell_type": "code",
   "execution_count": 111,
   "metadata": {},
   "outputs": [
    {
     "name": "stdout",
     "output_type": "stream",
     "text": [
      "[(u':', 19), (u'\\u2026', 9), (u'/', 8), (u'03', 8), (u'.', 6), (u'$', 5), (u'#coin', 5), (u'Bitcoin', 4), (u'2018', 4), (u'Ethereum', 4), (u'\\u20ba', 4), (u'04', 4), (u'[', 4), (u'#blockchain', 4), (u'#altcoin', 4), (u']', 4), (u'#bitcoin', 4), (u'#ethereum', 4), (u'RT', 3), (u'\\u0131', 3), (u'of', 3), (u'\\ud83d', 3), (u'\\udce2', 3), (u'the', 3), (u'TR', 2), (u'#crypto', 2), (u'11444.3', 2), (u'42273', 2), (u'to', 2), (u'59', 2)]\n"
     ]
    }
   ],
   "source": [
    "import operator \n",
    "import json\n",
    "from collections import Counter\n",
    " \n",
    "fname = (r'D:\\GSkyDrive\\Qcfinance\\learners students\\Naveen Python\\Capstone Project\\cryptocapstone\\python.json')\n",
    "with open(fname, 'r') as f:\n",
    "    count_all = Counter()\n",
    "    for line in f:\n",
    "        tweet = json.loads(line)\n",
    "        # Create a list with all the terms\n",
    "        terms_all = [term for term in preprocess(tweet['text'])]\n",
    "        # Update the counter\n",
    "        count_all.update(terms_all)\n",
    "    # Print the first 5 most frequent words\n",
    "    print(count_all.most_common(30))\n"
   ]
  },
  {
   "cell_type": "code",
   "execution_count": 112,
   "metadata": {
    "collapsed": true
   },
   "outputs": [],
   "source": [
    "from nltk.corpus import stopwords\n",
    "import string\n",
    " \n",
    "punctuation = list(string.punctuation)\n",
    "stop = stopwords.words('english') + punctuation + ['rt', 'via']"
   ]
  },
  {
   "cell_type": "code",
   "execution_count": null,
   "metadata": {},
   "outputs": [],
   "source": []
  },
  {
   "cell_type": "code",
   "execution_count": 113,
   "metadata": {},
   "outputs": [
    {
     "data": {
      "text/plain": [
       "[u'USD',\n",
       " u'04',\n",
       " u'03',\n",
       " u'2018',\n",
       " u'22',\n",
       " u'00',\n",
       " u'03',\n",
       " u'Bitcoin',\n",
       " u'11444.3',\n",
       " u'Ethereum',\n",
       " u'864.746',\n",
       " u'#bitcoin',\n",
       " u'#ethereum',\n",
       " u'#altcoin',\n",
       " u'#coin',\n",
       " u'#blockchain',\n",
       " u'\\u2026',\n",
       " u'https://t.co/ZD7ysg3gN7']"
      ]
     },
     "execution_count": 113,
     "metadata": {},
     "output_type": "execute_result"
    }
   ],
   "source": [
    "terms_stop = [term for term in preprocess(tweet['text']) if term not in stop]\n",
    "terms_stop"
   ]
  },
  {
   "cell_type": "code",
   "execution_count": 114,
   "metadata": {},
   "outputs": [],
   "source": [
    "# Count terms only once, equivalent to Document Frequency\n",
    "terms_single = set(terms_all)\n",
    "# Count hashtags only\n",
    "terms_hash = [term for term in preprocess(tweet['text']) \n",
    "              if term.startswith('#')]\n",
    "# Count terms only (no hashtags, no mentions)\n",
    "terms_only = [term for term in preprocess(tweet['text']) \n",
    "              if term not in stop and\n",
    "              not term.startswith(('#', '@'))] \n",
    "              # mind the ((double brackets))\n",
    "              # startswith() takes a tuple (not a list) if \n",
    "              # we pass a list of inputs"
   ]
  },
  {
   "cell_type": "code",
   "execution_count": 115,
   "metadata": {
    "collapsed": true
   },
   "outputs": [],
   "source": [
    "from nltk import bigrams \n",
    " \n",
    "terms_bigram = bigrams(terms_stop)"
   ]
  },
  {
   "cell_type": "code",
   "execution_count": 116,
   "metadata": {},
   "outputs": [
    {
     "data": {
      "text/plain": [
       "18"
      ]
     },
     "execution_count": 116,
     "metadata": {},
     "output_type": "execute_result"
    }
   ],
   "source": [
    "len(terms_stop)"
   ]
  },
  {
   "cell_type": "code",
   "execution_count": 117,
   "metadata": {},
   "outputs": [
    {
     "data": {
      "text/plain": [
       "collections.Counter"
      ]
     },
     "execution_count": 117,
     "metadata": {},
     "output_type": "execute_result"
    }
   ],
   "source": [
    "type(count_all)"
   ]
  },
  {
   "cell_type": "code",
   "execution_count": 121,
   "metadata": {},
   "outputs": [],
   "source": [
    "d=dict(count_all)"
   ]
  },
  {
   "cell_type": "code",
   "execution_count": 159,
   "metadata": {},
   "outputs": [
    {
     "data": {
      "text/plain": [
       "dict"
      ]
     },
     "execution_count": 159,
     "metadata": {},
     "output_type": "execute_result"
    }
   ],
   "source": [
    "type(d)"
   ]
  },
  {
   "cell_type": "code",
   "execution_count": 128,
   "metadata": {},
   "outputs": [
    {
     "name": "stdout",
     "output_type": "stream",
     "text": [
      "USD 2\n",
      "04 4\n",
      "03 8\n",
      "2018 4\n",
      "22 2\n",
      "00 2\n",
      "03 8\n",
      "Bitcoin 4\n",
      "11444.3 2\n",
      "Ethereum 4\n",
      "864.746 1\n",
      "… 9\n",
      "https://t.co/ZD7ysg3gN7 1\n"
     ]
    }
   ],
   "source": [
    "for i in terms_only:\n",
    "    print i, d[i]"
   ]
  },
  {
   "cell_type": "code",
   "execution_count": 146,
   "metadata": {},
   "outputs": [],
   "source": [
    "import pandas as pd\n",
    "df = pd.DataFrame(d.items(), columns=['word', 'count'])\n",
    "print (df)"
   ]
  },
  {
   "cell_type": "code",
   "execution_count": 132,
   "metadata": {
    "collapsed": true
   },
   "outputs": [],
   "source": [
    "s = pd.Series(d, name='DateValue')\n",
    "s"
   ]
  },
  {
   "cell_type": "code",
   "execution_count": 154,
   "metadata": {},
   "outputs": [],
   "source": [
    "listd = d.items()\n",
    "pd.DataFrame([x[0:] for x in listd], index = [x[0] for x in listd])"
   ]
  },
  {
   "cell_type": "code",
   "execution_count": 160,
   "metadata": {},
   "outputs": [],
   "source": [
    "#listd[1][1]"
   ]
  },
  {
   "cell_type": "code",
   "execution_count": 164,
   "metadata": {},
   "outputs": [
    {
     "ename": "TypeError",
     "evalue": "Index(...) must be called with a collection of some kind, 'x1' was passed",
     "output_type": "error",
     "traceback": [
      "\u001b[1;31m---------------------------------------------------------------------------\u001b[0m",
      "\u001b[1;31mTypeError\u001b[0m                                 Traceback (most recent call last)",
      "\u001b[1;32m<ipython-input-164-7ff7a52a5996>\u001b[0m in \u001b[0;36m<module>\u001b[1;34m()\u001b[0m\n\u001b[1;32m----> 1\u001b[1;33m \u001b[0mpd\u001b[0m\u001b[1;33m.\u001b[0m\u001b[0mDataFrame\u001b[0m\u001b[1;33m(\u001b[0m\u001b[0md\u001b[0m\u001b[1;33m,\u001b[0m\u001b[1;34m'x1'\u001b[0m\u001b[1;33m)\u001b[0m\u001b[1;33m\u001b[0m\u001b[0m\n\u001b[0m",
      "\u001b[1;32mC:\\Anaconda2\\lib\\site-packages\\pandas\\core\\frame.pyc\u001b[0m in \u001b[0;36m__init__\u001b[1;34m(self, data, index, columns, dtype, copy)\u001b[0m\n\u001b[0;32m    273\u001b[0m                                  dtype=dtype, copy=copy)\n\u001b[0;32m    274\u001b[0m         \u001b[1;32melif\u001b[0m \u001b[0misinstance\u001b[0m\u001b[1;33m(\u001b[0m\u001b[0mdata\u001b[0m\u001b[1;33m,\u001b[0m \u001b[0mdict\u001b[0m\u001b[1;33m)\u001b[0m\u001b[1;33m:\u001b[0m\u001b[1;33m\u001b[0m\u001b[0m\n\u001b[1;32m--> 275\u001b[1;33m             \u001b[0mmgr\u001b[0m \u001b[1;33m=\u001b[0m \u001b[0mself\u001b[0m\u001b[1;33m.\u001b[0m\u001b[0m_init_dict\u001b[0m\u001b[1;33m(\u001b[0m\u001b[0mdata\u001b[0m\u001b[1;33m,\u001b[0m \u001b[0mindex\u001b[0m\u001b[1;33m,\u001b[0m \u001b[0mcolumns\u001b[0m\u001b[1;33m,\u001b[0m \u001b[0mdtype\u001b[0m\u001b[1;33m=\u001b[0m\u001b[0mdtype\u001b[0m\u001b[1;33m)\u001b[0m\u001b[1;33m\u001b[0m\u001b[0m\n\u001b[0m\u001b[0;32m    276\u001b[0m         \u001b[1;32melif\u001b[0m \u001b[0misinstance\u001b[0m\u001b[1;33m(\u001b[0m\u001b[0mdata\u001b[0m\u001b[1;33m,\u001b[0m \u001b[0mma\u001b[0m\u001b[1;33m.\u001b[0m\u001b[0mMaskedArray\u001b[0m\u001b[1;33m)\u001b[0m\u001b[1;33m:\u001b[0m\u001b[1;33m\u001b[0m\u001b[0m\n\u001b[0;32m    277\u001b[0m             \u001b[1;32mimport\u001b[0m \u001b[0mnumpy\u001b[0m\u001b[1;33m.\u001b[0m\u001b[0mma\u001b[0m\u001b[1;33m.\u001b[0m\u001b[0mmrecords\u001b[0m \u001b[1;32mas\u001b[0m \u001b[0mmrecords\u001b[0m\u001b[1;33m\u001b[0m\u001b[0m\n",
      "\u001b[1;32mC:\\Anaconda2\\lib\\site-packages\\pandas\\core\\frame.pyc\u001b[0m in \u001b[0;36m_init_dict\u001b[1;34m(self, data, index, columns, dtype)\u001b[0m\n\u001b[0;32m    409\u001b[0m             \u001b[0marrays\u001b[0m \u001b[1;33m=\u001b[0m \u001b[1;33m[\u001b[0m\u001b[0mdata\u001b[0m\u001b[1;33m[\u001b[0m\u001b[0mk\u001b[0m\u001b[1;33m]\u001b[0m \u001b[1;32mfor\u001b[0m \u001b[0mk\u001b[0m \u001b[1;32min\u001b[0m \u001b[0mkeys\u001b[0m\u001b[1;33m]\u001b[0m\u001b[1;33m\u001b[0m\u001b[0m\n\u001b[0;32m    410\u001b[0m \u001b[1;33m\u001b[0m\u001b[0m\n\u001b[1;32m--> 411\u001b[1;33m         \u001b[1;32mreturn\u001b[0m \u001b[0m_arrays_to_mgr\u001b[0m\u001b[1;33m(\u001b[0m\u001b[0marrays\u001b[0m\u001b[1;33m,\u001b[0m \u001b[0mdata_names\u001b[0m\u001b[1;33m,\u001b[0m \u001b[0mindex\u001b[0m\u001b[1;33m,\u001b[0m \u001b[0mcolumns\u001b[0m\u001b[1;33m,\u001b[0m \u001b[0mdtype\u001b[0m\u001b[1;33m=\u001b[0m\u001b[0mdtype\u001b[0m\u001b[1;33m)\u001b[0m\u001b[1;33m\u001b[0m\u001b[0m\n\u001b[0m\u001b[0;32m    412\u001b[0m \u001b[1;33m\u001b[0m\u001b[0m\n\u001b[0;32m    413\u001b[0m     \u001b[1;32mdef\u001b[0m \u001b[0m_init_ndarray\u001b[0m\u001b[1;33m(\u001b[0m\u001b[0mself\u001b[0m\u001b[1;33m,\u001b[0m \u001b[0mvalues\u001b[0m\u001b[1;33m,\u001b[0m \u001b[0mindex\u001b[0m\u001b[1;33m,\u001b[0m \u001b[0mcolumns\u001b[0m\u001b[1;33m,\u001b[0m \u001b[0mdtype\u001b[0m\u001b[1;33m=\u001b[0m\u001b[0mNone\u001b[0m\u001b[1;33m,\u001b[0m \u001b[0mcopy\u001b[0m\u001b[1;33m=\u001b[0m\u001b[0mFalse\u001b[0m\u001b[1;33m)\u001b[0m\u001b[1;33m:\u001b[0m\u001b[1;33m\u001b[0m\u001b[0m\n",
      "\u001b[1;32mC:\\Anaconda2\\lib\\site-packages\\pandas\\core\\frame.pyc\u001b[0m in \u001b[0;36m_arrays_to_mgr\u001b[1;34m(arrays, arr_names, index, columns, dtype)\u001b[0m\n\u001b[0;32m   5496\u001b[0m         \u001b[0mindex\u001b[0m \u001b[1;33m=\u001b[0m \u001b[0mextract_index\u001b[0m\u001b[1;33m(\u001b[0m\u001b[0marrays\u001b[0m\u001b[1;33m)\u001b[0m\u001b[1;33m\u001b[0m\u001b[0m\n\u001b[0;32m   5497\u001b[0m     \u001b[1;32melse\u001b[0m\u001b[1;33m:\u001b[0m\u001b[1;33m\u001b[0m\u001b[0m\n\u001b[1;32m-> 5498\u001b[1;33m         \u001b[0mindex\u001b[0m \u001b[1;33m=\u001b[0m \u001b[0m_ensure_index\u001b[0m\u001b[1;33m(\u001b[0m\u001b[0mindex\u001b[0m\u001b[1;33m)\u001b[0m\u001b[1;33m\u001b[0m\u001b[0m\n\u001b[0m\u001b[0;32m   5499\u001b[0m \u001b[1;33m\u001b[0m\u001b[0m\n\u001b[0;32m   5500\u001b[0m     \u001b[1;31m# don't force copy because getting jammed in an ndarray anyway\u001b[0m\u001b[1;33m\u001b[0m\u001b[1;33m\u001b[0m\u001b[0m\n",
      "\u001b[1;32mC:\\Anaconda2\\lib\\site-packages\\pandas\\core\\indexes\\base.pyc\u001b[0m in \u001b[0;36m_ensure_index\u001b[1;34m(index_like, copy)\u001b[0m\n\u001b[0;32m   4025\u001b[0m             \u001b[0mindex_like\u001b[0m \u001b[1;33m=\u001b[0m \u001b[0mcopy\u001b[0m\u001b[1;33m(\u001b[0m\u001b[0mindex_like\u001b[0m\u001b[1;33m)\u001b[0m\u001b[1;33m\u001b[0m\u001b[0m\n\u001b[0;32m   4026\u001b[0m \u001b[1;33m\u001b[0m\u001b[0m\n\u001b[1;32m-> 4027\u001b[1;33m     \u001b[1;32mreturn\u001b[0m \u001b[0mIndex\u001b[0m\u001b[1;33m(\u001b[0m\u001b[0mindex_like\u001b[0m\u001b[1;33m)\u001b[0m\u001b[1;33m\u001b[0m\u001b[0m\n\u001b[0m\u001b[0;32m   4028\u001b[0m \u001b[1;33m\u001b[0m\u001b[0m\n\u001b[0;32m   4029\u001b[0m \u001b[1;33m\u001b[0m\u001b[0m\n",
      "\u001b[1;32mC:\\Anaconda2\\lib\\site-packages\\pandas\\core\\indexes\\base.pyc\u001b[0m in \u001b[0;36m__new__\u001b[1;34m(cls, data, dtype, copy, name, fastpath, tupleize_cols, **kwargs)\u001b[0m\n\u001b[0;32m    324\u001b[0m                          **kwargs)\n\u001b[0;32m    325\u001b[0m         \u001b[1;32melif\u001b[0m \u001b[0mdata\u001b[0m \u001b[1;32mis\u001b[0m \u001b[0mNone\u001b[0m \u001b[1;32mor\u001b[0m \u001b[0mis_scalar\u001b[0m\u001b[1;33m(\u001b[0m\u001b[0mdata\u001b[0m\u001b[1;33m)\u001b[0m\u001b[1;33m:\u001b[0m\u001b[1;33m\u001b[0m\u001b[0m\n\u001b[1;32m--> 326\u001b[1;33m             \u001b[0mcls\u001b[0m\u001b[1;33m.\u001b[0m\u001b[0m_scalar_data_error\u001b[0m\u001b[1;33m(\u001b[0m\u001b[0mdata\u001b[0m\u001b[1;33m)\u001b[0m\u001b[1;33m\u001b[0m\u001b[0m\n\u001b[0m\u001b[0;32m    327\u001b[0m         \u001b[1;32melse\u001b[0m\u001b[1;33m:\u001b[0m\u001b[1;33m\u001b[0m\u001b[0m\n\u001b[0;32m    328\u001b[0m             if (tupleize_cols and isinstance(data, list) and data and\n",
      "\u001b[1;32mC:\\Anaconda2\\lib\\site-packages\\pandas\\core\\indexes\\base.pyc\u001b[0m in \u001b[0;36m_scalar_data_error\u001b[1;34m(cls, data)\u001b[0m\n\u001b[0;32m    676\u001b[0m         raise TypeError('{0}(...) must be called with a collection of some '\n\u001b[0;32m    677\u001b[0m                         'kind, {1} was passed'.format(cls.__name__,\n\u001b[1;32m--> 678\u001b[1;33m                                                       repr(data)))\n\u001b[0m\u001b[0;32m    679\u001b[0m \u001b[1;33m\u001b[0m\u001b[0m\n\u001b[0;32m    680\u001b[0m     \u001b[1;33m@\u001b[0m\u001b[0mclassmethod\u001b[0m\u001b[1;33m\u001b[0m\u001b[0m\n",
      "\u001b[1;31mTypeError\u001b[0m: Index(...) must be called with a collection of some kind, 'x1' was passed"
     ]
    }
   ],
   "source": [
    "pd.DataFrame(d,'x1')"
   ]
  },
  {
   "cell_type": "code",
   "execution_count": null,
   "metadata": {
    "collapsed": true
   },
   "outputs": [],
   "source": []
  }
 ],
 "metadata": {
  "kernelspec": {
   "display_name": "Python 2",
   "language": "python",
   "name": "python2"
  },
  "language_info": {
   "codemirror_mode": {
    "name": "ipython",
    "version": 2
   },
   "file_extension": ".py",
   "mimetype": "text/x-python",
   "name": "python",
   "nbconvert_exporter": "python",
   "pygments_lexer": "ipython2",
   "version": "2.7.13"
  }
 },
 "nbformat": 4,
 "nbformat_minor": 2
}
