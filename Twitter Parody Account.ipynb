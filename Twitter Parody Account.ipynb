{
 "cells": [
  {
   "cell_type": "code",
   "execution_count": 3,
   "metadata": {
    "collapsed": true
   },
   "outputs": [],
   "source": [
    "#https://marcobonzanini.com/2015/03/02/mining-twitter-data-with-python-part-1/\n",
    "import twitter"
   ]
  },
  {
   "cell_type": "code",
   "execution_count": 4,
   "metadata": {},
   "outputs": [],
   "source": [
    "api = twitter.Api(consumer_key='WePA5SfOMvHskQBXvOgv1Nkdf',\n",
    "                      consumer_secret='PhzfQ0LfX7fPSmtTLEv0lkk1Loixw7Xmf4jLZKyZrQsPSCbv0G',\n",
    "                      access_token_key='968329675-ZLZ9wAZC74CmnymEUvF2P5GdGdIFPeVasInhYkOf',\n",
    "                      access_token_secret='NPXe8DnjAhZieg8PePR70cLGDu61F8a8UgWPwSa87c8hy')"
   ]
  },
  {
   "cell_type": "code",
   "execution_count": 5,
   "metadata": {},
   "outputs": [
    {
     "name": "stdout",
     "output_type": "stream",
     "text": [
      "{\"created_at\": \"Sat Nov 24 16:27:47 +0000 2012\", \"default_profile\": true, \"description\": \"99% of job will be taken by ML/AL, country that has such companies & engineer will be super power in 2040. India should be tax free, 0 regulation, border-less\", \"favourites_count\": 3536, \"followers_count\": 467, \"friends_count\": 4359, \"id\": 968329675, \"id_str\": \"968329675\", \"lang\": \"en\", \"listed_count\": 12, \"location\": \"India\", \"name\": \"Shivbhakta Joshi\", \"profile_background_color\": \"C0DEED\", \"profile_background_image_url\": \"http://abs.twimg.com/images/themes/theme1/bg.png\", \"profile_background_image_url_https\": \"https://abs.twimg.com/images/themes/theme1/bg.png\", \"profile_banner_url\": \"https://pbs.twimg.com/profile_banners/968329675/1433524344\", \"profile_image_url\": \"http://pbs.twimg.com/profile_images/690566643982979075/UTJsU3YP_normal.jpg\", \"profile_image_url_https\": \"https://pbs.twimg.com/profile_images/690566643982979075/UTJsU3YP_normal.jpg\", \"profile_link_color\": \"1DA1F2\", \"profile_sidebar_border_color\": \"C0DEED\", \"profile_sidebar_fill_color\": \"DDEEF6\", \"profile_text_color\": \"333333\", \"profile_use_background_image\": true, \"screen_name\": \"shivbhaktajoshi\", \"status\": {\"created_at\": \"Sat Mar 03 00:27:22 +0000 2018\", \"id\": 969730919111315456, \"id_str\": \"969730919111315456\", \"in_reply_to_screen_name\": \"DCDerek1\", \"in_reply_to_status_id\": 969011161432772609, \"in_reply_to_user_id\": 825753052636409856, \"lang\": \"en\", \"source\": \"<a href=\\\"http://twitter.com/download/android\\\" rel=\\\"nofollow\\\">Twitter for Android</a>\", \"text\": \"@DCDerek1 That's hihly unethical by Indians\"}, \"statuses_count\": 1019, \"time_zone\": \"Hawaii\", \"utc_offset\": -36000}\n"
     ]
    }
   ],
   "source": [
    "print(api.VerifyCredentials())"
   ]
  },
  {
   "cell_type": "code",
   "execution_count": 6,
   "metadata": {
    "collapsed": true
   },
   "outputs": [],
   "source": [
    "import tweepy\n",
    "from tweepy import OAuthHandler\n",
    "\n",
    "consumer_key='WePA5SfOMvHskQBXvOgv1Nkdf'\n",
    "consumer_secret='PhzfQ0LfX7fPSmtTLEv0lkk1Loixw7Xmf4jLZKyZrQsPSCbv0G'\n",
    "access_token='968329675-ZLZ9wAZC74CmnymEUvF2P5GdGdIFPeVasInhYkOf'\n",
    "access_secret='NPXe8DnjAhZieg8PePR70cLGDu61F8a8UgWPwSa87c8hy'\n",
    " \n",
    "auth = OAuthHandler(consumer_key, consumer_secret)\n",
    "auth.set_access_token(access_token, access_secret)\n",
    " \n",
    "api = tweepy.API(auth)"
   ]
  },
  {
   "cell_type": "code",
   "execution_count": 7,
   "metadata": {},
   "outputs": [
    {
     "name": "stdout",
     "output_type": "stream",
     "text": [
      "RT @0mysky: I love you forever but it's always today.\n",
      "RT @sanjaynirupam: Met agitating students of #TISS and offered my party's full support to them. I have written a letter to Union #HRD Min M…\n",
      "RT @Saffron_Rounak: आज एक पुराना विज्ञापन याद आ रहा है ,,\n",
      "मेरा नम्बर कब आएगा , \n",
      "@narendramodi @AmitShah @myogiadityanath https://t.co/nFH4F…\n",
      "RT @No2Deportation: #Eritrea n asylum seekers transferred from #Israel to #Uganda were issued FAKE documents in #Kampala. This is states ac…\n",
      "RT @nareshrajput311: मेघालय में 2 विधायकों के साथ भाजपा के सरकार बनाने की सुन कर दिल्ली में आम आदमी पार्टी में खलबली यहाँ भी भाजपा के 3 हैं…\n",
      "Question to my design folks: What was the font used in “Black Panther”? Did they invent it?\n",
      "RT @AngellicAribam: Democracy at pakoda's service. #Meghalaya https://t.co/KkBCrPxCjm\n",
      "RT @flyalex666: Forgot there are also regional elections in #ItalianElections Two local parliaments are elected alongside national parliame…\n",
      "RT @Saffron_Rounak: हाँ ,,, जी तो क्या बताया गया था ,,अरे वही गुब्बारे वाले .. ... .. अबे बेवकूफों गुब्बारे फेंकने  वालों को बिना किसी आधार…\n",
      "RT @nsui: Parivartan - The Rising Steps\n",
      "NSUI National Executive Meet https://t.co/ZNFblKSmmM\n"
     ]
    }
   ],
   "source": [
    "for status in tweepy.Cursor(api.home_timeline).items(10):\n",
    "    # Process a single status\n",
    "    print(status.text)"
   ]
  },
  {
   "cell_type": "code",
   "execution_count": 8,
   "metadata": {
    "collapsed": true
   },
   "outputs": [],
   "source": [
    "\n",
    "\n",
    "def process_or_store(tweet):\n",
    "    print(json.dumps(tweet))"
   ]
  },
  {
   "cell_type": "code",
   "execution_count": null,
   "metadata": {},
   "outputs": [
    {
     "name": "stdout",
     "output_type": "stream",
     "text": [
      "{\"created_at\":\"Sun Mar 04 19:55:07 +0000 2018\",\"id\":970387181377290241,\"id_str\":\"970387181377290241\",\"text\":\"RT @KirkDBorne: How to build a #DeepLearning model in 15 minutes: https:\\/\\/t.co\\/tldbpofX7n #BigData #DataScience #AI #MachineLearning #Algor\\u2026\",\"source\":\"\\u003ca href=\\\"http:\\/\\/twitter.com\\/download\\/iphone\\\" rel=\\\"nofollow\\\"\\u003eTwitter for iPhone\\u003c\\/a\\u003e\",\"truncated\":false,\"in_reply_to_status_id\":null,\"in_reply_to_status_id_str\":null,\"in_reply_to_user_id\":null,\"in_reply_to_user_id_str\":null,\"in_reply_to_screen_name\":null,\"user\":{\"id\":14542783,\"id_str\":\"14542783\",\"name\":\"Maurizio\",\"screen_name\":\"mauriziog\",\"location\":\"Milano\",\"url\":\"http:\\/\\/www.mauriziogalluzzo.it\",\"description\":\"Naturalista e opistografo.   \\nCoordinatore regionale #PAsocial.\\nRT does not necessarily mean endorsement.\",\"translator_type\":\"none\",\"protected\":false,\"verified\":false,\"followers_count\":1262,\"friends_count\":3237,\"listed_count\":100,\"favourites_count\":4759,\"statuses_count\":10820,\"created_at\":\"Sat Apr 26 11:51:45 +0000 2008\",\"utc_offset\":3600,\"time_zone\":\"Rome\",\"geo_enabled\":false,\"lang\":\"it\",\"contributors_enabled\":false,\"is_translator\":false,\"profile_background_color\":\"C2C2C2\",\"profile_background_image_url\":\"http:\\/\\/pbs.twimg.com\\/profile_background_images\\/582434131\\/b702gfj051dlluv0kdqg.jpeg\",\"profile_background_image_url_https\":\"https:\\/\\/pbs.twimg.com\\/profile_background_images\\/582434131\\/b702gfj051dlluv0kdqg.jpeg\",\"profile_background_tile\":false,\"profile_link_color\":\"9D582E\",\"profile_sidebar_border_color\":\"D9B17E\",\"profile_sidebar_fill_color\":\"EADEAA\",\"profile_text_color\":\"333333\",\"profile_use_background_image\":true,\"profile_image_url\":\"http:\\/\\/pbs.twimg.com\\/profile_images\\/719641081105678336\\/NA32bJkT_normal.jpg\",\"profile_image_url_https\":\"https:\\/\\/pbs.twimg.com\\/profile_images\\/719641081105678336\\/NA32bJkT_normal.jpg\",\"profile_banner_url\":\"https:\\/\\/pbs.twimg.com\\/profile_banners\\/14542783\\/1455034936\",\"default_profile\":false,\"default_profile_image\":false,\"following\":null,\"follow_request_sent\":null,\"notifications\":null},\"geo\":null,\"coordinates\":null,\"place\":null,\"contributors\":null,\"retweeted_status\":{\"created_at\":\"Sun Mar 04 06:49:14 +0000 2018\",\"id\":970189407218294784,\"id_str\":\"970189407218294784\",\"text\":\"How to build a #DeepLearning model in 15 minutes: https:\\/\\/t.co\\/tldbpofX7n #BigData #DataScience #AI\\u2026 https:\\/\\/t.co\\/lV4Ec0cZ10\",\"display_text_range\":[0,140],\"source\":\"\\u003ca href=\\\"http:\\/\\/twitter.com\\/download\\/iphone\\\" rel=\\\"nofollow\\\"\\u003eTwitter for iPhone\\u003c\\/a\\u003e\",\"truncated\":true,\"in_reply_to_status_id\":null,\"in_reply_to_status_id_str\":null,\"in_reply_to_user_id\":null,\"in_reply_to_user_id_str\":null,\"in_reply_to_screen_name\":null,\"user\":{\"id\":534563976,\"id_str\":\"534563976\",\"name\":\"Kirk Borne\",\"screen_name\":\"KirkDBorne\",\"location\":\"Booz Allen Hamilton\",\"url\":\"http:\\/\\/www.linkedin.com\\/in\\/kirkdborne\",\"description\":\"The Principal Data Scientist at @BoozAllen, PhD Astrophysicist. Top Data Science and Big Data Influencer. Ex-Professor http:\\/\\/rocketdatascience.org\\/ \\ud83d\\udcca\\ud83d\\udcc8\\ud83d\\udd2d\",\"translator_type\":\"none\",\"protected\":false,\"verified\":true,\"followers_count\":188617,\"friends_count\":43973,\"listed_count\":7042,\"favourites_count\":137448,\"statuses_count\":83406,\"created_at\":\"Fri Mar 23 16:35:17 +0000 2012\",\"utc_offset\":-18000,\"time_zone\":\"Eastern Time (US & Canada)\",\"geo_enabled\":false,\"lang\":\"en\",\"contributors_enabled\":false,\"is_translator\":false,\"profile_background_color\":\"C0DEED\",\"profile_background_image_url\":\"http:\\/\\/pbs.twimg.com\\/profile_background_images\\/378800000110442114\\/094a0b4d38b70e3871a1bda7d7fe2341.jpeg\",\"profile_background_image_url_https\":\"https:\\/\\/pbs.twimg.com\\/profile_background_images\\/378800000110442114\\/094a0b4d38b70e3871a1bda7d7fe2341.jpeg\",\"profile_background_tile\":true,\"profile_link_color\":\"0084B4\",\"profile_sidebar_border_color\":\"FFFFFF\",\"profile_sidebar_fill_color\":\"DDEEF6\",\"profile_text_color\":\"333333\",\"profile_use_background_image\":true,\"profile_image_url\":\"http:\\/\\/pbs.twimg.com\\/profile_images\\/869301637269139458\\/3wIcLiQC_normal.jpg\",\"profile_image_url_https\":\"https:\\/\\/pbs.twimg.com\\/profile_images\\/869301637269139458\\/3wIcLiQC_normal.jpg\",\"profile_banner_url\":\"https:\\/\\/pbs.twimg.com\\/profile_banners\\/534563976\\/1450104430\",\"default_profile\":false,\"default_profile_image\":false,\"following\":null,\"follow_request_sent\":null,\"notifications\":null},\"geo\":null,\"coordinates\":null,\"place\":null,\"contributors\":null,\"is_quote_status\":false,\"extended_tweet\":{\"full_text\":\"How to build a #DeepLearning model in 15 minutes: https:\\/\\/t.co\\/tldbpofX7n #BigData #DataScience #AI #MachineLearning #Algorithms #Python https:\\/\\/t.co\\/AW19ZDa0QI\",\"display_text_range\":[0,136],\"entities\":{\"hashtags\":[{\"text\":\"DeepLearning\",\"indices\":[15,28]},{\"text\":\"BigData\",\"indices\":[74,82]},{\"text\":\"DataScience\",\"indices\":[83,95]},{\"text\":\"AI\",\"indices\":[96,99]},{\"text\":\"MachineLearning\",\"indices\":[100,116]},{\"text\":\"Algorithms\",\"indices\":[117,128]},{\"text\":\"Python\",\"indices\":[129,136]}],\"urls\":[{\"url\":\"https:\\/\\/t.co\\/tldbpofX7n\",\"expanded_url\":\"https:\\/\\/tech.instacart.com\\/how-to-build-a-deep-learning-model-in-15-minutes-a3684c6f71e\",\"display_url\":\"tech.instacart.com\\/how-to-build-a\\u2026\",\"indices\":[50,73]}],\"user_mentions\":[],\"symbols\":[],\"media\":[{\"id\":970189400033382400,\"id_str\":\"970189400033382400\",\"indices\":[137,160],\"media_url\":\"http:\\/\\/pbs.twimg.com\\/media\\/DXbOHnnW0AABTNe.jpg\",\"media_url_https\":\"https:\\/\\/pbs.twimg.com\\/media\\/DXbOHnnW0AABTNe.jpg\",\"url\":\"https:\\/\\/t.co\\/AW19ZDa0QI\",\"display_url\":\"pic.twitter.com\\/AW19ZDa0QI\",\"expanded_url\":\"https:\\/\\/twitter.com\\/KirkDBorne\\/status\\/970189407218294784\\/photo\\/1\",\"type\":\"photo\",\"sizes\":{\"thumb\":{\"w\":150,\"h\":150,\"resize\":\"crop\"},\"medium\":{\"w\":1200,\"h\":1081,\"resize\":\"fit\"},\"small\":{\"w\":680,\"h\":613,\"resize\":\"fit\"},\"large\":{\"w\":1242,\"h\":1119,\"resize\":\"fit\"}}}]},\"extended_entities\":{\"media\":[{\"id\":970189400033382400,\"id_str\":\"970189400033382400\",\"indices\":[137,160],\"media_url\":\"http:\\/\\/pbs.twimg.com\\/media\\/DXbOHnnW0AABTNe.jpg\",\"media_url_https\":\"https:\\/\\/pbs.twimg.com\\/media\\/DXbOHnnW0AABTNe.jpg\",\"url\":\"https:\\/\\/t.co\\/AW19ZDa0QI\",\"display_url\":\"pic.twitter.com\\/AW19ZDa0QI\",\"expanded_url\":\"https:\\/\\/twitter.com\\/KirkDBorne\\/status\\/970189407218294784\\/photo\\/1\",\"type\":\"photo\",\"sizes\":{\"thumb\":{\"w\":150,\"h\":150,\"resize\":\"crop\"},\"medium\":{\"w\":1200,\"h\":1081,\"resize\":\"fit\"},\"small\":{\"w\":680,\"h\":613,\"resize\":\"fit\"},\"large\":{\"w\":1242,\"h\":1119,\"resize\":\"fit\"}}}]}},\"quote_count\":4,\"reply_count\":0,\"retweet_count\":66,\"favorite_count\":103,\"entities\":{\"hashtags\":[{\"text\":\"DeepLearning\",\"indices\":[15,28]},{\"text\":\"BigData\",\"indices\":[74,82]},{\"text\":\"DataScience\",\"indices\":[83,95]},{\"text\":\"AI\",\"indices\":[96,99]}],\"urls\":[{\"url\":\"https:\\/\\/t.co\\/tldbpofX7n\",\"expanded_url\":\"https:\\/\\/tech.instacart.com\\/how-to-build-a-deep-learning-model-in-15-minutes-a3684c6f71e\",\"display_url\":\"tech.instacart.com\\/how-to-build-a\\u2026\",\"indices\":[50,73]},{\"url\":\"https:\\/\\/t.co\\/lV4Ec0cZ10\",\"expanded_url\":\"https:\\/\\/twitter.com\\/i\\/web\\/status\\/970189407218294784\",\"display_url\":\"twitter.com\\/i\\/web\\/status\\/9\\u2026\",\"indices\":[101,124]}],\"user_mentions\":[],\"symbols\":[]},\"favorited\":false,\"retweeted\":false,\"possibly_sensitive\":false,\"filter_level\":\"low\",\"lang\":\"en\"},\"is_quote_status\":false,\"quote_count\":0,\"reply_count\":0,\"retweet_count\":0,\"favorite_count\":0,\"entities\":{\"hashtags\":[{\"text\":\"DeepLearning\",\"indices\":[31,44]},{\"text\":\"BigData\",\"indices\":[90,98]},{\"text\":\"DataScience\",\"indices\":[99,111]},{\"text\":\"AI\",\"indices\":[112,115]},{\"text\":\"MachineLearning\",\"indices\":[116,132]}],\"urls\":[{\"url\":\"https:\\/\\/t.co\\/tldbpofX7n\",\"expanded_url\":\"https:\\/\\/tech.instacart.com\\/how-to-build-a-deep-learning-model-in-15-minutes-a3684c6f71e\",\"display_url\":\"tech.instacart.com\\/how-to-build-a\\u2026\",\"indices\":[66,89]}],\"user_mentions\":[{\"screen_name\":\"KirkDBorne\",\"name\":\"Kirk Borne\",\"id\":534563976,\"id_str\":\"534563976\",\"indices\":[3,14]}],\"symbols\":[]},\"favorited\":false,\"retweeted\":false,\"possibly_sensitive\":false,\"filter_level\":\"low\",\"lang\":\"en\",\"timestamp_ms\":\"1520193307619\"}\n",
      "\n",
      "{\"created_at\":\"Sun Mar 04 19:55:28 +0000 2018\",\"id\":970387268191047682,\"id_str\":\"970387268191047682\",\"text\":\"Data Engineer at C\\u00dcR Media (Glastonbury, CT) https:\\/\\/t.co\\/dYSStrKRKW #python\",\"source\":\"\\u003ca href=\\\"https:\\/\\/careers.stackoverflow.com\\\" rel=\\\"nofollow\\\"\\u003eCareers 2.0 bot\\u003c\\/a\\u003e\",\"truncated\":false,\"in_reply_to_status_id\":null,\"in_reply_to_status_id_str\":null,\"in_reply_to_user_id\":null,\"in_reply_to_user_id_str\":null,\"in_reply_to_screen_name\":null,\"user\":{\"id\":190626981,\"id_str\":\"190626981\",\"name\":\"Stack Overflow Jobs\",\"screen_name\":\"StackDevJobs\",\"location\":null,\"url\":\"http:\\/\\/stackoverflow.com\\/jobs\",\"description\":\"Stack Overflow Jobs is the official careers platform of Stack Overflow, the #1 Q&A site built by programmers, for programmers.\",\"translator_type\":\"none\",\"protected\":false,\"verified\":false,\"followers_count\":17630,\"friends_count\":322,\"listed_count\":2170,\"favourites_count\":392,\"statuses_count\":147012,\"created_at\":\"Tue Sep 14 12:53:24 +0000 2010\",\"utc_offset\":-18000,\"time_zone\":\"Eastern Time (US & Canada)\",\"geo_enabled\":false,\"lang\":\"en\",\"contributors_enabled\":false,\"is_translator\":false,\"profile_background_color\":\"FBFBFB\",\"profile_background_image_url\":\"http:\\/\\/pbs.twimg.com\\/profile_background_images\\/148752680\\/xe55b7d4c9f2811fad54fc85d6d45f80.png\",\"profile_background_image_url_https\":\"https:\\/\\/pbs.twimg.com\\/profile_background_images\\/148752680\\/xe55b7d4c9f2811fad54fc85d6d45f80.png\",\"profile_background_tile\":true,\"profile_link_color\":\"F48024\",\"profile_sidebar_border_color\":\"EBEBEB\",\"profile_sidebar_fill_color\":\"E9E9E9\",\"profile_text_color\":\"666666\",\"profile_use_background_image\":false,\"profile_image_url\":\"http:\\/\\/pbs.twimg.com\\/profile_images\\/643779014268579840\\/bRJStj7A_normal.png\",\"profile_image_url_https\":\"https:\\/\\/pbs.twimg.com\\/profile_images\\/643779014268579840\\/bRJStj7A_normal.png\",\"default_profile\":false,\"default_profile_image\":false,\"following\":null,\"follow_request_sent\":null,\"notifications\":null},\"geo\":null,\"coordinates\":null,\"place\":null,\"contributors\":null,\"is_quote_status\":false,\"quote_count\":0,\"reply_count\":0,\"retweet_count\":0,\"favorite_count\":0,\"entities\":{\"hashtags\":[{\"text\":\"python\",\"indices\":[69,76]}],\"urls\":[{\"url\":\"https:\\/\\/t.co\\/dYSStrKRKW\",\"expanded_url\":\"https:\\/\\/stackoverflow.com\\/jobs\\/169745\\/data-engineer-c\\u00fcr-media-llc\",\"display_url\":\"stackoverflow.com\\/jobs\\/169745\\/da\\u2026\",\"indices\":[45,68]}],\"user_mentions\":[],\"symbols\":[]},\"favorited\":false,\"retweeted\":false,\"possibly_sensitive\":false,\"filter_level\":\"low\",\"lang\":\"fi\",\"timestamp_ms\":\"1520193328317\"}\n",
      "\n"
     ]
    }
   ],
   "source": [
    "from tweepy import Stream\n",
    "from tweepy.streaming import StreamListener\n",
    "import json\n",
    "\n",
    "\n",
    "rawdata=[]\n",
    "    \n",
    "class MyListener(StreamListener):\n",
    " \n",
    "    def on_data(self, data):\n",
    "        try:\n",
    "            with open(r'D:\\GSkyDrive\\Qcfinance\\learners students\\Naveen Python\\Capstone Project\\cryptocapstone\\python.json', 'a') as f:\n",
    "                f.write(data)\n",
    "                #json.dump(data, f)\n",
    "\n",
    "                #a = json.load(f)\n",
    "                rawdata.append(data)\n",
    "\n",
    "                print (data)\n",
    "                #f.close()\n",
    "                return True\n",
    "        except BaseException as e:\n",
    "            print(\"Error on_data: %s\" % str(e))\n",
    "        return True\n",
    " \n",
    "    def on_error(self, status):\n",
    "        print(status)\n",
    "        return True\n",
    " \n",
    "twitter_stream = Stream(auth, MyListener())\n",
    "twitter_stream.filter(track=['#python'])\n",
    "data"
   ]
  },
  {
   "cell_type": "code",
   "execution_count": null,
   "metadata": {
    "collapsed": true
   },
   "outputs": [],
   "source": []
  },
  {
   "cell_type": "code",
   "execution_count": null,
   "metadata": {
    "collapsed": true
   },
   "outputs": [],
   "source": []
  },
  {
   "cell_type": "code",
   "execution_count": 14,
   "metadata": {},
   "outputs": [
    {
     "data": {
      "text/plain": [
       "['{\"created_at\":\"Sun Mar 04 19:16:44 +0000 2018\",\"id\":970377523430277120,\"id_str\":\"970377523430277120\",\"text\":\"RT @maupanas: 29 Best #DataAnalytics Courses for #Business Professionals\\\\n\\\\n https:\\\\/\\\\/t.co\\\\/vLIP6wsZi3 #DataScience #DataScientist #DataScienti\\\\u2026\",\"source\":\"\\\\u003ca href=\\\\\"http:\\\\/\\\\/twitter.com\\\\/download\\\\/android\\\\\" rel=\\\\\"nofollow\\\\\"\\\\u003eTwitter for Android\\\\u003c\\\\/a\\\\u003e\",\"truncated\":false,\"in_reply_to_status_id\":null,\"in_reply_to_status_id_str\":null,\"in_reply_to_user_id\":null,\"in_reply_to_user_id_str\":null,\"in_reply_to_screen_name\":null,\"user\":{\"id\":4912744854,\"id_str\":\"4912744854\",\"name\":\"IProMag\",\"screen_name\":\"ipromagtwt\",\"location\":null,\"url\":\"http:\\\\/\\\\/www.ipromag.com\",\"description\":\"Official Account of IProMag Magazine | Helps to Achieve Healthy and Happy Lifestyle.\",\"translator_type\":\"none\",\"protected\":false,\"verified\":false,\"followers_count\":3067,\"friends_count\":3370,\"listed_count\":394,\"favourites_count\":10935,\"statuses_count\":10235,\"created_at\":\"Mon Feb 15 21:03:22 +0000 2016\",\"utc_offset\":-28800,\"time_zone\":\"Pacific Time (US & Canada)\",\"geo_enabled\":false,\"lang\":\"en\",\"contributors_enabled\":false,\"is_translator\":false,\"profile_background_color\":\"F5F8FA\",\"profile_background_image_url\":\"\",\"profile_background_image_url_https\":\"\",\"profile_background_tile\":false,\"profile_link_color\":\"1DA1F2\",\"profile_sidebar_border_color\":\"C0DEED\",\"profile_sidebar_fill_color\":\"DDEEF6\",\"profile_text_color\":\"333333\",\"profile_use_background_image\":true,\"profile_image_url\":\"http:\\\\/\\\\/pbs.twimg.com\\\\/profile_images\\\\/699996746177335297\\\\/E2BBenBi_normal.jpg\",\"profile_image_url_https\":\"https:\\\\/\\\\/pbs.twimg.com\\\\/profile_images\\\\/699996746177335297\\\\/E2BBenBi_normal.jpg\",\"profile_banner_url\":\"https:\\\\/\\\\/pbs.twimg.com\\\\/profile_banners\\\\/4912744854\\\\/1458325375\",\"default_profile\":true,\"default_profile_image\":false,\"following\":null,\"follow_request_sent\":null,\"notifications\":null},\"geo\":null,\"coordinates\":null,\"place\":null,\"contributors\":null,\"retweeted_status\":{\"created_at\":\"Sun Mar 04 15:31:13 +0000 2018\",\"id\":970320767513657344,\"id_str\":\"970320767513657344\",\"text\":\"29 Best #DataAnalytics Courses for #Business Professionals\\\\n\\\\n https:\\\\/\\\\/t.co\\\\/vLIP6wsZi3 #DataScience #DataScientist\\\\u2026 https:\\\\/\\\\/t.co\\\\/6GLdnSn7OB\",\"display_text_range\":[0,140],\"source\":\"\\\\u003ca href=\\\\\"http:\\\\/\\\\/convey.pro\\\\\" rel=\\\\\"nofollow\\\\\"\\\\u003eConvey: Make it post for you\\\\u003c\\\\/a\\\\u003e\",\"truncated\":true,\"in_reply_to_status_id\":null,\"in_reply_to_status_id_str\":null,\"in_reply_to_user_id\":null,\"in_reply_to_user_id_str\":null,\"in_reply_to_screen_name\":null,\"user\":{\"id\":2207394924,\"id_str\":\"2207394924\",\"name\":\"Panagiotis Mavroskol\",\"screen_name\":\"maupanas\",\"location\":\"Chrysoupoli,Kavala,Greece\",\"url\":\"http:\\\\/\\\\/www.digitalempery.com\\\\/go\\\\/\",\"description\":\"Math tutor  & webpreneur, digital marketer, programmer.Passionate about math, science and outdoor activities.\",\"translator_type\":\"none\",\"protected\":false,\"verified\":false,\"followers_count\":4616,\"friends_count\":5064,\"listed_count\":573,\"favourites_count\":2779,\"statuses_count\":14910,\"created_at\":\"Thu Nov 21 15:51:05 +0000 2013\",\"utc_offset\":7200,\"time_zone\":\"Athens\",\"geo_enabled\":true,\"lang\":\"el\",\"contributors_enabled\":false,\"is_translator\":false,\"profile_background_color\":\"0099B9\",\"profile_background_image_url\":\"http:\\\\/\\\\/abs.twimg.com\\\\/images\\\\/themes\\\\/theme4\\\\/bg.gif\",\"profile_background_image_url_https\":\"https:\\\\/\\\\/abs.twimg.com\\\\/images\\\\/themes\\\\/theme4\\\\/bg.gif\",\"profile_background_tile\":false,\"profile_link_color\":\"0099B9\",\"profile_sidebar_border_color\":\"5ED4DC\",\"profile_sidebar_fill_color\":\"95E8EC\",\"profile_text_color\":\"3C3940\",\"profile_use_background_image\":true,\"profile_image_url\":\"http:\\\\/\\\\/pbs.twimg.com\\\\/profile_images\\\\/594347774709227520\\\\/JMoDEljb_normal.jpg\",\"profile_image_url_https\":\"https:\\\\/\\\\/pbs.twimg.com\\\\/profile_images\\\\/594347774709227520\\\\/JMoDEljb_normal.jpg\",\"profile_banner_url\":\"https:\\\\/\\\\/pbs.twimg.com\\\\/profile_banners\\\\/2207394924\\\\/1394919775\",\"default_profile\":false,\"default_profile_image\":false,\"following\":null,\"follow_request_sent\":null,\"notifications\":null},\"geo\":null,\"coordinates\":null,\"place\":null,\"contributors\":null,\"is_quote_status\":false,\"extended_tweet\":{\"full_text\":\"29 Best #DataAnalytics Courses for #Business Professionals\\\\n\\\\n https:\\\\/\\\\/t.co\\\\/vLIP6wsZi3 #DataScience #DataScientist #DataScientists #BusinessIntelligence #ArtificialIntelligence #AI #BigData #BigDataAnalytics #R #Analytics #IoT #IIoT #Python\\\\u2026 by #Jadirectivestwt via @c0nvey https:\\\\/\\\\/t.co\\\\/HG2joS3Xs6\",\"display_text_range\":[0,271],\"entities\":{\"hashtags\":[{\"text\":\"DataAnalytics\",\"indices\":[8,22]},{\"text\":\"Business\",\"indices\":[35,44]},{\"text\":\"DataScience\",\"indices\":[85,97]},{\"text\":\"DataScientist\",\"indices\":[98,112]},{\"text\":\"DataScientists\",\"indices\":[113,128]},{\"text\":\"BusinessIntelligence\",\"indices\":[129,150]},{\"text\":\"ArtificialIntelligence\",\"indices\":[151,174]},{\"text\":\"AI\",\"indices\":[175,178]},{\"text\":\"BigData\",\"indices\":[179,187]},{\"text\":\"BigDataAnalytics\",\"indices\":[188,205]},{\"text\":\"R\",\"indices\":[206,208]},{\"text\":\"Analytics\",\"indices\":[209,219]},{\"text\":\"IoT\",\"indices\":[220,224]},{\"text\":\"IIoT\",\"indices\":[225,230]},{\"text\":\"Python\",\"indices\":[231,238]},{\"text\":\"Jadirectivestwt\",\"indices\":[243,259]}],\"urls\":[{\"url\":\"https:\\\\/\\\\/t.co\\\\/vLIP6wsZi3\",\"expanded_url\":\"http:\\\\/\\\\/www.jadirectives.com.convey.pro\\\\/l\\\\/XopQ6Z7\",\"display_url\":\"jadirectives.com.convey.pro\\\\/l\\\\/XopQ6Z7\",\"indices\":[61,84]}],\"user_mentions\":[{\"screen_name\":\"c0nvey\",\"name\":\"Convey\",\"id\":750282011160481792,\"id_str\":\"750282011160481792\",\"indices\":[264,271]}],\"symbols\":[],\"media\":[{\"id\":970320765575946240,\"id_str\":\"970320765575946240\",\"indices\":[272,295],\"media_url\":\"http:\\\\/\\\\/pbs.twimg.com\\\\/media\\\\/DXdFmGZW4AAMvMD.jpg\",\"media_url_https\":\"https:\\\\/\\\\/pbs.twimg.com\\\\/media\\\\/DXdFmGZW4AAMvMD.jpg\",\"url\":\"https:\\\\/\\\\/t.co\\\\/HG2joS3Xs6\",\"display_url\":\"pic.twitter.com\\\\/HG2joS3Xs6\",\"expanded_url\":\"https:\\\\/\\\\/twitter.com\\\\/maupanas\\\\/status\\\\/970320767513657344\\\\/photo\\\\/1\",\"type\":\"photo\",\"sizes\":{\"thumb\":{\"w\":150,\"h\":150,\"resize\":\"crop\"},\"medium\":{\"w\":700,\"h\":400,\"resize\":\"fit\"},\"small\":{\"w\":680,\"h\":389,\"resize\":\"fit\"},\"large\":{\"w\":700,\"h\":400,\"resize\":\"fit\"}}}]},\"extended_entities\":{\"media\":[{\"id\":970320765575946240,\"id_str\":\"970320765575946240\",\"indices\":[272,295],\"media_url\":\"http:\\\\/\\\\/pbs.twimg.com\\\\/media\\\\/DXdFmGZW4AAMvMD.jpg\",\"media_url_https\":\"https:\\\\/\\\\/pbs.twimg.com\\\\/media\\\\/DXdFmGZW4AAMvMD.jpg\",\"url\":\"https:\\\\/\\\\/t.co\\\\/HG2joS3Xs6\",\"display_url\":\"pic.twitter.com\\\\/HG2joS3Xs6\",\"expanded_url\":\"https:\\\\/\\\\/twitter.com\\\\/maupanas\\\\/status\\\\/970320767513657344\\\\/photo\\\\/1\",\"type\":\"photo\",\"sizes\":{\"thumb\":{\"w\":150,\"h\":150,\"resize\":\"crop\"},\"medium\":{\"w\":700,\"h\":400,\"resize\":\"fit\"},\"small\":{\"w\":680,\"h\":389,\"resize\":\"fit\"},\"large\":{\"w\":700,\"h\":400,\"resize\":\"fit\"}}}]}},\"quote_count\":0,\"reply_count\":0,\"retweet_count\":12,\"favorite_count\":14,\"entities\":{\"hashtags\":[{\"text\":\"DataAnalytics\",\"indices\":[8,22]},{\"text\":\"Business\",\"indices\":[35,44]},{\"text\":\"DataScience\",\"indices\":[85,97]},{\"text\":\"DataScientist\",\"indices\":[98,112]}],\"urls\":[{\"url\":\"https:\\\\/\\\\/t.co\\\\/vLIP6wsZi3\",\"expanded_url\":\"http:\\\\/\\\\/www.jadirectives.com.convey.pro\\\\/l\\\\/XopQ6Z7\",\"display_url\":\"jadirectives.com.convey.pro\\\\/l\\\\/XopQ6Z7\",\"indices\":[61,84]},{\"url\":\"https:\\\\/\\\\/t.co\\\\/6GLdnSn7OB\",\"expanded_url\":\"https:\\\\/\\\\/twitter.com\\\\/i\\\\/web\\\\/status\\\\/970320767513657344\",\"display_url\":\"twitter.com\\\\/i\\\\/web\\\\/status\\\\/9\\\\u2026\",\"indices\":[114,137]}],\"user_mentions\":[],\"symbols\":[]},\"favorited\":false,\"retweeted\":false,\"possibly_sensitive\":false,\"filter_level\":\"low\",\"lang\":\"en\"},\"is_quote_status\":false,\"quote_count\":0,\"reply_count\":0,\"retweet_count\":0,\"favorite_count\":0,\"entities\":{\"hashtags\":[{\"text\":\"DataAnalytics\",\"indices\":[22,36]},{\"text\":\"Business\",\"indices\":[49,58]},{\"text\":\"DataScience\",\"indices\":[99,111]},{\"text\":\"DataScientist\",\"indices\":[112,126]}],\"urls\":[{\"url\":\"https:\\\\/\\\\/t.co\\\\/vLIP6wsZi3\",\"expanded_url\":\"http:\\\\/\\\\/www.jadirectives.com.convey.pro\\\\/l\\\\/XopQ6Z7\",\"display_url\":\"jadirectives.com.convey.pro\\\\/l\\\\/XopQ6Z7\",\"indices\":[75,98]}],\"user_mentions\":[{\"screen_name\":\"maupanas\",\"name\":\"Panagiotis Mavroskol\",\"id\":2207394924,\"id_str\":\"2207394924\",\"indices\":[3,12]}],\"symbols\":[]},\"favorited\":false,\"retweeted\":false,\"possibly_sensitive\":false,\"filter_level\":\"low\",\"lang\":\"en\",\"timestamp_ms\":\"1520191004985\"}\\r\\n']"
      ]
     },
     "execution_count": 14,
     "metadata": {},
     "output_type": "execute_result"
    }
   ],
   "source": [
    "rawdata"
   ]
  },
  {
   "cell_type": "code",
   "execution_count": 18,
   "metadata": {},
   "outputs": [
    {
     "ename": "AttributeError",
     "evalue": "'str' object has no attribute 'readline'",
     "output_type": "error",
     "traceback": [
      "\u001b[1;31m---------------------------------------------------------------------------\u001b[0m",
      "\u001b[1;31mAttributeError\u001b[0m                            Traceback (most recent call last)",
      "\u001b[1;32m<ipython-input-18-0f2e8290544e>\u001b[0m in \u001b[0;36m<module>\u001b[1;34m()\u001b[0m\n\u001b[0;32m      2\u001b[0m \u001b[1;33m\u001b[0m\u001b[0m\n\u001b[0;32m      3\u001b[0m \u001b[1;33m\u001b[0m\u001b[0m\n\u001b[1;32m----> 4\u001b[1;33m \u001b[0mline\u001b[0m \u001b[1;33m=\u001b[0m \u001b[0mrawdata\u001b[0m\u001b[1;33m[\u001b[0m\u001b[1;36m0\u001b[0m\u001b[1;33m]\u001b[0m\u001b[1;33m.\u001b[0m\u001b[0mreadline\u001b[0m\u001b[1;33m(\u001b[0m\u001b[1;33m)\u001b[0m \u001b[1;31m# read only the first tweet/line\u001b[0m\u001b[1;33m\u001b[0m\u001b[0m\n\u001b[0m\u001b[0;32m      5\u001b[0m \u001b[0mtweet\u001b[0m \u001b[1;33m=\u001b[0m \u001b[0mjson\u001b[0m\u001b[1;33m.\u001b[0m\u001b[0mloads\u001b[0m\u001b[1;33m(\u001b[0m\u001b[0mline\u001b[0m\u001b[1;33m)\u001b[0m \u001b[1;31m# load it as Python dict\u001b[0m\u001b[1;33m\u001b[0m\u001b[0m\n\u001b[0;32m      6\u001b[0m \u001b[0mprint\u001b[0m\u001b[1;33m(\u001b[0m\u001b[0mjson\u001b[0m\u001b[1;33m.\u001b[0m\u001b[0mdumps\u001b[0m\u001b[1;33m(\u001b[0m\u001b[0mtweet\u001b[0m\u001b[1;33m,\u001b[0m \u001b[0mindent\u001b[0m\u001b[1;33m=\u001b[0m\u001b[1;36m4\u001b[0m\u001b[1;33m)\u001b[0m\u001b[1;33m)\u001b[0m \u001b[1;31m# pretty-print\u001b[0m\u001b[1;33m\u001b[0m\u001b[0m\n",
      "\u001b[1;31mAttributeError\u001b[0m: 'str' object has no attribute 'readline'"
     ]
    }
   ],
   "source": [
    "import json\n",
    " \n",
    "\n",
    "line = rawdata[0].readline() # read only the first tweet/line\n",
    "tweet = json.loads(line) # load it as Python dict\n",
    "print(json.dumps(tweet, indent=4)) # pretty-print"
   ]
  },
  {
   "cell_type": "code",
   "execution_count": 22,
   "metadata": {
    "collapsed": true
   },
   "outputs": [],
   "source": [
    "with open('python.json', 'a') as f:\n",
    "    f.write(\"hi\")"
   ]
  },
  {
   "cell_type": "code",
   "execution_count": null,
   "metadata": {
    "collapsed": true
   },
   "outputs": [],
   "source": []
  }
 ],
 "metadata": {
  "kernelspec": {
   "display_name": "Python 3",
   "language": "python",
   "name": "python3"
  }
 },
 "nbformat": 4,
 "nbformat_minor": 2
}
