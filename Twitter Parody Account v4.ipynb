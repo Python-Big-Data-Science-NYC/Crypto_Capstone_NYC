{
 "cells": [
  {
   "cell_type": "code",
   "execution_count": 35,
   "metadata": {},
   "outputs": [],
   "source": [
    "#https://marcobonzanini.com/2015/03/02/mining-twitter-data-with-python-part-1/\n",
    "import twitter"
   ]
  },
  {
   "cell_type": "code",
   "execution_count": 36,
   "metadata": {},
   "outputs": [],
   "source": [
    "# api = twitter.Api(consumer_key='WePA5SfOMvHskQBXvOgv1Nkdf',\n",
    "#                       consumer_secret='PhzfQ0LfX7fPSmtTLEv0lkk1Loixw7Xmf4jLZKyZrQsPSCbv0G',\n",
    "#                       access_token_key='968329675-ZLZ9wAZC74CmnymEUvF2P5GdGdIFPeVasInhYkOf',\n",
    "#                       access_token_secret='NPXe8DnjAhZieg8PePR70cLGDu61F8a8UgWPwSa87c8hy')"
   ]
  },
  {
   "cell_type": "code",
   "execution_count": 37,
   "metadata": {},
   "outputs": [],
   "source": [
    "# print(api.VerifyCredentials())"
   ]
  },
  {
   "cell_type": "code",
   "execution_count": 38,
   "metadata": {},
   "outputs": [],
   "source": [
    "import tweepy\n",
    "from tweepy import OAuthHandler\n",
    "\n",
    "consumer_key='WePA5SfOMvHskQBXvOgv1Nkdf'\n",
    "consumer_secret='PhzfQ0LfX7fPSmtTLEv0lkk1Loixw7Xmf4jLZKyZrQsPSCbv0G'\n",
    "access_token='968329675-ZLZ9wAZC74CmnymEUvF2P5GdGdIFPeVasInhYkOf'\n",
    "access_secret='NPXe8DnjAhZieg8PePR70cLGDu61F8a8UgWPwSa87c8hy'\n",
    " \n",
    "auth = OAuthHandler(consumer_key, consumer_secret)\n",
    "auth.set_access_token(access_token, access_secret)\n",
    " \n",
    "api = tweepy.API(auth)"
   ]
  },
  {
   "cell_type": "code",
   "execution_count": 84,
   "metadata": {},
   "outputs": [],
   "source": [
    "#for status in tweepy.Cursor(api.home_timeline).items(10):\n",
    "    # Process a single status\n",
    "    #print(status.text)"
   ]
  },
  {
   "cell_type": "code",
   "execution_count": 40,
   "metadata": {
    "collapsed": true
   },
   "outputs": [],
   "source": [
    "def process_or_store(tweet):\n",
    "    print(json.dumps(tweet))"
   ]
  },
  {
   "cell_type": "code",
   "execution_count": 42,
   "metadata": {},
   "outputs": [
    {
     "name": "stdout",
     "output_type": "stream",
     "text": [
      "{\"created_at\":\"Sun Mar 04 21:57:05 +0000 2018\",\"id\":970417875306598400,\"id_str\":\"970417875306598400\",\"text\":\"\\ud83d\\udce2 Very Nice #airdrop about $33 worth! (#token price) \\ud83d\\udce2\\n\\n1. Go to https:\\/\\/t.co\\/2B2B61Zy4x\\n2. Sign up E-mail\\n3. Join\\u2026 https:\\/\\/t.co\\/eZPTYw9B7I\",\"source\":\"\\u003ca href=\\\"http:\\/\\/twitter.com\\\" rel=\\\"nofollow\\\"\\u003eTwitter Web Client\\u003c\\/a\\u003e\",\"truncated\":true,\"in_reply_to_status_id\":null,\"in_reply_to_status_id_str\":null,\"in_reply_to_user_id\":null,\"in_reply_to_user_id_str\":null,\"in_reply_to_screen_name\":null,\"user\":{\"id\":947931914400301061,\"id_str\":\"947931914400301061\",\"name\":\"Jos Zonneveld\",\"screen_name\":\"JvZonne\",\"location\":null,\"url\":null,\"description\":null,\"translator_type\":\"none\",\"protected\":false,\"verified\":false,\"followers_count\":356,\"friends_count\":729,\"listed_count\":0,\"favourites_count\":305,\"statuses_count\":252,\"created_at\":\"Mon Jan 01 20:45:54 +0000 2018\",\"utc_offset\":-28800,\"time_zone\":\"Pacific Time (US & Canada)\",\"geo_enabled\":false,\"lang\":\"nl\",\"contributors_enabled\":false,\"is_translator\":false,\"profile_background_color\":\"000000\",\"profile_background_image_url\":\"http:\\/\\/abs.twimg.com\\/images\\/themes\\/theme1\\/bg.png\",\"profile_background_image_url_https\":\"https:\\/\\/abs.twimg.com\\/images\\/themes\\/theme1\\/bg.png\",\"profile_background_tile\":false,\"profile_link_color\":\"1B95E0\",\"profile_sidebar_border_color\":\"000000\",\"profile_sidebar_fill_color\":\"000000\",\"profile_text_color\":\"000000\",\"profile_use_background_image\":false,\"profile_image_url\":\"http:\\/\\/pbs.twimg.com\\/profile_images\\/954147516899037185\\/I2WHZ4lG_normal.jpg\",\"profile_image_url_https\":\"https:\\/\\/pbs.twimg.com\\/profile_images\\/954147516899037185\\/I2WHZ4lG_normal.jpg\",\"profile_banner_url\":\"https:\\/\\/pbs.twimg.com\\/profile_banners\\/947931914400301061\\/1516321739\",\"default_profile\":false,\"default_profile_image\":false,\"following\":null,\"follow_request_sent\":null,\"notifications\":null},\"geo\":null,\"coordinates\":null,\"place\":null,\"contributors\":null,\"is_quote_status\":false,\"extended_tweet\":{\"full_text\":\"\\ud83d\\udce2 Very Nice #airdrop about $33 worth! (#token price) \\ud83d\\udce2\\n\\n1. Go to https:\\/\\/t.co\\/2B2B61Zy4x\\n2. Sign up E-mail\\n3. Join Telegram\\n4. Done! $33 SYN!\\n\\n#\\u20e3 #live #Giveaway #cryptocurrency #eth #free #bitcoin #BTC #altcoin #ico #Bounties #freetoken #tokens #money #earn #coin #\\u20e3\",\"display_text_range\":[0,267],\"entities\":{\"hashtags\":[{\"text\":\"airdrop\",\"indices\":[12,20]},{\"text\":\"token\",\"indices\":[39,45]},{\"text\":\"live\",\"indices\":[146,151]},{\"text\":\"Giveaway\",\"indices\":[152,161]},{\"text\":\"cryptocurrency\",\"indices\":[162,177]},{\"text\":\"eth\",\"indices\":[178,182]},{\"text\":\"free\",\"indices\":[183,188]},{\"text\":\"bitcoin\",\"indices\":[189,197]},{\"text\":\"BTC\",\"indices\":[198,202]},{\"text\":\"altcoin\",\"indices\":[203,211]},{\"text\":\"ico\",\"indices\":[212,216]},{\"text\":\"Bounties\",\"indices\":[217,226]},{\"text\":\"freetoken\",\"indices\":[227,237]},{\"text\":\"tokens\",\"indices\":[238,245]},{\"text\":\"money\",\"indices\":[246,252]},{\"text\":\"earn\",\"indices\":[253,258]},{\"text\":\"coin\",\"indices\":[259,264]}],\"urls\":[{\"url\":\"https:\\/\\/t.co\\/2B2B61Zy4x\",\"expanded_url\":\"https:\\/\\/tokensale.synapse.ai\\/r\\/47564\",\"display_url\":\"tokensale.synapse.ai\\/r\\/47564\",\"indices\":[65,88]}],\"user_mentions\":[],\"symbols\":[]}},\"quote_count\":0,\"reply_count\":0,\"retweet_count\":0,\"favorite_count\":0,\"entities\":{\"hashtags\":[{\"text\":\"airdrop\",\"indices\":[12,20]},{\"text\":\"token\",\"indices\":[39,45]}],\"urls\":[{\"url\":\"https:\\/\\/t.co\\/2B2B61Zy4x\",\"expanded_url\":\"https:\\/\\/tokensale.synapse.ai\\/r\\/47564\",\"display_url\":\"tokensale.synapse.ai\\/r\\/47564\",\"indices\":[65,88]},{\"url\":\"https:\\/\\/t.co\\/eZPTYw9B7I\",\"expanded_url\":\"https:\\/\\/twitter.com\\/i\\/web\\/status\\/970417875306598400\",\"display_url\":\"twitter.com\\/i\\/web\\/status\\/9\\u2026\",\"indices\":[116,139]}],\"user_mentions\":[],\"symbols\":[]},\"favorited\":false,\"retweeted\":false,\"possibly_sensitive\":false,\"filter_level\":\"low\",\"lang\":\"en\",\"timestamp_ms\":\"1520200625622\"}\r\n",
      "\n",
      "{\"created_at\":\"Sun Mar 04 21:57:27 +0000 2018\",\"id\":970417968705409024,\"id_str\":\"970417968705409024\",\"text\":\"RT @NBCoin: #Airdrop #National #Broadcasting #Coin #NBC #Is #Live #Join\\n\\n\\u00a0https:\\/\\/t.co\\/rvWHdtnvuV\",\"source\":\"\\u003ca href=\\\"http:\\/\\/twitter.com\\\" rel=\\\"nofollow\\\"\\u003eTwitter Web Client\\u003c\\/a\\u003e\",\"truncated\":false,\"in_reply_to_status_id\":null,\"in_reply_to_status_id_str\":null,\"in_reply_to_user_id\":null,\"in_reply_to_user_id_str\":null,\"in_reply_to_screen_name\":null,\"user\":{\"id\":952940027566313472,\"id_str\":\"952940027566313472\",\"name\":\"Ismail Sellama\",\"screen_name\":\"IsmailSellama\",\"location\":\"Kh\\u00e9misset, Royaume du Maroc\",\"url\":null,\"description\":\"0x9DD07FBaCc8E15D09e07d3bF0D43AAaFBe25D8ee\",\"translator_type\":\"none\",\"protected\":false,\"verified\":false,\"followers_count\":58,\"friends_count\":187,\"listed_count\":0,\"favourites_count\":225,\"statuses_count\":1219,\"created_at\":\"Mon Jan 15 16:26:22 +0000 2018\",\"utc_offset\":null,\"time_zone\":null,\"geo_enabled\":false,\"lang\":\"fr\",\"contributors_enabled\":false,\"is_translator\":false,\"profile_background_color\":\"000000\",\"profile_background_image_url\":\"http:\\/\\/abs.twimg.com\\/images\\/themes\\/theme1\\/bg.png\",\"profile_background_image_url_https\":\"https:\\/\\/abs.twimg.com\\/images\\/themes\\/theme1\\/bg.png\",\"profile_background_tile\":false,\"profile_link_color\":\"ABB8C2\",\"profile_sidebar_border_color\":\"000000\",\"profile_sidebar_fill_color\":\"000000\",\"profile_text_color\":\"000000\",\"profile_use_background_image\":false,\"profile_image_url\":\"http:\\/\\/pbs.twimg.com\\/profile_images\\/952940574130221057\\/GNu6JpF-_normal.jpg\",\"profile_image_url_https\":\"https:\\/\\/pbs.twimg.com\\/profile_images\\/952940574130221057\\/GNu6JpF-_normal.jpg\",\"profile_banner_url\":\"https:\\/\\/pbs.twimg.com\\/profile_banners\\/952940027566313472\\/1516964825\",\"default_profile\":false,\"default_profile_image\":false,\"following\":null,\"follow_request_sent\":null,\"notifications\":null},\"geo\":null,\"coordinates\":null,\"place\":null,\"contributors\":null,\"retweeted_status\":{\"created_at\":\"Sat Feb 24 14:16:28 +0000 2018\",\"id\":967402853110173696,\"id_str\":\"967402853110173696\",\"text\":\"#Airdrop #National #Broadcasting #Coin #NBC #Is #Live #Join\\n\\n\\u00a0https:\\/\\/t.co\\/rvWHdtnvuV\",\"source\":\"\\u003ca href=\\\"http:\\/\\/twitter.com\\/download\\/android\\\" rel=\\\"nofollow\\\"\\u003eTwitter for Android\\u003c\\/a\\u003e\",\"truncated\":false,\"in_reply_to_status_id\":null,\"in_reply_to_status_id_str\":null,\"in_reply_to_user_id\":null,\"in_reply_to_user_id_str\":null,\"in_reply_to_screen_name\":null,\"user\":{\"id\":967398527889391616,\"id_str\":\"967398527889391616\",\"name\":\"NationalBroadcastingCoin\",\"screen_name\":\"NBCoin\",\"location\":null,\"url\":null,\"description\":null,\"translator_type\":\"none\",\"protected\":false,\"verified\":false,\"followers_count\":1122,\"friends_count\":1,\"listed_count\":0,\"favourites_count\":0,\"statuses_count\":13,\"created_at\":\"Sat Feb 24 13:59:17 +0000 2018\",\"utc_offset\":null,\"time_zone\":null,\"geo_enabled\":false,\"lang\":\"en\",\"contributors_enabled\":false,\"is_translator\":false,\"profile_background_color\":\"F5F8FA\",\"profile_background_image_url\":\"\",\"profile_background_image_url_https\":\"\",\"profile_background_tile\":false,\"profile_link_color\":\"1DA1F2\",\"profile_sidebar_border_color\":\"C0DEED\",\"profile_sidebar_fill_color\":\"DDEEF6\",\"profile_text_color\":\"333333\",\"profile_use_background_image\":true,\"profile_image_url\":\"http:\\/\\/pbs.twimg.com\\/profile_images\\/967398921369616384\\/jca70Coq_normal.jpg\",\"profile_image_url_https\":\"https:\\/\\/pbs.twimg.com\\/profile_images\\/967398921369616384\\/jca70Coq_normal.jpg\",\"default_profile\":true,\"default_profile_image\":false,\"following\":null,\"follow_request_sent\":null,\"notifications\":null},\"geo\":null,\"coordinates\":null,\"place\":null,\"contributors\":null,\"is_quote_status\":false,\"quote_count\":398,\"reply_count\":217,\"retweet_count\":770,\"favorite_count\":633,\"entities\":{\"hashtags\":[{\"text\":\"Airdrop\",\"indices\":[0,8]},{\"text\":\"National\",\"indices\":[9,18]},{\"text\":\"Broadcasting\",\"indices\":[19,32]},{\"text\":\"Coin\",\"indices\":[33,38]},{\"text\":\"NBC\",\"indices\":[39,43]},{\"text\":\"Is\",\"indices\":[44,47]},{\"text\":\"Live\",\"indices\":[48,53]},{\"text\":\"Join\",\"indices\":[54,59]}],\"urls\":[{\"url\":\"https:\\/\\/t.co\\/rvWHdtnvuV\",\"expanded_url\":\"https:\\/\\/docs.google.com\\/forms\\/d\\/e\\/1FAIpQLSchRTG3e9AaqlQK_vslhpd5tHCqh6E7iireImsX4zzq5Xn5VA\\/viewform\",\"display_url\":\"docs.google.com\\/forms\\/d\\/e\\/1FAI\\u2026\",\"indices\":[62,85]}],\"user_mentions\":[],\"symbols\":[]},\"favorited\":false,\"retweeted\":false,\"possibly_sensitive\":false,\"filter_level\":\"low\",\"lang\":\"und\"},\"is_quote_status\":false,\"quote_count\":0,\"reply_count\":0,\"retweet_count\":0,\"favorite_count\":0,\"entities\":{\"hashtags\":[{\"text\":\"Airdrop\",\"indices\":[12,20]},{\"text\":\"National\",\"indices\":[21,30]},{\"text\":\"Broadcasting\",\"indices\":[31,44]},{\"text\":\"Coin\",\"indices\":[45,50]},{\"text\":\"NBC\",\"indices\":[51,55]},{\"text\":\"Is\",\"indices\":[56,59]},{\"text\":\"Live\",\"indices\":[60,65]},{\"text\":\"Join\",\"indices\":[66,71]}],\"urls\":[{\"url\":\"https:\\/\\/t.co\\/rvWHdtnvuV\",\"expanded_url\":\"https:\\/\\/docs.google.com\\/forms\\/d\\/e\\/1FAIpQLSchRTG3e9AaqlQK_vslhpd5tHCqh6E7iireImsX4zzq5Xn5VA\\/viewform\",\"display_url\":\"docs.google.com\\/forms\\/d\\/e\\/1FAI\\u2026\",\"indices\":[74,97]}],\"user_mentions\":[{\"screen_name\":\"NBCoin\",\"name\":\"NationalBroadcastingCoin\",\"id\":967398527889391616,\"id_str\":\"967398527889391616\",\"indices\":[3,10]}],\"symbols\":[]},\"favorited\":false,\"retweeted\":false,\"possibly_sensitive\":false,\"filter_level\":\"low\",\"lang\":\"und\",\"timestamp_ms\":\"1520200647890\"}\r\n"
     ]
    },
    {
     "name": "stdout",
     "output_type": "stream",
     "text": [
      "\n",
      "{\"created_at\":\"Sun Mar 04 21:57:47 +0000 2018\",\"id\":970418052138455040,\"id_str\":\"970418052138455040\",\"text\":\"https:\\/\\/t.co\\/4NqKZk1R2d\",\"source\":\"\\u003ca href=\\\"https:\\/\\/twitter.com\\/abbytre8\\\" rel=\\\"nofollow\\\"\\u003eabbytre8\\u003c\\/a\\u003e\",\"truncated\":false,\"in_reply_to_status_id\":null,\"in_reply_to_status_id_str\":null,\"in_reply_to_user_id\":null,\"in_reply_to_user_id_str\":null,\"in_reply_to_screen_name\":null,\"user\":{\"id\":933758521107152896,\"id_str\":\"933758521107152896\",\"name\":\"Abby Trevino\",\"screen_name\":\"abbytre8\",\"location\":null,\"url\":null,\"description\":null,\"translator_type\":\"none\",\"protected\":false,\"verified\":false,\"followers_count\":18,\"friends_count\":126,\"listed_count\":0,\"favourites_count\":1,\"statuses_count\":62,\"created_at\":\"Thu Nov 23 18:05:54 +0000 2017\",\"utc_offset\":-28800,\"time_zone\":\"Pacific Time (US & Canada)\",\"geo_enabled\":false,\"lang\":\"ru\",\"contributors_enabled\":false,\"is_translator\":false,\"profile_background_color\":\"F5F8FA\",\"profile_background_image_url\":\"\",\"profile_background_image_url_https\":\"\",\"profile_background_tile\":false,\"profile_link_color\":\"1DA1F2\",\"profile_sidebar_border_color\":\"C0DEED\",\"profile_sidebar_fill_color\":\"DDEEF6\",\"profile_text_color\":\"333333\",\"profile_use_background_image\":true,\"profile_image_url\":\"http:\\/\\/pbs.twimg.com\\/profile_images\\/948215120416690179\\/HRutEW1u_normal.jpg\",\"profile_image_url_https\":\"https:\\/\\/pbs.twimg.com\\/profile_images\\/948215120416690179\\/HRutEW1u_normal.jpg\",\"default_profile\":true,\"default_profile_image\":false,\"following\":null,\"follow_request_sent\":null,\"notifications\":null},\"geo\":null,\"coordinates\":null,\"place\":null,\"contributors\":null,\"quoted_status_id\":967402853110173696,\"quoted_status_id_str\":\"967402853110173696\",\"quoted_status\":{\"created_at\":\"Sat Feb 24 14:16:28 +0000 2018\",\"id\":967402853110173696,\"id_str\":\"967402853110173696\",\"text\":\"#Airdrop #National #Broadcasting #Coin #NBC #Is #Live #Join\\n\\n\\u00a0https:\\/\\/t.co\\/rvWHdtnvuV\",\"source\":\"\\u003ca href=\\\"http:\\/\\/twitter.com\\/download\\/android\\\" rel=\\\"nofollow\\\"\\u003eTwitter for Android\\u003c\\/a\\u003e\",\"truncated\":false,\"in_reply_to_status_id\":null,\"in_reply_to_status_id_str\":null,\"in_reply_to_user_id\":null,\"in_reply_to_user_id_str\":null,\"in_reply_to_screen_name\":null,\"user\":{\"id\":967398527889391616,\"id_str\":\"967398527889391616\",\"name\":\"NationalBroadcastingCoin\",\"screen_name\":\"NBCoin\",\"location\":null,\"url\":null,\"description\":null,\"translator_type\":\"none\",\"protected\":false,\"verified\":false,\"followers_count\":1123,\"friends_count\":1,\"listed_count\":0,\"favourites_count\":0,\"statuses_count\":13,\"created_at\":\"Sat Feb 24 13:59:17 +0000 2018\",\"utc_offset\":null,\"time_zone\":null,\"geo_enabled\":false,\"lang\":\"en\",\"contributors_enabled\":false,\"is_translator\":false,\"profile_background_color\":\"F5F8FA\",\"profile_background_image_url\":\"\",\"profile_background_image_url_https\":\"\",\"profile_background_tile\":false,\"profile_link_color\":\"1DA1F2\",\"profile_sidebar_border_color\":\"C0DEED\",\"profile_sidebar_fill_color\":\"DDEEF6\",\"profile_text_color\":\"333333\",\"profile_use_background_image\":true,\"profile_image_url\":\"http:\\/\\/pbs.twimg.com\\/profile_images\\/967398921369616384\\/jca70Coq_normal.jpg\",\"profile_image_url_https\":\"https:\\/\\/pbs.twimg.com\\/profile_images\\/967398921369616384\\/jca70Coq_normal.jpg\",\"default_profile\":true,\"default_profile_image\":false,\"following\":null,\"follow_request_sent\":null,\"notifications\":null},\"geo\":null,\"coordinates\":null,\"place\":null,\"contributors\":null,\"is_quote_status\":false,\"quote_count\":398,\"reply_count\":217,\"retweet_count\":770,\"favorite_count\":633,\"entities\":{\"hashtags\":[{\"text\":\"Airdrop\",\"indices\":[0,8]},{\"text\":\"National\",\"indices\":[9,18]},{\"text\":\"Broadcasting\",\"indices\":[19,32]},{\"text\":\"Coin\",\"indices\":[33,38]},{\"text\":\"NBC\",\"indices\":[39,43]},{\"text\":\"Is\",\"indices\":[44,47]},{\"text\":\"Live\",\"indices\":[48,53]},{\"text\":\"Join\",\"indices\":[54,59]}],\"urls\":[{\"url\":\"https:\\/\\/t.co\\/rvWHdtnvuV\",\"expanded_url\":\"https:\\/\\/docs.google.com\\/forms\\/d\\/e\\/1FAIpQLSchRTG3e9AaqlQK_vslhpd5tHCqh6E7iireImsX4zzq5Xn5VA\\/viewform\",\"display_url\":\"docs.google.com\\/forms\\/d\\/e\\/1FAI\\u2026\",\"indices\":[62,85]}],\"user_mentions\":[],\"symbols\":[]},\"favorited\":false,\"retweeted\":false,\"possibly_sensitive\":false,\"filter_level\":\"low\",\"lang\":\"und\"},\"is_quote_status\":true,\"quote_count\":0,\"reply_count\":0,\"retweet_count\":0,\"favorite_count\":0,\"entities\":{\"hashtags\":[],\"urls\":[{\"url\":\"https:\\/\\/t.co\\/4NqKZk1R2d\",\"expanded_url\":\"https:\\/\\/twitter.com\\/NBCoin\\/status\\/967402853110173696\",\"display_url\":\"twitter.com\\/NBCoin\\/status\\/\\u2026\",\"indices\":[0,23]}],\"user_mentions\":[],\"symbols\":[]},\"favorited\":false,\"retweeted\":false,\"possibly_sensitive\":false,\"filter_level\":\"low\",\"lang\":\"und\",\"timestamp_ms\":\"1520200667782\"}\n",
      "\n",
      "{\"created_at\":\"Sun Mar 04 21:57:48 +0000 2018\",\"id\":970418053170237441,\"id_str\":\"970418053170237441\",\"text\":\"follow this https:\\/\\/t.co\\/Fnz4RbAg60\",\"display_text_range\":[0,11],\"source\":\"\\u003ca href=\\\"http:\\/\\/twitter.com\\\" rel=\\\"nofollow\\\"\\u003eTwitter Web Client\\u003c\\/a\\u003e\",\"truncated\":false,\"in_reply_to_status_id\":null,\"in_reply_to_status_id_str\":null,\"in_reply_to_user_id\":null,\"in_reply_to_user_id_str\":null,\"in_reply_to_screen_name\":null,\"user\":{\"id\":40719748,\"id_str\":\"40719748\",\"name\":\"Ubikalo\",\"screen_name\":\"ubikalo\",\"location\":\"Latinoamerica\",\"url\":\"http:\\/\\/www.steemit.com\\/@ubikalo\",\"description\":\"Creo en la magia, en la gente honesta y guerrera...el poder solo amplifica qu\\u00e9 y quienes somos...\\nIG\\/Steemit\\/Facebook @ubikalo \\nWA\\/Telegram \\u00bf58 412 1884491\",\"translator_type\":\"none\",\"protected\":false,\"verified\":false,\"followers_count\":1062,\"friends_count\":1905,\"listed_count\":9,\"favourites_count\":86,\"statuses_count\":13367,\"created_at\":\"Sun May 17 19:29:50 +0000 2009\",\"utc_offset\":-14400,\"time_zone\":\"Caracas\",\"geo_enabled\":false,\"lang\":\"es\",\"contributors_enabled\":false,\"is_translator\":false,\"profile_background_color\":\"DEE5F7\",\"profile_background_image_url\":\"http:\\/\\/pbs.twimg.com\\/profile_background_images\\/65128090\\/bgTwiterUbkEne10.jpg\",\"profile_background_image_url_https\":\"https:\\/\\/pbs.twimg.com\\/profile_background_images\\/65128090\\/bgTwiterUbkEne10.jpg\",\"profile_background_tile\":false,\"profile_link_color\":\"0084B4\",\"profile_sidebar_border_color\":\"5F834E\",\"profile_sidebar_fill_color\":\"353366\",\"profile_text_color\":\"0FDB18\",\"profile_use_background_image\":true,\"profile_image_url\":\"http:\\/\\/pbs.twimg.com\\/profile_images\\/378800000370118470\\/573eb1106be4ef637a17ae10168129ec_normal.jpeg\",\"profile_image_url_https\":\"https:\\/\\/pbs.twimg.com\\/profile_images\\/378800000370118470\\/573eb1106be4ef637a17ae10168129ec_normal.jpeg\",\"profile_banner_url\":\"https:\\/\\/pbs.twimg.com\\/profile_banners\\/40719748\\/1375406885\",\"default_profile\":false,\"default_profile_image\":false,\"following\":null,\"follow_request_sent\":null,\"notifications\":null},\"geo\":null,\"coordinates\":null,\"place\":null,\"contributors\":null,\"quoted_status_id\":968734944821415936,\"quoted_status_id_str\":\"968734944821415936\",\"quoted_status\":{\"created_at\":\"Wed Feb 28 06:29:43 +0000 2018\",\"id\":968734944821415936,\"id_str\":\"968734944821415936\",\"text\":\"BitBlaze Airdrop. Just for 5000 participants. \\nForm: https:\\/\\/t.co\\/1fiiBCu736\\n#Airdrop #Bitblazecoin #Cash #Coin\\u2026 https:\\/\\/t.co\\/96d4qMUnu5\",\"source\":\"\\u003ca href=\\\"http:\\/\\/www.tweetcaster.com\\\" rel=\\\"nofollow\\\"\\u003eTweetCaster for Android\\u003c\\/a\\u003e\",\"truncated\":true,\"in_reply_to_status_id\":null,\"in_reply_to_status_id_str\":null,\"in_reply_to_user_id\":null,\"in_reply_to_user_id_str\":null,\"in_reply_to_screen_name\":null,\"user\":{\"id\":968723004422225922,\"id_str\":\"968723004422225922\",\"name\":\"BITBLAZE COIN\",\"screen_name\":\"BitblazeCoin\",\"location\":null,\"url\":null,\"description\":\"BitBlazeCoin; More Than a Currency: A New Approach to Blockchain Security protocol\",\"translator_type\":\"none\",\"protected\":false,\"verified\":false,\"followers_count\":1054,\"friends_count\":2,\"listed_count\":0,\"favourites_count\":0,\"statuses_count\":4,\"created_at\":\"Wed Feb 28 05:42:17 +0000 2018\",\"utc_offset\":null,\"time_zone\":null,\"geo_enabled\":false,\"lang\":\"en\",\"contributors_enabled\":false,\"is_translator\":false,\"profile_background_color\":\"F5F8FA\",\"profile_background_image_url\":\"\",\"profile_background_image_url_https\":\"\",\"profile_background_tile\":false,\"profile_link_color\":\"1DA1F2\",\"profile_sidebar_border_color\":\"C0DEED\",\"profile_sidebar_fill_color\":\"DDEEF6\",\"profile_text_color\":\"333333\",\"profile_use_background_image\":true,\"profile_image_url\":\"http:\\/\\/pbs.twimg.com\\/profile_images\\/968727954816716801\\/m9mq5Fcu_normal.jpg\",\"profile_image_url_https\":\"https:\\/\\/pbs.twimg.com\\/profile_images\\/968727954816716801\\/m9mq5Fcu_normal.jpg\",\"profile_banner_url\":\"https:\\/\\/pbs.twimg.com\\/profile_banners\\/968723004422225922\\/1519797858\",\"default_profile\":true,\"default_profile_image\":false,\"following\":null,\"follow_request_sent\":null,\"notifications\":null},\"geo\":null,\"coordinates\":null,\"place\":null,\"contributors\":null,\"is_quote_status\":false,\"extended_tweet\":{\"full_text\":\"BitBlaze Airdrop. Just for 5000 participants. \\nForm: https:\\/\\/t.co\\/1fiiBCu736\\n#Airdrop #Bitblazecoin #Cash #Coin #BBZ #AirdropAlert #AirdropBurst\",\"display_text_range\":[0,144],\"entities\":{\"hashtags\":[{\"text\":\"Airdrop\",\"indices\":[77,85]},{\"text\":\"Bitblazecoin\",\"indices\":[86,99]},{\"text\":\"Cash\",\"indices\":[100,105]},{\"text\":\"Coin\",\"indices\":[106,111]},{\"text\":\"BBZ\",\"indices\":[112,116]},{\"text\":\"AirdropAlert\",\"indices\":[117,130]},{\"text\":\"AirdropBurst\",\"indices\":[131,144]}],\"urls\":[{\"url\":\"https:\\/\\/t.co\\/1fiiBCu736\",\"expanded_url\":\"https:\\/\\/docs.google.com\\/forms\\/d\\/e\\/1FAIpQLSdGtKcsACGKvhANlmii07qMM5ClrtJvVJsakQUWF0ym1BSAqQ\\/viewform\",\"display_url\":\"docs.google.com\\/forms\\/d\\/e\\/1FAI\\u2026\",\"indices\":[53,76]}],\"user_mentions\":[],\"symbols\":[]}},\"quote_count\":290,\"reply_count\":451,\"retweet_count\":864,\"favorite_count\":824,\"entities\":{\"hashtags\":[{\"text\":\"Airdrop\",\"indices\":[77,85]},{\"text\":\"Bitblazecoin\",\"indices\":[86,99]},{\"text\":\"Cash\",\"indices\":[100,105]},{\"text\":\"Coin\",\"indices\":[106,111]}],\"urls\":[{\"url\":\"https:\\/\\/t.co\\/1fiiBCu736\",\"expanded_url\":\"https:\\/\\/docs.google.com\\/forms\\/d\\/e\\/1FAIpQLSdGtKcsACGKvhANlmii07qMM5ClrtJvVJsakQUWF0ym1BSAqQ\\/viewform\",\"display_url\":\"docs.google.com\\/forms\\/d\\/e\\/1FAI\\u2026\",\"indices\":[53,76]},{\"url\":\"https:\\/\\/t.co\\/96d4qMUnu5\",\"expanded_url\":\"https:\\/\\/twitter.com\\/i\\/web\\/status\\/968734944821415936\",\"display_url\":\"twitter.com\\/i\\/web\\/status\\/9\\u2026\",\"indices\":[113,136]}],\"user_mentions\":[],\"symbols\":[]},\"favorited\":false,\"retweeted\":false,\"possibly_sensitive\":false,\"filter_level\":\"low\",\"lang\":\"en\"},\"is_quote_status\":true,\"quote_count\":0,\"reply_count\":0,\"retweet_count\":0,\"favorite_count\":0,\"entities\":{\"hashtags\":[],\"urls\":[{\"url\":\"https:\\/\\/t.co\\/Fnz4RbAg60\",\"expanded_url\":\"https:\\/\\/twitter.com\\/BitblazeCoin\\/status\\/968734944821415936\",\"display_url\":\"twitter.com\\/BitblazeCoin\\/s\\u2026\",\"indices\":[12,35]}],\"user_mentions\":[],\"symbols\":[]},\"favorited\":false,\"retweeted\":false,\"possibly_sensitive\":false,\"filter_level\":\"low\",\"lang\":\"en\",\"timestamp_ms\":\"1520200668028\"}\n"
     ]
    },
    {
     "name": "stdout",
     "output_type": "stream",
     "text": [
      "\n",
      "{\"created_at\":\"Sun Mar 04 21:58:03 +0000 2018\",\"id\":970418117859074048,\"id_str\":\"970418117859074048\",\"text\":\"The dynamics of the high-volatility market can be incredibly influenced by news background. The announcement of har\\u2026 https:\\/\\/t.co\\/EPoTOenvyD\",\"source\":\"\\u003ca href=\\\"http:\\/\\/twitter.com\\\" rel=\\\"nofollow\\\"\\u003eTwitter Web Client\\u003c\\/a\\u003e\",\"truncated\":true,\"in_reply_to_status_id\":null,\"in_reply_to_status_id_str\":null,\"in_reply_to_user_id\":null,\"in_reply_to_user_id_str\":null,\"in_reply_to_screen_name\":null,\"user\":{\"id\":892426107777101824,\"id_str\":\"892426107777101824\",\"name\":\"Ihor Torshyn\",\"screen_name\":\"torshyn_i\",\"location\":\"Ukraine\",\"url\":\"http:\\/\\/ftec.io\",\"description\":\"CEO at FTEC\",\"translator_type\":\"none\",\"protected\":false,\"verified\":false,\"followers_count\":354,\"friends_count\":844,\"listed_count\":1,\"favourites_count\":66,\"statuses_count\":17,\"created_at\":\"Tue Aug 01 16:45:39 +0000 2017\",\"utc_offset\":null,\"time_zone\":null,\"geo_enabled\":false,\"lang\":\"ru\",\"contributors_enabled\":false,\"is_translator\":false,\"profile_background_color\":\"F5F8FA\",\"profile_background_image_url\":\"\",\"profile_background_image_url_https\":\"\",\"profile_background_tile\":false,\"profile_link_color\":\"1DA1F2\",\"profile_sidebar_border_color\":\"C0DEED\",\"profile_sidebar_fill_color\":\"DDEEF6\",\"profile_text_color\":\"333333\",\"profile_use_background_image\":true,\"profile_image_url\":\"http:\\/\\/pbs.twimg.com\\/profile_images\\/965668828083564545\\/9m4YT_3q_normal.jpg\",\"profile_image_url_https\":\"https:\\/\\/pbs.twimg.com\\/profile_images\\/965668828083564545\\/9m4YT_3q_normal.jpg\",\"profile_banner_url\":\"https:\\/\\/pbs.twimg.com\\/profile_banners\\/892426107777101824\\/1519068324\",\"default_profile\":true,\"default_profile_image\":false,\"following\":null,\"follow_request_sent\":null,\"notifications\":null},\"geo\":null,\"coordinates\":null,\"place\":null,\"contributors\":null,\"is_quote_status\":false,\"extended_tweet\":{\"full_text\":\"The dynamics of the high-volatility market can be incredibly influenced by news background. The announcement of hard work can change the price by 10%. To use such a situation, we have created analyzer of news background based on neural network.\\n#bitcoin  #chain #coin #crypto\",\"display_text_range\":[0,275],\"entities\":{\"hashtags\":[{\"text\":\"bitcoin\",\"indices\":[245,253]},{\"text\":\"chain\",\"indices\":[255,261]},{\"text\":\"coin\",\"indices\":[262,267]},{\"text\":\"crypto\",\"indices\":[268,275]}],\"urls\":[],\"user_mentions\":[],\"symbols\":[]}},\"quote_count\":0,\"reply_count\":0,\"retweet_count\":0,\"favorite_count\":0,\"entities\":{\"hashtags\":[],\"urls\":[{\"url\":\"https:\\/\\/t.co\\/EPoTOenvyD\",\"expanded_url\":\"https:\\/\\/twitter.com\\/i\\/web\\/status\\/970418117859074048\",\"display_url\":\"twitter.com\\/i\\/web\\/status\\/9\\u2026\",\"indices\":[117,140]}],\"user_mentions\":[],\"symbols\":[]},\"favorited\":false,\"retweeted\":false,\"filter_level\":\"low\",\"lang\":\"en\",\"timestamp_ms\":\"1520200683451\"}\n",
      "\n",
      "{\"created_at\":\"Sun Mar 04 21:58:51 +0000 2018\",\"id\":970418319034667008,\"id_str\":\"970418319034667008\",\"text\":\"\\ud83d\\udce2BETHEREUM #airdrop #coin #Freecoin \\n\\n50 TOKEN Veriyor \\u2757\\ufe0f\\n\\n\\u00c7ok ba\\u015far\\u0131l\\u0131. Mail adresi onay\\u0131 istiyor.\\n\\n\\u25b6\\ufe0f\\u2026 https:\\/\\/t.co\\/Nh8Pgtj2sL\",\"display_text_range\":[0,140],\"source\":\"\\u003ca href=\\\"http:\\/\\/twitter.com\\\" rel=\\\"nofollow\\\"\\u003eTwitter Web Client\\u003c\\/a\\u003e\",\"truncated\":true,\"in_reply_to_status_id\":null,\"in_reply_to_status_id_str\":null,\"in_reply_to_user_id\":null,\"in_reply_to_user_id_str\":null,\"in_reply_to_screen_name\":null,\"user\":{\"id\":2401991504,\"id_str\":\"2401991504\",\"name\":\"BE\\ud83d\\udcb2T  airdrop \\u26f1\\ufe0f\",\"screen_name\":\"alperjann\",\"location\":\"Los Angeles, CA\",\"url\":\"http:\\/\\/www.bestairdrop.org\",\"description\":\"#BTC #bitcoin #blockchain #Crypto #ICO #Bounty #Altcoins #ethereum #Airdrop #ETH #IOTA #NEO #VEN #Binance #MEW #Bittrex #Bitfinex #kucoin\",\"translator_type\":\"none\",\"protected\":false,\"verified\":false,\"followers_count\":340,\"friends_count\":312,\"listed_count\":1,\"favourites_count\":187,\"statuses_count\":494,\"created_at\":\"Fri Mar 21 18:49:57 +0000 2014\",\"utc_offset\":null,\"time_zone\":null,\"geo_enabled\":false,\"lang\":\"tr\",\"contributors_enabled\":false,\"is_translator\":false,\"profile_background_color\":\"000000\",\"profile_background_image_url\":\"http:\\/\\/abs.twimg.com\\/images\\/themes\\/theme1\\/bg.png\",\"profile_background_image_url_https\":\"https:\\/\\/abs.twimg.com\\/images\\/themes\\/theme1\\/bg.png\",\"profile_background_tile\":false,\"profile_link_color\":\"ABB8C2\",\"profile_sidebar_border_color\":\"000000\",\"profile_sidebar_fill_color\":\"000000\",\"profile_text_color\":\"000000\",\"profile_use_background_image\":false,\"profile_image_url\":\"http:\\/\\/pbs.twimg.com\\/profile_images\\/969982470421647361\\/P0nJAY4Q_normal.jpg\",\"profile_image_url_https\":\"https:\\/\\/pbs.twimg.com\\/profile_images\\/969982470421647361\\/P0nJAY4Q_normal.jpg\",\"profile_banner_url\":\"https:\\/\\/pbs.twimg.com\\/profile_banners\\/2401991504\\/1520100574\",\"default_profile\":false,\"default_profile_image\":false,\"following\":null,\"follow_request_sent\":null,\"notifications\":null},\"geo\":null,\"coordinates\":null,\"place\":null,\"contributors\":null,\"is_quote_status\":false,\"extended_tweet\":{\"full_text\":\"\\ud83d\\udce2BETHEREUM #airdrop #coin #Freecoin \\n\\n50 TOKEN Veriyor \\u2757\\ufe0f\\n\\n\\u00c7ok ba\\u015far\\u0131l\\u0131. Mail adresi onay\\u0131 istiyor.\\n\\n\\u25b6\\ufe0f https:\\/\\/t.co\\/c7u4PNwJ1s \\nveya\\n\\u25b6\\ufe0fhttps:\\/\\/t.co\\/naZsj7rgT8 https:\\/\\/t.co\\/ywmvy7sNiW\",\"display_text_range\":[0,159],\"entities\":{\"hashtags\":[{\"text\":\"airdrop\",\"indices\":[11,19]},{\"text\":\"coin\",\"indices\":[20,25]},{\"text\":\"Freecoin\",\"indices\":[26,35]}],\"urls\":[{\"url\":\"https:\\/\\/t.co\\/c7u4PNwJ1s\",\"expanded_url\":\"http:\\/\\/bestairdrop.org\\/\",\"display_url\":\"bestairdrop.org\",\"indices\":[104,127]},{\"url\":\"https:\\/\\/t.co\\/naZsj7rgT8\",\"expanded_url\":\"https:\\/\\/goo.gl\\/DLhauV\",\"display_url\":\"goo.gl\\/DLhauV\",\"indices\":[136,159]}],\"user_mentions\":[],\"symbols\":[],\"media\":[{\"id\":970418051836469249,\"id_str\":\"970418051836469249\",\"indices\":[160,183],\"media_url\":\"http:\\/\\/pbs.twimg.com\\/media\\/DXeeE59W4AEvaaO.jpg\",\"media_url_https\":\"https:\\/\\/pbs.twimg.com\\/media\\/DXeeE59W4AEvaaO.jpg\",\"url\":\"https:\\/\\/t.co\\/ywmvy7sNiW\",\"display_url\":\"pic.twitter.com\\/ywmvy7sNiW\",\"expanded_url\":\"https:\\/\\/twitter.com\\/alperjann\\/status\\/970418319034667008\\/photo\\/1\",\"type\":\"photo\",\"sizes\":{\"thumb\":{\"w\":150,\"h\":150,\"resize\":\"crop\"},\"large\":{\"w\":1201,\"h\":631,\"resize\":\"fit\"},\"medium\":{\"w\":1200,\"h\":630,\"resize\":\"fit\"},\"small\":{\"w\":680,\"h\":357,\"resize\":\"fit\"}}}]},\"extended_entities\":{\"media\":[{\"id\":970418051836469249,\"id_str\":\"970418051836469249\",\"indices\":[160,183],\"media_url\":\"http:\\/\\/pbs.twimg.com\\/media\\/DXeeE59W4AEvaaO.jpg\",\"media_url_https\":\"https:\\/\\/pbs.twimg.com\\/media\\/DXeeE59W4AEvaaO.jpg\",\"url\":\"https:\\/\\/t.co\\/ywmvy7sNiW\",\"display_url\":\"pic.twitter.com\\/ywmvy7sNiW\",\"expanded_url\":\"https:\\/\\/twitter.com\\/alperjann\\/status\\/970418319034667008\\/photo\\/1\",\"type\":\"photo\",\"sizes\":{\"thumb\":{\"w\":150,\"h\":150,\"resize\":\"crop\"},\"large\":{\"w\":1201,\"h\":631,\"resize\":\"fit\"},\"medium\":{\"w\":1200,\"h\":630,\"resize\":\"fit\"},\"small\":{\"w\":680,\"h\":357,\"resize\":\"fit\"}}}]}},\"quote_count\":0,\"reply_count\":0,\"retweet_count\":0,\"favorite_count\":0,\"entities\":{\"hashtags\":[{\"text\":\"airdrop\",\"indices\":[11,19]},{\"text\":\"coin\",\"indices\":[20,25]},{\"text\":\"Freecoin\",\"indices\":[26,35]}],\"urls\":[{\"url\":\"https:\\/\\/t.co\\/Nh8Pgtj2sL\",\"expanded_url\":\"https:\\/\\/twitter.com\\/i\\/web\\/status\\/970418319034667008\",\"display_url\":\"twitter.com\\/i\\/web\\/status\\/9\\u2026\",\"indices\":[105,128]}],\"user_mentions\":[],\"symbols\":[]},\"favorited\":false,\"retweeted\":false,\"possibly_sensitive\":false,\"filter_level\":\"low\",\"lang\":\"tr\",\"timestamp_ms\":\"1520200731415\"}\n",
      "\n",
      "{\"created_at\":\"Sun Mar 04 21:58:54 +0000 2018\",\"id\":970418330543771650,\"id_str\":\"970418330543771650\",\"text\":\"https:\\/\\/t.co\\/uii4dF5t9U \\nA decentralized cryptocurrency built to create an\\nall-inclusive ecosystem consisting of co\\u2026 https:\\/\\/t.co\\/K96wgvf9wh\",\"source\":\"\\u003ca href=\\\"http:\\/\\/twitter.com\\\" rel=\\\"nofollow\\\"\\u003eTwitter Web Client\\u003c\\/a\\u003e\",\"truncated\":true,\"in_reply_to_status_id\":null,\"in_reply_to_status_id_str\":null,\"in_reply_to_user_id\":null,\"in_reply_to_user_id_str\":null,\"in_reply_to_screen_name\":null,\"user\":{\"id\":810810310223392768,\"id_str\":\"810810310223392768\",\"name\":\"Akany Essien\",\"screen_name\":\"akany_essien\",\"location\":null,\"url\":null,\"description\":null,\"translator_type\":\"none\",\"protected\":false,\"verified\":false,\"followers_count\":643,\"friends_count\":2407,\"listed_count\":0,\"favourites_count\":526,\"statuses_count\":609,\"created_at\":\"Mon Dec 19 11:33:36 +0000 2016\",\"utc_offset\":null,\"time_zone\":null,\"geo_enabled\":false,\"lang\":\"en\",\"contributors_enabled\":false,\"is_translator\":false,\"profile_background_color\":\"F5F8FA\",\"profile_background_image_url\":\"\",\"profile_background_image_url_https\":\"\",\"profile_background_tile\":false,\"profile_link_color\":\"1DA1F2\",\"profile_sidebar_border_color\":\"C0DEED\",\"profile_sidebar_fill_color\":\"DDEEF6\",\"profile_text_color\":\"333333\",\"profile_use_background_image\":true,\"profile_image_url\":\"http:\\/\\/pbs.twimg.com\\/profile_images\\/810811675247046657\\/tj-IZ2y9_normal.jpg\",\"profile_image_url_https\":\"https:\\/\\/pbs.twimg.com\\/profile_images\\/810811675247046657\\/tj-IZ2y9_normal.jpg\",\"profile_banner_url\":\"https:\\/\\/pbs.twimg.com\\/profile_banners\\/810810310223392768\\/1482147626\",\"default_profile\":true,\"default_profile_image\":false,\"following\":null,\"follow_request_sent\":null,\"notifications\":null},\"geo\":null,\"coordinates\":null,\"place\":null,\"contributors\":null,\"is_quote_status\":false,\"extended_tweet\":{\"full_text\":\"https:\\/\\/t.co\\/uii4dF5t9U \\nA decentralized cryptocurrency built to create an\\nall-inclusive ecosystem consisting of coin staking,\\nwallets and internal exchange platform, guaranteeing\\ntotal anonymity to Xatra users. #XTR #ICO #XATRA #Blockchain #Coin #BTC # Bitcoin #ETH #Ethereum\",\"display_text_range\":[0,276],\"entities\":{\"hashtags\":[{\"text\":\"XTR\",\"indices\":[212,216]},{\"text\":\"ICO\",\"indices\":[217,221]},{\"text\":\"XATRA\",\"indices\":[222,228]},{\"text\":\"Blockchain\",\"indices\":[229,240]},{\"text\":\"Coin\",\"indices\":[241,246]},{\"text\":\"BTC\",\"indices\":[247,251]},{\"text\":\"ETH\",\"indices\":[262,266]},{\"text\":\"Ethereum\",\"indices\":[267,276]}],\"urls\":[{\"url\":\"https:\\/\\/t.co\\/uii4dF5t9U\",\"expanded_url\":\"http:\\/\\/Xatra.io\",\"display_url\":\"Xatra.io\",\"indices\":[0,23]}],\"user_mentions\":[],\"symbols\":[]}},\"quote_count\":0,\"reply_count\":0,\"retweet_count\":0,\"favorite_count\":0,\"entities\":{\"hashtags\":[],\"urls\":[{\"url\":\"https:\\/\\/t.co\\/uii4dF5t9U\",\"expanded_url\":\"http:\\/\\/Xatra.io\",\"display_url\":\"Xatra.io\",\"indices\":[0,23]},{\"url\":\"https:\\/\\/t.co\\/K96wgvf9wh\",\"expanded_url\":\"https:\\/\\/twitter.com\\/i\\/web\\/status\\/970418330543771650\",\"display_url\":\"twitter.com\\/i\\/web\\/status\\/9\\u2026\",\"indices\":[117,140]}],\"user_mentions\":[],\"symbols\":[]},\"favorited\":false,\"retweeted\":false,\"possibly_sensitive\":false,\"filter_level\":\"low\",\"lang\":\"en\",\"timestamp_ms\":\"1520200734159\"}\n"
     ]
    },
    {
     "name": "stdout",
     "output_type": "stream",
     "text": [
      "\n",
      "{\"created_at\":\"Sun Mar 04 21:59:03 +0000 2018\",\"id\":970418370616184834,\"id_str\":\"970418370616184834\",\"text\":\"[USD] 04\\/03\\/2018 21:59:03 Bitcoin: $11444.3 Ethereum: $865.339  #bitcoin #ethereum #altcoin #coin #blockchain\\u2026 https:\\/\\/t.co\\/x1mLuo6dmy\",\"source\":\"\\u003ca href=\\\"http:\\/\\/btckrali.com\\\" rel=\\\"nofollow\\\"\\u003ebtcKrali\\u003c\\/a\\u003e\",\"truncated\":true,\"in_reply_to_status_id\":null,\"in_reply_to_status_id_str\":null,\"in_reply_to_user_id\":null,\"in_reply_to_user_id_str\":null,\"in_reply_to_screen_name\":null,\"user\":{\"id\":943756182312902656,\"id_str\":\"943756182312902656\",\"name\":\"Coinlerin Efendisi\",\"screen_name\":\"coinlerinkrali\",\"location\":\"\\u0130stanbul, T\\u00fcrkiye\",\"url\":null,\"description\":\"Coinlerin Efendisi olur kendisi\",\"translator_type\":\"none\",\"protected\":false,\"verified\":false,\"followers_count\":1507,\"friends_count\":78,\"listed_count\":6,\"favourites_count\":50,\"statuses_count\":6266,\"created_at\":\"Thu Dec 21 08:13:02 +0000 2017\",\"utc_offset\":null,\"time_zone\":null,\"geo_enabled\":false,\"lang\":\"tr\",\"contributors_enabled\":false,\"is_translator\":false,\"profile_background_color\":\"F5F8FA\",\"profile_background_image_url\":\"\",\"profile_background_image_url_https\":\"\",\"profile_background_tile\":false,\"profile_link_color\":\"1DA1F2\",\"profile_sidebar_border_color\":\"C0DEED\",\"profile_sidebar_fill_color\":\"DDEEF6\",\"profile_text_color\":\"333333\",\"profile_use_background_image\":true,\"profile_image_url\":\"http:\\/\\/pbs.twimg.com\\/profile_images\\/943756750234247168\\/t28EKhK4_normal.jpg\",\"profile_image_url_https\":\"https:\\/\\/pbs.twimg.com\\/profile_images\\/943756750234247168\\/t28EKhK4_normal.jpg\",\"profile_banner_url\":\"https:\\/\\/pbs.twimg.com\\/profile_banners\\/943756182312902656\\/1514282829\",\"default_profile\":true,\"default_profile_image\":false,\"following\":null,\"follow_request_sent\":null,\"notifications\":null},\"geo\":null,\"coordinates\":null,\"place\":null,\"contributors\":null,\"is_quote_status\":false,\"extended_tweet\":{\"full_text\":\"[USD] 04\\/03\\/2018 21:59:03 Bitcoin: $11444.3 Ethereum: $865.339  #bitcoin #ethereum #altcoin #coin #blockchain #crypto #kripto #ovis #oviscomtr #paribu #btcturk #koineks #binans #btc #eth #koin #dijitalpara\",\"display_text_range\":[0,205],\"entities\":{\"hashtags\":[{\"text\":\"bitcoin\",\"indices\":[64,72]},{\"text\":\"ethereum\",\"indices\":[73,82]},{\"text\":\"altcoin\",\"indices\":[83,91]},{\"text\":\"coin\",\"indices\":[92,97]},{\"text\":\"blockchain\",\"indices\":[98,109]},{\"text\":\"crypto\",\"indices\":[110,117]},{\"text\":\"kripto\",\"indices\":[118,125]},{\"text\":\"ovis\",\"indices\":[126,131]},{\"text\":\"oviscomtr\",\"indices\":[132,142]},{\"text\":\"paribu\",\"indices\":[143,150]},{\"text\":\"btcturk\",\"indices\":[151,159]},{\"text\":\"koineks\",\"indices\":[160,168]},{\"text\":\"binans\",\"indices\":[169,176]},{\"text\":\"btc\",\"indices\":[177,181]},{\"text\":\"eth\",\"indices\":[182,186]},{\"text\":\"koin\",\"indices\":[187,192]},{\"text\":\"dijitalpara\",\"indices\":[193,205]}],\"urls\":[],\"user_mentions\":[],\"symbols\":[]}},\"quote_count\":0,\"reply_count\":0,\"retweet_count\":0,\"favorite_count\":0,\"entities\":{\"hashtags\":[{\"text\":\"bitcoin\",\"indices\":[64,72]},{\"text\":\"ethereum\",\"indices\":[73,82]},{\"text\":\"altcoin\",\"indices\":[83,91]},{\"text\":\"coin\",\"indices\":[92,97]},{\"text\":\"blockchain\",\"indices\":[98,109]}],\"urls\":[{\"url\":\"https:\\/\\/t.co\\/x1mLuo6dmy\",\"expanded_url\":\"https:\\/\\/twitter.com\\/i\\/web\\/status\\/970418370616184834\",\"display_url\":\"twitter.com\\/i\\/web\\/status\\/9\\u2026\",\"indices\":[111,134]}],\"user_mentions\":[],\"symbols\":[]},\"favorited\":false,\"retweeted\":false,\"filter_level\":\"low\",\"lang\":\"en\",\"timestamp_ms\":\"1520200743713\"}\n",
      "\n",
      "{\"created_at\":\"Sun Mar 04 21:59:03 +0000 2018\",\"id\":970418370939060224,\"id_str\":\"970418370939060224\",\"text\":\"RT @CoinvestHQ: Have you seen the latest interview between our Founder @damon_nam and Crypto enthusiast @RobertBeadles? Check out the conve\\u2026\",\"source\":\"\\u003ca href=\\\"http:\\/\\/twitter.com\\\" rel=\\\"nofollow\\\"\\u003eTwitter Web Client\\u003c\\/a\\u003e\",\"truncated\":false,\"in_reply_to_status_id\":null,\"in_reply_to_status_id_str\":null,\"in_reply_to_user_id\":null,\"in_reply_to_user_id_str\":null,\"in_reply_to_screen_name\":null,\"user\":{\"id\":1229315228,\"id_str\":\"1229315228\",\"name\":\"\\u0410\\u043d\\u0430\\u0442\\u043e\\u043b\\u0438\\u0439 \\u0411\\u0430\\u0440\\u043a\\u043e\\u0432\\u0441\\u043a\\u0438\\u0439\",\"screen_name\":\"proof881\",\"location\":null,\"url\":null,\"description\":\"#ICO #Bounty #crowdsale #cryptocurrency #Blockchain #bitcoin #btc #coin #altcoin #\\u043a\\u0440\\u0438\\u043f\\u0442\\u043e\\u0432\\u0430\\u043b\\u044e\\u0442\\u0430 #\\u0431\\u043b\\u043e\\u043a\\u0447\\u0435\\u0439\\u043d #eth #\\u0412\\u0437\\u0430\\u0438\\u043c\\u043d\\u044b\\u0439\\u0444\\u043e\\u043b\\u043b\\u043e\\u0432\\u0438\\u043d\\u0433 #FollowBack\",\"translator_type\":\"none\",\"protected\":false,\"verified\":false,\"followers_count\":10156,\"friends_count\":11019,\"listed_count\":16,\"favourites_count\":4297,\"statuses_count\":5246,\"created_at\":\"Fri Mar 01 08:19:28 +0000 2013\",\"utc_offset\":7200,\"time_zone\":\"Kyiv\",\"geo_enabled\":false,\"lang\":\"ru\",\"contributors_enabled\":false,\"is_translator\":false,\"profile_background_color\":\"000000\",\"profile_background_image_url\":\"http:\\/\\/abs.twimg.com\\/images\\/themes\\/theme1\\/bg.png\",\"profile_background_image_url_https\":\"https:\\/\\/abs.twimg.com\\/images\\/themes\\/theme1\\/bg.png\",\"profile_background_tile\":false,\"profile_link_color\":\"ABB8C2\",\"profile_sidebar_border_color\":\"000000\",\"profile_sidebar_fill_color\":\"000000\",\"profile_text_color\":\"000000\",\"profile_use_background_image\":false,\"profile_image_url\":\"http:\\/\\/pbs.twimg.com\\/profile_images\\/963881817446211585\\/1E3A0cx__normal.jpg\",\"profile_image_url_https\":\"https:\\/\\/pbs.twimg.com\\/profile_images\\/963881817446211585\\/1E3A0cx__normal.jpg\",\"profile_banner_url\":\"https:\\/\\/pbs.twimg.com\\/profile_banners\\/1229315228\\/1518642171\",\"default_profile\":false,\"default_profile_image\":false,\"following\":null,\"follow_request_sent\":null,\"notifications\":null},\"geo\":null,\"coordinates\":null,\"place\":null,\"contributors\":null,\"retweeted_status\":{\"created_at\":\"Sat Mar 03 22:30:38 +0000 2018\",\"id\":970063928280604672,\"id_str\":\"970063928280604672\",\"text\":\"Have you seen the latest interview between our Founder @damon_nam and Crypto enthusiast @RobertBeadles? Check out t\\u2026 https:\\/\\/t.co\\/9tQqItFv55\",\"source\":\"\\u003ca href=\\\"http:\\/\\/twitter.com\\/download\\/iphone\\\" rel=\\\"nofollow\\\"\\u003eTwitter for iPhone\\u003c\\/a\\u003e\",\"truncated\":true,\"in_reply_to_status_id\":null,\"in_reply_to_status_id_str\":null,\"in_reply_to_user_id\":null,\"in_reply_to_user_id_str\":null,\"in_reply_to_screen_name\":null,\"user\":{\"id\":795014847066947584,\"id_str\":\"795014847066947584\",\"name\":\"Coinvest\",\"screen_name\":\"CoinvestHQ\",\"location\":\"United States\",\"url\":\"http:\\/\\/coinve.st\",\"description\":\"Coinvest is the world\\u2019s first decentralized investment trading market for cryptocurrencies.\",\"translator_type\":\"none\",\"protected\":false,\"verified\":false,\"followers_count\":5005,\"friends_count\":2327,\"listed_count\":59,\"favourites_count\":245,\"statuses_count\":173,\"created_at\":\"Sat Nov 05 21:28:05 +0000 2016\",\"utc_offset\":-28800,\"time_zone\":\"Pacific Time (US & Canada)\",\"geo_enabled\":false,\"lang\":\"en\",\"contributors_enabled\":false,\"is_translator\":false,\"profile_background_color\":\"000000\",\"profile_background_image_url\":\"http:\\/\\/abs.twimg.com\\/images\\/themes\\/theme1\\/bg.png\",\"profile_background_image_url_https\":\"https:\\/\\/abs.twimg.com\\/images\\/themes\\/theme1\\/bg.png\",\"profile_background_tile\":false,\"profile_link_color\":\"0134FF\",\"profile_sidebar_border_color\":\"000000\",\"profile_sidebar_fill_color\":\"000000\",\"profile_text_color\":\"000000\",\"profile_use_background_image\":false,\"profile_image_url\":\"http:\\/\\/pbs.twimg.com\\/profile_images\\/931641537267724288\\/-0eoIbc__normal.jpg\",\"profile_image_url_https\":\"https:\\/\\/pbs.twimg.com\\/profile_images\\/931641537267724288\\/-0eoIbc__normal.jpg\",\"profile_banner_url\":\"https:\\/\\/pbs.twimg.com\\/profile_banners\\/795014847066947584\\/1511070879\",\"default_profile\":false,\"default_profile_image\":false,\"following\":null,\"follow_request_sent\":null,\"notifications\":null},\"geo\":null,\"coordinates\":null,\"place\":null,\"contributors\":null,\"is_quote_status\":false,\"extended_tweet\":{\"full_text\":\"Have you seen the latest interview between our Founder @damon_nam and Crypto enthusiast @RobertBeadles? Check out the conversation here on YouTube at https:\\/\\/t.co\\/0Xf58rhMIu.  #Coinvest #COIN\",\"display_text_range\":[0,191],\"entities\":{\"hashtags\":[{\"text\":\"Coinvest\",\"indices\":[176,185]},{\"text\":\"COIN\",\"indices\":[186,191]}],\"urls\":[{\"url\":\"https:\\/\\/t.co\\/0Xf58rhMIu\",\"expanded_url\":\"http:\\/\\/goo.gl\\/iQzrmb\",\"display_url\":\"goo.gl\\/iQzrmb\",\"indices\":[150,173]}],\"user_mentions\":[{\"screen_name\":\"damon_nam\",\"name\":\"Damon Nam\",\"id\":23039010,\"id_str\":\"23039010\",\"indices\":[55,65]},{\"screen_name\":\"RobertBeadles\",\"name\":\"CryptoBeadles\",\"id\":49891003,\"id_str\":\"49891003\",\"indices\":[88,102]}],\"symbols\":[]}},\"quote_count\":27,\"reply_count\":3,\"retweet_count\":296,\"favorite_count\":331,\"entities\":{\"hashtags\":[],\"urls\":[{\"url\":\"https:\\/\\/t.co\\/9tQqItFv55\",\"expanded_url\":\"https:\\/\\/twitter.com\\/i\\/web\\/status\\/970063928280604672\",\"display_url\":\"twitter.com\\/i\\/web\\/status\\/9\\u2026\",\"indices\":[117,140]}],\"user_mentions\":[{\"screen_name\":\"damon_nam\",\"name\":\"Damon Nam\",\"id\":23039010,\"id_str\":\"23039010\",\"indices\":[55,65]},{\"screen_name\":\"RobertBeadles\",\"name\":\"CryptoBeadles\",\"id\":49891003,\"id_str\":\"49891003\",\"indices\":[88,102]}],\"symbols\":[]},\"favorited\":false,\"retweeted\":false,\"possibly_sensitive\":false,\"filter_level\":\"low\",\"lang\":\"en\"},\"is_quote_status\":false,\"quote_count\":0,\"reply_count\":0,\"retweet_count\":0,\"favorite_count\":0,\"entities\":{\"hashtags\":[],\"urls\":[],\"user_mentions\":[{\"screen_name\":\"CoinvestHQ\",\"name\":\"Coinvest\",\"id\":795014847066947584,\"id_str\":\"795014847066947584\",\"indices\":[3,14]},{\"screen_name\":\"damon_nam\",\"name\":\"Damon Nam\",\"id\":23039010,\"id_str\":\"23039010\",\"indices\":[71,81]},{\"screen_name\":\"RobertBeadles\",\"name\":\"CryptoBeadles\",\"id\":49891003,\"id_str\":\"49891003\",\"indices\":[104,118]}],\"symbols\":[]},\"favorited\":false,\"retweeted\":false,\"filter_level\":\"low\",\"lang\":\"en\",\"timestamp_ms\":\"1520200743790\"}\n"
     ]
    },
    {
     "name": "stdout",
     "output_type": "stream",
     "text": [
      "\n",
      "{\"created_at\":\"Sun Mar 04 21:59:04 +0000 2018\",\"id\":970418373493514241,\"id_str\":\"970418373493514241\",\"text\":\"[TR] 04\\/03\\/2018 21:59:03 Bitcoin: \\u20ba42273 Ethereum: \\u20ba3201  #bitcoin #ethereum #altcoin #coin #blockchain #crypto\\u2026 https:\\/\\/t.co\\/iEfTQjnma1\",\"source\":\"\\u003ca href=\\\"http:\\/\\/btckrali.com\\\" rel=\\\"nofollow\\\"\\u003ebtcKrali\\u003c\\/a\\u003e\",\"truncated\":true,\"in_reply_to_status_id\":null,\"in_reply_to_status_id_str\":null,\"in_reply_to_user_id\":null,\"in_reply_to_user_id_str\":null,\"in_reply_to_screen_name\":null,\"user\":{\"id\":943756182312902656,\"id_str\":\"943756182312902656\",\"name\":\"Coinlerin Efendisi\",\"screen_name\":\"coinlerinkrali\",\"location\":\"\\u0130stanbul, T\\u00fcrkiye\",\"url\":null,\"description\":\"Coinlerin Efendisi olur kendisi\",\"translator_type\":\"none\",\"protected\":false,\"verified\":false,\"followers_count\":1507,\"friends_count\":78,\"listed_count\":6,\"favourites_count\":50,\"statuses_count\":6267,\"created_at\":\"Thu Dec 21 08:13:02 +0000 2017\",\"utc_offset\":null,\"time_zone\":null,\"geo_enabled\":false,\"lang\":\"tr\",\"contributors_enabled\":false,\"is_translator\":false,\"profile_background_color\":\"F5F8FA\",\"profile_background_image_url\":\"\",\"profile_background_image_url_https\":\"\",\"profile_background_tile\":false,\"profile_link_color\":\"1DA1F2\",\"profile_sidebar_border_color\":\"C0DEED\",\"profile_sidebar_fill_color\":\"DDEEF6\",\"profile_text_color\":\"333333\",\"profile_use_background_image\":true,\"profile_image_url\":\"http:\\/\\/pbs.twimg.com\\/profile_images\\/943756750234247168\\/t28EKhK4_normal.jpg\",\"profile_image_url_https\":\"https:\\/\\/pbs.twimg.com\\/profile_images\\/943756750234247168\\/t28EKhK4_normal.jpg\",\"profile_banner_url\":\"https:\\/\\/pbs.twimg.com\\/profile_banners\\/943756182312902656\\/1514282829\",\"default_profile\":true,\"default_profile_image\":false,\"following\":null,\"follow_request_sent\":null,\"notifications\":null},\"geo\":null,\"coordinates\":null,\"place\":null,\"contributors\":null,\"is_quote_status\":false,\"extended_tweet\":{\"full_text\":\"[TR] 04\\/03\\/2018 21:59:03 Bitcoin: \\u20ba42273 Ethereum: \\u20ba3201  #bitcoin #ethereum #altcoin #coin #blockchain #crypto #kripto #ovis #oviscomtr #paribu #btcturk #koineks #binans #btc #eth #koin #dijitalpara\",\"display_text_range\":[0,199],\"entities\":{\"hashtags\":[{\"text\":\"bitcoin\",\"indices\":[58,66]},{\"text\":\"ethereum\",\"indices\":[67,76]},{\"text\":\"altcoin\",\"indices\":[77,85]},{\"text\":\"coin\",\"indices\":[86,91]},{\"text\":\"blockchain\",\"indices\":[92,103]},{\"text\":\"crypto\",\"indices\":[104,111]},{\"text\":\"kripto\",\"indices\":[112,119]},{\"text\":\"ovis\",\"indices\":[120,125]},{\"text\":\"oviscomtr\",\"indices\":[126,136]},{\"text\":\"paribu\",\"indices\":[137,144]},{\"text\":\"btcturk\",\"indices\":[145,153]},{\"text\":\"koineks\",\"indices\":[154,162]},{\"text\":\"binans\",\"indices\":[163,170]},{\"text\":\"btc\",\"indices\":[171,175]},{\"text\":\"eth\",\"indices\":[176,180]},{\"text\":\"koin\",\"indices\":[181,186]},{\"text\":\"dijitalpara\",\"indices\":[187,199]}],\"urls\":[],\"user_mentions\":[],\"symbols\":[]}},\"quote_count\":0,\"reply_count\":0,\"retweet_count\":0,\"favorite_count\":0,\"entities\":{\"hashtags\":[{\"text\":\"bitcoin\",\"indices\":[58,66]},{\"text\":\"ethereum\",\"indices\":[67,76]},{\"text\":\"altcoin\",\"indices\":[77,85]},{\"text\":\"coin\",\"indices\":[86,91]},{\"text\":\"blockchain\",\"indices\":[92,103]},{\"text\":\"crypto\",\"indices\":[104,111]}],\"urls\":[{\"url\":\"https:\\/\\/t.co\\/iEfTQjnma1\",\"expanded_url\":\"https:\\/\\/twitter.com\\/i\\/web\\/status\\/970418373493514241\",\"display_url\":\"twitter.com\\/i\\/web\\/status\\/9\\u2026\",\"indices\":[113,136]}],\"user_mentions\":[],\"symbols\":[]},\"favorited\":false,\"retweeted\":false,\"filter_level\":\"low\",\"lang\":\"en\",\"timestamp_ms\":\"1520200744399\"}\n",
      "\n",
      "{\"created_at\":\"Sun Mar 04 22:00:04 +0000 2018\",\"id\":970418626741272577,\"id_str\":\"970418626741272577\",\"text\":\"[TR] 04\\/03\\/2018 22:00:03 Bitcoin: \\u20ba42273 Ethereum: \\u20ba3201  #bitcoin #ethereum #altcoin #coin #blockchain #crypto\\u2026 https:\\/\\/t.co\\/AYqpTtAPIJ\",\"source\":\"\\u003ca href=\\\"http:\\/\\/btckrali.com\\\" rel=\\\"nofollow\\\"\\u003ebtcKrali\\u003c\\/a\\u003e\",\"truncated\":true,\"in_reply_to_status_id\":null,\"in_reply_to_status_id_str\":null,\"in_reply_to_user_id\":null,\"in_reply_to_user_id_str\":null,\"in_reply_to_screen_name\":null,\"user\":{\"id\":943756182312902656,\"id_str\":\"943756182312902656\",\"name\":\"Coinlerin Efendisi\",\"screen_name\":\"coinlerinkrali\",\"location\":\"\\u0130stanbul, T\\u00fcrkiye\",\"url\":null,\"description\":\"Coinlerin Efendisi olur kendisi\",\"translator_type\":\"none\",\"protected\":false,\"verified\":false,\"followers_count\":1507,\"friends_count\":78,\"listed_count\":6,\"favourites_count\":50,\"statuses_count\":6269,\"created_at\":\"Thu Dec 21 08:13:02 +0000 2017\",\"utc_offset\":null,\"time_zone\":null,\"geo_enabled\":false,\"lang\":\"tr\",\"contributors_enabled\":false,\"is_translator\":false,\"profile_background_color\":\"F5F8FA\",\"profile_background_image_url\":\"\",\"profile_background_image_url_https\":\"\",\"profile_background_tile\":false,\"profile_link_color\":\"1DA1F2\",\"profile_sidebar_border_color\":\"C0DEED\",\"profile_sidebar_fill_color\":\"DDEEF6\",\"profile_text_color\":\"333333\",\"profile_use_background_image\":true,\"profile_image_url\":\"http:\\/\\/pbs.twimg.com\\/profile_images\\/943756750234247168\\/t28EKhK4_normal.jpg\",\"profile_image_url_https\":\"https:\\/\\/pbs.twimg.com\\/profile_images\\/943756750234247168\\/t28EKhK4_normal.jpg\",\"profile_banner_url\":\"https:\\/\\/pbs.twimg.com\\/profile_banners\\/943756182312902656\\/1514282829\",\"default_profile\":true,\"default_profile_image\":false,\"following\":null,\"follow_request_sent\":null,\"notifications\":null},\"geo\":null,\"coordinates\":null,\"place\":null,\"contributors\":null,\"is_quote_status\":false,\"extended_tweet\":{\"full_text\":\"[TR] 04\\/03\\/2018 22:00:03 Bitcoin: \\u20ba42273 Ethereum: \\u20ba3201  #bitcoin #ethereum #altcoin #coin #blockchain #crypto #kripto #ovis #oviscomtr #paribu #btcturk #koineks #binans #btc #eth #koin #dijitalpara\",\"display_text_range\":[0,199],\"entities\":{\"hashtags\":[{\"text\":\"bitcoin\",\"indices\":[58,66]},{\"text\":\"ethereum\",\"indices\":[67,76]},{\"text\":\"altcoin\",\"indices\":[77,85]},{\"text\":\"coin\",\"indices\":[86,91]},{\"text\":\"blockchain\",\"indices\":[92,103]},{\"text\":\"crypto\",\"indices\":[104,111]},{\"text\":\"kripto\",\"indices\":[112,119]},{\"text\":\"ovis\",\"indices\":[120,125]},{\"text\":\"oviscomtr\",\"indices\":[126,136]},{\"text\":\"paribu\",\"indices\":[137,144]},{\"text\":\"btcturk\",\"indices\":[145,153]},{\"text\":\"koineks\",\"indices\":[154,162]},{\"text\":\"binans\",\"indices\":[163,170]},{\"text\":\"btc\",\"indices\":[171,175]},{\"text\":\"eth\",\"indices\":[176,180]},{\"text\":\"koin\",\"indices\":[181,186]},{\"text\":\"dijitalpara\",\"indices\":[187,199]}],\"urls\":[],\"user_mentions\":[],\"symbols\":[]}},\"quote_count\":0,\"reply_count\":0,\"retweet_count\":0,\"favorite_count\":0,\"entities\":{\"hashtags\":[{\"text\":\"bitcoin\",\"indices\":[58,66]},{\"text\":\"ethereum\",\"indices\":[67,76]},{\"text\":\"altcoin\",\"indices\":[77,85]},{\"text\":\"coin\",\"indices\":[86,91]},{\"text\":\"blockchain\",\"indices\":[92,103]},{\"text\":\"crypto\",\"indices\":[104,111]}],\"urls\":[{\"url\":\"https:\\/\\/t.co\\/AYqpTtAPIJ\",\"expanded_url\":\"https:\\/\\/twitter.com\\/i\\/web\\/status\\/970418626741272577\",\"display_url\":\"twitter.com\\/i\\/web\\/status\\/9\\u2026\",\"indices\":[113,136]}],\"user_mentions\":[],\"symbols\":[]},\"favorited\":false,\"retweeted\":false,\"filter_level\":\"low\",\"lang\":\"en\",\"timestamp_ms\":\"1520200804778\"}\n",
      "\n",
      "{\"created_at\":\"Sun Mar 04 22:00:03 +0000 2018\",\"id\":970418622362464257,\"id_str\":\"970418622362464257\",\"text\":\"[USD] 04\\/03\\/2018 22:00:03 Bitcoin: $11444.3 Ethereum: $864.746  #bitcoin #ethereum #altcoin #coin #blockchain\\u2026 https:\\/\\/t.co\\/ZD7ysg3gN7\",\"source\":\"\\u003ca href=\\\"http:\\/\\/btckrali.com\\\" rel=\\\"nofollow\\\"\\u003ebtcKrali\\u003c\\/a\\u003e\",\"truncated\":true,\"in_reply_to_status_id\":null,\"in_reply_to_status_id_str\":null,\"in_reply_to_user_id\":null,\"in_reply_to_user_id_str\":null,\"in_reply_to_screen_name\":null,\"user\":{\"id\":943756182312902656,\"id_str\":\"943756182312902656\",\"name\":\"Coinlerin Efendisi\",\"screen_name\":\"coinlerinkrali\",\"location\":\"\\u0130stanbul, T\\u00fcrkiye\",\"url\":null,\"description\":\"Coinlerin Efendisi olur kendisi\",\"translator_type\":\"none\",\"protected\":false,\"verified\":false,\"followers_count\":1507,\"friends_count\":78,\"listed_count\":6,\"favourites_count\":50,\"statuses_count\":6268,\"created_at\":\"Thu Dec 21 08:13:02 +0000 2017\",\"utc_offset\":null,\"time_zone\":null,\"geo_enabled\":false,\"lang\":\"tr\",\"contributors_enabled\":false,\"is_translator\":false,\"profile_background_color\":\"F5F8FA\",\"profile_background_image_url\":\"\",\"profile_background_image_url_https\":\"\",\"profile_background_tile\":false,\"profile_link_color\":\"1DA1F2\",\"profile_sidebar_border_color\":\"C0DEED\",\"profile_sidebar_fill_color\":\"DDEEF6\",\"profile_text_color\":\"333333\",\"profile_use_background_image\":true,\"profile_image_url\":\"http:\\/\\/pbs.twimg.com\\/profile_images\\/943756750234247168\\/t28EKhK4_normal.jpg\",\"profile_image_url_https\":\"https:\\/\\/pbs.twimg.com\\/profile_images\\/943756750234247168\\/t28EKhK4_normal.jpg\",\"profile_banner_url\":\"https:\\/\\/pbs.twimg.com\\/profile_banners\\/943756182312902656\\/1514282829\",\"default_profile\":true,\"default_profile_image\":false,\"following\":null,\"follow_request_sent\":null,\"notifications\":null},\"geo\":null,\"coordinates\":null,\"place\":null,\"contributors\":null,\"is_quote_status\":false,\"extended_tweet\":{\"full_text\":\"[USD] 04\\/03\\/2018 22:00:03 Bitcoin: $11444.3 Ethereum: $864.746  #bitcoin #ethereum #altcoin #coin #blockchain #crypto #kripto #ovis #oviscomtr #paribu #btcturk #koineks #binans #btc #eth #koin #dijitalpara\",\"display_text_range\":[0,205],\"entities\":{\"hashtags\":[{\"text\":\"bitcoin\",\"indices\":[64,72]},{\"text\":\"ethereum\",\"indices\":[73,82]},{\"text\":\"altcoin\",\"indices\":[83,91]},{\"text\":\"coin\",\"indices\":[92,97]},{\"text\":\"blockchain\",\"indices\":[98,109]},{\"text\":\"crypto\",\"indices\":[110,117]},{\"text\":\"kripto\",\"indices\":[118,125]},{\"text\":\"ovis\",\"indices\":[126,131]},{\"text\":\"oviscomtr\",\"indices\":[132,142]},{\"text\":\"paribu\",\"indices\":[143,150]},{\"text\":\"btcturk\",\"indices\":[151,159]},{\"text\":\"koineks\",\"indices\":[160,168]},{\"text\":\"binans\",\"indices\":[169,176]},{\"text\":\"btc\",\"indices\":[177,181]},{\"text\":\"eth\",\"indices\":[182,186]},{\"text\":\"koin\",\"indices\":[187,192]},{\"text\":\"dijitalpara\",\"indices\":[193,205]}],\"urls\":[],\"user_mentions\":[],\"symbols\":[]}},\"quote_count\":0,\"reply_count\":0,\"retweet_count\":0,\"favorite_count\":0,\"entities\":{\"hashtags\":[{\"text\":\"bitcoin\",\"indices\":[64,72]},{\"text\":\"ethereum\",\"indices\":[73,82]},{\"text\":\"altcoin\",\"indices\":[83,91]},{\"text\":\"coin\",\"indices\":[92,97]},{\"text\":\"blockchain\",\"indices\":[98,109]}],\"urls\":[{\"url\":\"https:\\/\\/t.co\\/ZD7ysg3gN7\",\"expanded_url\":\"https:\\/\\/twitter.com\\/i\\/web\\/status\\/970418622362464257\",\"display_url\":\"twitter.com\\/i\\/web\\/status\\/9\\u2026\",\"indices\":[111,134]}],\"user_mentions\":[],\"symbols\":[]},\"favorited\":false,\"retweeted\":false,\"filter_level\":\"low\",\"lang\":\"en\",\"timestamp_ms\":\"1520200803734\"}\n"
     ]
    },
    {
     "name": "stdout",
     "output_type": "stream",
     "text": [
      "\n"
     ]
    },
    {
     "ename": "KeyboardInterrupt",
     "evalue": "",
     "output_type": "error",
     "traceback": [
      "\u001b[1;31m---------------------------------------------------------------------------\u001b[0m",
      "\u001b[1;31mKeyboardInterrupt\u001b[0m                         Traceback (most recent call last)",
      "\u001b[1;32m<ipython-input-42-4db4bbea07ac>\u001b[0m in \u001b[0;36m<module>\u001b[1;34m()\u001b[0m\n\u001b[0;32m     29\u001b[0m \u001b[1;33m\u001b[0m\u001b[0m\n\u001b[0;32m     30\u001b[0m \u001b[0mtwitter_stream\u001b[0m \u001b[1;33m=\u001b[0m \u001b[0mStream\u001b[0m\u001b[1;33m(\u001b[0m\u001b[0mauth\u001b[0m\u001b[1;33m,\u001b[0m \u001b[0mMyListener\u001b[0m\u001b[1;33m(\u001b[0m\u001b[1;33m)\u001b[0m\u001b[1;33m)\u001b[0m\u001b[1;33m\u001b[0m\u001b[0m\n\u001b[1;32m---> 31\u001b[1;33m \u001b[0mtwitter_stream\u001b[0m\u001b[1;33m.\u001b[0m\u001b[0mfilter\u001b[0m\u001b[1;33m(\u001b[0m\u001b[0mtrack\u001b[0m\u001b[1;33m=\u001b[0m\u001b[1;33m[\u001b[0m\u001b[1;34m'#coin'\u001b[0m\u001b[1;33m]\u001b[0m\u001b[1;33m)\u001b[0m\u001b[1;33m\u001b[0m\u001b[0m\n\u001b[0m\u001b[0;32m     32\u001b[0m \u001b[1;31m#data\u001b[0m\u001b[1;33m\u001b[0m\u001b[1;33m\u001b[0m\u001b[0m\n",
      "\u001b[1;32mC:\\Anaconda2\\lib\\site-packages\\tweepy\\streaming.pyc\u001b[0m in \u001b[0;36mfilter\u001b[1;34m(self, follow, track, async, locations, stall_warnings, languages, encoding, filter_level)\u001b[0m\n\u001b[0;32m    448\u001b[0m         \u001b[0mself\u001b[0m\u001b[1;33m.\u001b[0m\u001b[0msession\u001b[0m\u001b[1;33m.\u001b[0m\u001b[0mparams\u001b[0m \u001b[1;33m=\u001b[0m \u001b[1;33m{\u001b[0m\u001b[1;34m'delimited'\u001b[0m\u001b[1;33m:\u001b[0m \u001b[1;34m'length'\u001b[0m\u001b[1;33m}\u001b[0m\u001b[1;33m\u001b[0m\u001b[0m\n\u001b[0;32m    449\u001b[0m         \u001b[0mself\u001b[0m\u001b[1;33m.\u001b[0m\u001b[0mhost\u001b[0m \u001b[1;33m=\u001b[0m \u001b[1;34m'stream.twitter.com'\u001b[0m\u001b[1;33m\u001b[0m\u001b[0m\n\u001b[1;32m--> 450\u001b[1;33m         \u001b[0mself\u001b[0m\u001b[1;33m.\u001b[0m\u001b[0m_start\u001b[0m\u001b[1;33m(\u001b[0m\u001b[0masync\u001b[0m\u001b[1;33m)\u001b[0m\u001b[1;33m\u001b[0m\u001b[0m\n\u001b[0m\u001b[0;32m    451\u001b[0m \u001b[1;33m\u001b[0m\u001b[0m\n\u001b[0;32m    452\u001b[0m     def sitestream(self, follow, stall_warnings=False,\n",
      "\u001b[1;32mC:\\Anaconda2\\lib\\site-packages\\tweepy\\streaming.pyc\u001b[0m in \u001b[0;36m_start\u001b[1;34m(self, async)\u001b[0m\n\u001b[0;32m    362\u001b[0m             \u001b[0mself\u001b[0m\u001b[1;33m.\u001b[0m\u001b[0m_thread\u001b[0m\u001b[1;33m.\u001b[0m\u001b[0mstart\u001b[0m\u001b[1;33m(\u001b[0m\u001b[1;33m)\u001b[0m\u001b[1;33m\u001b[0m\u001b[0m\n\u001b[0;32m    363\u001b[0m         \u001b[1;32melse\u001b[0m\u001b[1;33m:\u001b[0m\u001b[1;33m\u001b[0m\u001b[0m\n\u001b[1;32m--> 364\u001b[1;33m             \u001b[0mself\u001b[0m\u001b[1;33m.\u001b[0m\u001b[0m_run\u001b[0m\u001b[1;33m(\u001b[0m\u001b[1;33m)\u001b[0m\u001b[1;33m\u001b[0m\u001b[0m\n\u001b[0m\u001b[0;32m    365\u001b[0m \u001b[1;33m\u001b[0m\u001b[0m\n\u001b[0;32m    366\u001b[0m     \u001b[1;32mdef\u001b[0m \u001b[0mon_closed\u001b[0m\u001b[1;33m(\u001b[0m\u001b[0mself\u001b[0m\u001b[1;33m,\u001b[0m \u001b[0mresp\u001b[0m\u001b[1;33m)\u001b[0m\u001b[1;33m:\u001b[0m\u001b[1;33m\u001b[0m\u001b[0m\n",
      "\u001b[1;32mC:\\Anaconda2\\lib\\site-packages\\tweepy\\streaming.pyc\u001b[0m in \u001b[0;36m_run\u001b[1;34m(self)\u001b[0m\n\u001b[0;32m    264\u001b[0m                     \u001b[0mself\u001b[0m\u001b[1;33m.\u001b[0m\u001b[0msnooze_time\u001b[0m \u001b[1;33m=\u001b[0m \u001b[0mself\u001b[0m\u001b[1;33m.\u001b[0m\u001b[0msnooze_time_step\u001b[0m\u001b[1;33m\u001b[0m\u001b[0m\n\u001b[0;32m    265\u001b[0m                     \u001b[0mself\u001b[0m\u001b[1;33m.\u001b[0m\u001b[0mlistener\u001b[0m\u001b[1;33m.\u001b[0m\u001b[0mon_connect\u001b[0m\u001b[1;33m(\u001b[0m\u001b[1;33m)\u001b[0m\u001b[1;33m\u001b[0m\u001b[0m\n\u001b[1;32m--> 266\u001b[1;33m                     \u001b[0mself\u001b[0m\u001b[1;33m.\u001b[0m\u001b[0m_read_loop\u001b[0m\u001b[1;33m(\u001b[0m\u001b[0mresp\u001b[0m\u001b[1;33m)\u001b[0m\u001b[1;33m\u001b[0m\u001b[0m\n\u001b[0m\u001b[0;32m    267\u001b[0m             \u001b[1;32mexcept\u001b[0m \u001b[1;33m(\u001b[0m\u001b[0mTimeout\u001b[0m\u001b[1;33m,\u001b[0m \u001b[0mssl\u001b[0m\u001b[1;33m.\u001b[0m\u001b[0mSSLError\u001b[0m\u001b[1;33m)\u001b[0m \u001b[1;32mas\u001b[0m \u001b[0mexc\u001b[0m\u001b[1;33m:\u001b[0m\u001b[1;33m\u001b[0m\u001b[0m\n\u001b[0;32m    268\u001b[0m                 \u001b[1;31m# This is still necessary, as a SSLError can actually be\u001b[0m\u001b[1;33m\u001b[0m\u001b[1;33m\u001b[0m\u001b[0m\n",
      "\u001b[1;32mC:\\Anaconda2\\lib\\site-packages\\tweepy\\streaming.pyc\u001b[0m in \u001b[0;36m_read_loop\u001b[1;34m(self, resp)\u001b[0m\n\u001b[0;32m    314\u001b[0m             \u001b[0mlength\u001b[0m \u001b[1;33m=\u001b[0m \u001b[1;36m0\u001b[0m\u001b[1;33m\u001b[0m\u001b[0m\n\u001b[0;32m    315\u001b[0m             \u001b[1;32mwhile\u001b[0m \u001b[1;32mnot\u001b[0m \u001b[0mresp\u001b[0m\u001b[1;33m.\u001b[0m\u001b[0mraw\u001b[0m\u001b[1;33m.\u001b[0m\u001b[0mclosed\u001b[0m\u001b[1;33m:\u001b[0m\u001b[1;33m\u001b[0m\u001b[0m\n\u001b[1;32m--> 316\u001b[1;33m                 \u001b[0mline\u001b[0m \u001b[1;33m=\u001b[0m \u001b[0mbuf\u001b[0m\u001b[1;33m.\u001b[0m\u001b[0mread_line\u001b[0m\u001b[1;33m(\u001b[0m\u001b[1;33m)\u001b[0m\u001b[1;33m.\u001b[0m\u001b[0mstrip\u001b[0m\u001b[1;33m(\u001b[0m\u001b[1;33m)\u001b[0m\u001b[1;33m\u001b[0m\u001b[0m\n\u001b[0m\u001b[0;32m    317\u001b[0m                 \u001b[1;32mif\u001b[0m \u001b[1;32mnot\u001b[0m \u001b[0mline\u001b[0m\u001b[1;33m:\u001b[0m\u001b[1;33m\u001b[0m\u001b[0m\n\u001b[0;32m    318\u001b[0m                     \u001b[0mself\u001b[0m\u001b[1;33m.\u001b[0m\u001b[0mlistener\u001b[0m\u001b[1;33m.\u001b[0m\u001b[0mkeep_alive\u001b[0m\u001b[1;33m(\u001b[0m\u001b[1;33m)\u001b[0m  \u001b[1;31m# keep-alive new lines are expected\u001b[0m\u001b[1;33m\u001b[0m\u001b[0m\n",
      "\u001b[1;32mC:\\Anaconda2\\lib\\site-packages\\tweepy\\streaming.pyc\u001b[0m in \u001b[0;36mread_line\u001b[1;34m(self, sep)\u001b[0m\n\u001b[0;32m    179\u001b[0m             \u001b[1;32melse\u001b[0m\u001b[1;33m:\u001b[0m\u001b[1;33m\u001b[0m\u001b[0m\n\u001b[0;32m    180\u001b[0m                 \u001b[0mstart\u001b[0m \u001b[1;33m=\u001b[0m \u001b[0mlen\u001b[0m\u001b[1;33m(\u001b[0m\u001b[0mself\u001b[0m\u001b[1;33m.\u001b[0m\u001b[0m_buffer\u001b[0m\u001b[1;33m)\u001b[0m\u001b[1;33m\u001b[0m\u001b[0m\n\u001b[1;32m--> 181\u001b[1;33m             \u001b[0mself\u001b[0m\u001b[1;33m.\u001b[0m\u001b[0m_buffer\u001b[0m \u001b[1;33m+=\u001b[0m \u001b[0mself\u001b[0m\u001b[1;33m.\u001b[0m\u001b[0m_stream\u001b[0m\u001b[1;33m.\u001b[0m\u001b[0mread\u001b[0m\u001b[1;33m(\u001b[0m\u001b[0mself\u001b[0m\u001b[1;33m.\u001b[0m\u001b[0m_chunk_size\u001b[0m\u001b[1;33m)\u001b[0m\u001b[1;33m\u001b[0m\u001b[0m\n\u001b[0m\u001b[0;32m    182\u001b[0m         \u001b[1;32mreturn\u001b[0m \u001b[0msix\u001b[0m\u001b[1;33m.\u001b[0m\u001b[0mb\u001b[0m\u001b[1;33m(\u001b[0m\u001b[1;34m''\u001b[0m\u001b[1;33m)\u001b[0m\u001b[1;33m\u001b[0m\u001b[0m\n\u001b[0;32m    183\u001b[0m \u001b[1;33m\u001b[0m\u001b[0m\n",
      "\u001b[1;32mC:\\Anaconda2\\lib\\site-packages\\urllib3\\response.pyc\u001b[0m in \u001b[0;36mread\u001b[1;34m(self, amt, decode_content, cache_content)\u001b[0m\n\u001b[0;32m    382\u001b[0m             \u001b[1;32melse\u001b[0m\u001b[1;33m:\u001b[0m\u001b[1;33m\u001b[0m\u001b[0m\n\u001b[0;32m    383\u001b[0m                 \u001b[0mcache_content\u001b[0m \u001b[1;33m=\u001b[0m \u001b[0mFalse\u001b[0m\u001b[1;33m\u001b[0m\u001b[0m\n\u001b[1;32m--> 384\u001b[1;33m                 \u001b[0mdata\u001b[0m \u001b[1;33m=\u001b[0m \u001b[0mself\u001b[0m\u001b[1;33m.\u001b[0m\u001b[0m_fp\u001b[0m\u001b[1;33m.\u001b[0m\u001b[0mread\u001b[0m\u001b[1;33m(\u001b[0m\u001b[0mamt\u001b[0m\u001b[1;33m)\u001b[0m\u001b[1;33m\u001b[0m\u001b[0m\n\u001b[0m\u001b[0;32m    385\u001b[0m                 \u001b[1;32mif\u001b[0m \u001b[0mamt\u001b[0m \u001b[1;33m!=\u001b[0m \u001b[1;36m0\u001b[0m \u001b[1;32mand\u001b[0m \u001b[1;32mnot\u001b[0m \u001b[0mdata\u001b[0m\u001b[1;33m:\u001b[0m  \u001b[1;31m# Platform-specific: Buggy versions of Python.\u001b[0m\u001b[1;33m\u001b[0m\u001b[0m\n\u001b[0;32m    386\u001b[0m                     \u001b[1;31m# Close the connection when no data is returned\u001b[0m\u001b[1;33m\u001b[0m\u001b[1;33m\u001b[0m\u001b[0m\n",
      "\u001b[1;32mC:\\Anaconda2\\lib\\httplib.pyc\u001b[0m in \u001b[0;36mread\u001b[1;34m(self, amt)\u001b[0m\n\u001b[0;32m    571\u001b[0m \u001b[1;33m\u001b[0m\u001b[0m\n\u001b[0;32m    572\u001b[0m         \u001b[1;32mif\u001b[0m \u001b[0mself\u001b[0m\u001b[1;33m.\u001b[0m\u001b[0mchunked\u001b[0m\u001b[1;33m:\u001b[0m\u001b[1;33m\u001b[0m\u001b[0m\n\u001b[1;32m--> 573\u001b[1;33m             \u001b[1;32mreturn\u001b[0m \u001b[0mself\u001b[0m\u001b[1;33m.\u001b[0m\u001b[0m_read_chunked\u001b[0m\u001b[1;33m(\u001b[0m\u001b[0mamt\u001b[0m\u001b[1;33m)\u001b[0m\u001b[1;33m\u001b[0m\u001b[0m\n\u001b[0m\u001b[0;32m    574\u001b[0m \u001b[1;33m\u001b[0m\u001b[0m\n\u001b[0;32m    575\u001b[0m         \u001b[1;32mif\u001b[0m \u001b[0mamt\u001b[0m \u001b[1;32mis\u001b[0m \u001b[0mNone\u001b[0m\u001b[1;33m:\u001b[0m\u001b[1;33m\u001b[0m\u001b[0m\n",
      "\u001b[1;32mC:\\Anaconda2\\lib\\httplib.pyc\u001b[0m in \u001b[0;36m_read_chunked\u001b[1;34m(self, amt)\u001b[0m\n\u001b[0;32m    613\u001b[0m         \u001b[1;32mwhile\u001b[0m \u001b[0mTrue\u001b[0m\u001b[1;33m:\u001b[0m\u001b[1;33m\u001b[0m\u001b[0m\n\u001b[0;32m    614\u001b[0m             \u001b[1;32mif\u001b[0m \u001b[0mchunk_left\u001b[0m \u001b[1;32mis\u001b[0m \u001b[0mNone\u001b[0m\u001b[1;33m:\u001b[0m\u001b[1;33m\u001b[0m\u001b[0m\n\u001b[1;32m--> 615\u001b[1;33m                 \u001b[0mline\u001b[0m \u001b[1;33m=\u001b[0m \u001b[0mself\u001b[0m\u001b[1;33m.\u001b[0m\u001b[0mfp\u001b[0m\u001b[1;33m.\u001b[0m\u001b[0mreadline\u001b[0m\u001b[1;33m(\u001b[0m\u001b[0m_MAXLINE\u001b[0m \u001b[1;33m+\u001b[0m \u001b[1;36m1\u001b[0m\u001b[1;33m)\u001b[0m\u001b[1;33m\u001b[0m\u001b[0m\n\u001b[0m\u001b[0;32m    616\u001b[0m                 \u001b[1;32mif\u001b[0m \u001b[0mlen\u001b[0m\u001b[1;33m(\u001b[0m\u001b[0mline\u001b[0m\u001b[1;33m)\u001b[0m \u001b[1;33m>\u001b[0m \u001b[0m_MAXLINE\u001b[0m\u001b[1;33m:\u001b[0m\u001b[1;33m\u001b[0m\u001b[0m\n\u001b[0;32m    617\u001b[0m                     \u001b[1;32mraise\u001b[0m \u001b[0mLineTooLong\u001b[0m\u001b[1;33m(\u001b[0m\u001b[1;34m\"chunk size\"\u001b[0m\u001b[1;33m)\u001b[0m\u001b[1;33m\u001b[0m\u001b[0m\n",
      "\u001b[1;32mC:\\Anaconda2\\lib\\socket.pyc\u001b[0m in \u001b[0;36mreadline\u001b[1;34m(self, size)\u001b[0m\n\u001b[0;32m    478\u001b[0m             \u001b[1;32mwhile\u001b[0m \u001b[0mTrue\u001b[0m\u001b[1;33m:\u001b[0m\u001b[1;33m\u001b[0m\u001b[0m\n\u001b[0;32m    479\u001b[0m                 \u001b[1;32mtry\u001b[0m\u001b[1;33m:\u001b[0m\u001b[1;33m\u001b[0m\u001b[0m\n\u001b[1;32m--> 480\u001b[1;33m                     \u001b[0mdata\u001b[0m \u001b[1;33m=\u001b[0m \u001b[0mself\u001b[0m\u001b[1;33m.\u001b[0m\u001b[0m_sock\u001b[0m\u001b[1;33m.\u001b[0m\u001b[0mrecv\u001b[0m\u001b[1;33m(\u001b[0m\u001b[0mself\u001b[0m\u001b[1;33m.\u001b[0m\u001b[0m_rbufsize\u001b[0m\u001b[1;33m)\u001b[0m\u001b[1;33m\u001b[0m\u001b[0m\n\u001b[0m\u001b[0;32m    481\u001b[0m                 \u001b[1;32mexcept\u001b[0m \u001b[0merror\u001b[0m\u001b[1;33m,\u001b[0m \u001b[0me\u001b[0m\u001b[1;33m:\u001b[0m\u001b[1;33m\u001b[0m\u001b[0m\n\u001b[0;32m    482\u001b[0m                     \u001b[1;32mif\u001b[0m \u001b[0me\u001b[0m\u001b[1;33m.\u001b[0m\u001b[0margs\u001b[0m\u001b[1;33m[\u001b[0m\u001b[1;36m0\u001b[0m\u001b[1;33m]\u001b[0m \u001b[1;33m==\u001b[0m \u001b[0mEINTR\u001b[0m\u001b[1;33m:\u001b[0m\u001b[1;33m\u001b[0m\u001b[0m\n",
      "\u001b[1;32mC:\\Anaconda2\\lib\\site-packages\\urllib3\\contrib\\pyopenssl.pyc\u001b[0m in \u001b[0;36mrecv\u001b[1;34m(self, *args, **kwargs)\u001b[0m\n\u001b[0;32m    265\u001b[0m                 \u001b[1;32mraise\u001b[0m\u001b[1;33m\u001b[0m\u001b[0m\n\u001b[0;32m    266\u001b[0m         \u001b[1;32mexcept\u001b[0m \u001b[0mOpenSSL\u001b[0m\u001b[1;33m.\u001b[0m\u001b[0mSSL\u001b[0m\u001b[1;33m.\u001b[0m\u001b[0mWantReadError\u001b[0m\u001b[1;33m:\u001b[0m\u001b[1;33m\u001b[0m\u001b[0m\n\u001b[1;32m--> 267\u001b[1;33m             \u001b[0mrd\u001b[0m \u001b[1;33m=\u001b[0m \u001b[0mutil\u001b[0m\u001b[1;33m.\u001b[0m\u001b[0mwait_for_read\u001b[0m\u001b[1;33m(\u001b[0m\u001b[0mself\u001b[0m\u001b[1;33m.\u001b[0m\u001b[0msocket\u001b[0m\u001b[1;33m,\u001b[0m \u001b[0mself\u001b[0m\u001b[1;33m.\u001b[0m\u001b[0msocket\u001b[0m\u001b[1;33m.\u001b[0m\u001b[0mgettimeout\u001b[0m\u001b[1;33m(\u001b[0m\u001b[1;33m)\u001b[0m\u001b[1;33m)\u001b[0m\u001b[1;33m\u001b[0m\u001b[0m\n\u001b[0m\u001b[0;32m    268\u001b[0m             \u001b[1;32mif\u001b[0m \u001b[1;32mnot\u001b[0m \u001b[0mrd\u001b[0m\u001b[1;33m:\u001b[0m\u001b[1;33m\u001b[0m\u001b[0m\n\u001b[0;32m    269\u001b[0m                 \u001b[1;32mraise\u001b[0m \u001b[0mtimeout\u001b[0m\u001b[1;33m(\u001b[0m\u001b[1;34m'The read operation timed out'\u001b[0m\u001b[1;33m)\u001b[0m\u001b[1;33m\u001b[0m\u001b[0m\n",
      "\u001b[1;32mC:\\Anaconda2\\lib\\site-packages\\urllib3\\util\\wait.pyc\u001b[0m in \u001b[0;36mwait_for_read\u001b[1;34m(socks, timeout)\u001b[0m\n\u001b[0;32m     31\u001b[0m     \u001b[1;32mor\u001b[0m \u001b[0moptionally\u001b[0m \u001b[0ma\u001b[0m \u001b[0msingle\u001b[0m \u001b[0msocket\u001b[0m \u001b[1;32mif\u001b[0m \u001b[0mpassed\u001b[0m \u001b[1;32min\u001b[0m\u001b[1;33m.\u001b[0m \u001b[0mReturns\u001b[0m \u001b[0ma\u001b[0m \u001b[0mlist\u001b[0m \u001b[0mof\u001b[0m\u001b[1;33m\u001b[0m\u001b[0m\n\u001b[0;32m     32\u001b[0m     sockets that can be read from immediately. \"\"\"\n\u001b[1;32m---> 33\u001b[1;33m     \u001b[1;32mreturn\u001b[0m \u001b[0m_wait_for_io_events\u001b[0m\u001b[1;33m(\u001b[0m\u001b[0msocks\u001b[0m\u001b[1;33m,\u001b[0m \u001b[0mEVENT_READ\u001b[0m\u001b[1;33m,\u001b[0m \u001b[0mtimeout\u001b[0m\u001b[1;33m)\u001b[0m\u001b[1;33m\u001b[0m\u001b[0m\n\u001b[0m\u001b[0;32m     34\u001b[0m \u001b[1;33m\u001b[0m\u001b[0m\n\u001b[0;32m     35\u001b[0m \u001b[1;33m\u001b[0m\u001b[0m\n",
      "\u001b[1;32mC:\\Anaconda2\\lib\\site-packages\\urllib3\\util\\wait.pyc\u001b[0m in \u001b[0;36m_wait_for_io_events\u001b[1;34m(socks, events, timeout)\u001b[0m\n\u001b[0;32m     24\u001b[0m             \u001b[0mselector\u001b[0m\u001b[1;33m.\u001b[0m\u001b[0mregister\u001b[0m\u001b[1;33m(\u001b[0m\u001b[0msock\u001b[0m\u001b[1;33m,\u001b[0m \u001b[0mevents\u001b[0m\u001b[1;33m)\u001b[0m\u001b[1;33m\u001b[0m\u001b[0m\n\u001b[0;32m     25\u001b[0m         return [key[0].fileobj for key in\n\u001b[1;32m---> 26\u001b[1;33m                 selector.select(timeout) if key[1] & events]\n\u001b[0m\u001b[0;32m     27\u001b[0m \u001b[1;33m\u001b[0m\u001b[0m\n\u001b[0;32m     28\u001b[0m \u001b[1;33m\u001b[0m\u001b[0m\n",
      "\u001b[1;32mC:\\Anaconda2\\lib\\site-packages\\urllib3\\util\\selectors.pyc\u001b[0m in \u001b[0;36mselect\u001b[1;34m(self, timeout)\u001b[0m\n\u001b[0;32m    318\u001b[0m             \u001b[0mready\u001b[0m \u001b[1;33m=\u001b[0m \u001b[1;33m[\u001b[0m\u001b[1;33m]\u001b[0m\u001b[1;33m\u001b[0m\u001b[0m\n\u001b[0;32m    319\u001b[0m             r, w, _ = _syscall_wrapper(self._select, True, self._readers,\n\u001b[1;32m--> 320\u001b[1;33m                                        self._writers, timeout)\n\u001b[0m\u001b[0;32m    321\u001b[0m             \u001b[0mr\u001b[0m \u001b[1;33m=\u001b[0m \u001b[0mset\u001b[0m\u001b[1;33m(\u001b[0m\u001b[0mr\u001b[0m\u001b[1;33m)\u001b[0m\u001b[1;33m\u001b[0m\u001b[0m\n\u001b[0;32m    322\u001b[0m             \u001b[0mw\u001b[0m \u001b[1;33m=\u001b[0m \u001b[0mset\u001b[0m\u001b[1;33m(\u001b[0m\u001b[0mw\u001b[0m\u001b[1;33m)\u001b[0m\u001b[1;33m\u001b[0m\u001b[0m\n",
      "\u001b[1;32mC:\\Anaconda2\\lib\\site-packages\\urllib3\\util\\selectors.pyc\u001b[0m in \u001b[0;36m_syscall_wrapper\u001b[1;34m(func, recalc_timeout, *args, **kwargs)\u001b[0m\n\u001b[0;32m     92\u001b[0m         \u001b[1;32mwhile\u001b[0m \u001b[0mresult\u001b[0m \u001b[1;32mis\u001b[0m \u001b[0m_SYSCALL_SENTINEL\u001b[0m\u001b[1;33m:\u001b[0m\u001b[1;33m\u001b[0m\u001b[0m\n\u001b[0;32m     93\u001b[0m             \u001b[1;32mtry\u001b[0m\u001b[1;33m:\u001b[0m\u001b[1;33m\u001b[0m\u001b[0m\n\u001b[1;32m---> 94\u001b[1;33m                 \u001b[0mresult\u001b[0m \u001b[1;33m=\u001b[0m \u001b[0mfunc\u001b[0m\u001b[1;33m(\u001b[0m\u001b[1;33m*\u001b[0m\u001b[0margs\u001b[0m\u001b[1;33m,\u001b[0m \u001b[1;33m**\u001b[0m\u001b[0mkwargs\u001b[0m\u001b[1;33m)\u001b[0m\u001b[1;33m\u001b[0m\u001b[0m\n\u001b[0m\u001b[0;32m     95\u001b[0m             \u001b[1;31m# OSError is thrown by select.select\u001b[0m\u001b[1;33m\u001b[0m\u001b[1;33m\u001b[0m\u001b[0m\n\u001b[0;32m     96\u001b[0m             \u001b[1;31m# IOError is thrown by select.epoll.poll\u001b[0m\u001b[1;33m\u001b[0m\u001b[1;33m\u001b[0m\u001b[0m\n",
      "\u001b[1;32mC:\\Anaconda2\\lib\\site-packages\\urllib3\\util\\selectors.pyc\u001b[0m in \u001b[0;36m_select\u001b[1;34m(self, r, w, timeout)\u001b[0m\n\u001b[0;32m    308\u001b[0m         \u001b[1;32mdef\u001b[0m \u001b[0m_select\u001b[0m\u001b[1;33m(\u001b[0m\u001b[0mself\u001b[0m\u001b[1;33m,\u001b[0m \u001b[0mr\u001b[0m\u001b[1;33m,\u001b[0m \u001b[0mw\u001b[0m\u001b[1;33m,\u001b[0m \u001b[0mtimeout\u001b[0m\u001b[1;33m=\u001b[0m\u001b[0mNone\u001b[0m\u001b[1;33m)\u001b[0m\u001b[1;33m:\u001b[0m\u001b[1;33m\u001b[0m\u001b[0m\n\u001b[0;32m    309\u001b[0m             \u001b[1;34m\"\"\" Wrapper for select.select because timeout is a positional arg \"\"\"\u001b[0m\u001b[1;33m\u001b[0m\u001b[0m\n\u001b[1;32m--> 310\u001b[1;33m             \u001b[1;32mreturn\u001b[0m \u001b[0mselect\u001b[0m\u001b[1;33m.\u001b[0m\u001b[0mselect\u001b[0m\u001b[1;33m(\u001b[0m\u001b[0mr\u001b[0m\u001b[1;33m,\u001b[0m \u001b[0mw\u001b[0m\u001b[1;33m,\u001b[0m \u001b[1;33m[\u001b[0m\u001b[1;33m]\u001b[0m\u001b[1;33m,\u001b[0m \u001b[0mtimeout\u001b[0m\u001b[1;33m)\u001b[0m\u001b[1;33m\u001b[0m\u001b[0m\n\u001b[0m\u001b[0;32m    311\u001b[0m \u001b[1;33m\u001b[0m\u001b[0m\n\u001b[0;32m    312\u001b[0m         \u001b[1;32mdef\u001b[0m \u001b[0mselect\u001b[0m\u001b[1;33m(\u001b[0m\u001b[0mself\u001b[0m\u001b[1;33m,\u001b[0m \u001b[0mtimeout\u001b[0m\u001b[1;33m=\u001b[0m\u001b[0mNone\u001b[0m\u001b[1;33m)\u001b[0m\u001b[1;33m:\u001b[0m\u001b[1;33m\u001b[0m\u001b[0m\n",
      "\u001b[1;31mKeyboardInterrupt\u001b[0m: "
     ]
    }
   ],
   "source": [
    "from tweepy import Stream\n",
    "from tweepy.streaming import StreamListener\n",
    "import json\n",
    "\n",
    "\n",
    "rawdata=[]\n",
    "    \n",
    "class MyListener(StreamListener):\n",
    " \n",
    "    def on_data(self, data):\n",
    "        try:\n",
    "            with open(r'D:\\GSkyDrive\\Qcfinance\\learners students\\Naveen Python\\Capstone Project\\cryptocapstone\\python.json', 'a') as f:\n",
    "                f.write(data)\n",
    "                #json.dump(data, f)\n",
    "\n",
    "                #a = json.load(f)\n",
    "                rawdata.append(data)\n",
    "\n",
    "                print (data)\n",
    "                #f.close()\n",
    "                return True\n",
    "        except BaseException as e:\n",
    "            print(\"Error on_data: %s\" % str(e))\n",
    "        return True\n",
    " \n",
    "    def on_error(self, status):\n",
    "        print(status)\n",
    "        return True\n",
    " \n",
    "twitter_stream = Stream(auth, MyListener())\n",
    "twitter_stream.filter(track=['#coin'])\n",
    "#data"
   ]
  },
  {
   "cell_type": "code",
   "execution_count": null,
   "metadata": {},
   "outputs": [],
   "source": [
    "rawdata"
   ]
  },
  {
   "cell_type": "code",
   "execution_count": 64,
   "metadata": {},
   "outputs": [
    {
     "name": "stdout",
     "output_type": "stream",
     "text": [
      "{\n",
      "    \"quote_count\": 0, \n",
      "    \"contributors\": null, \n",
      "    \"truncated\": false, \n",
      "    \"text\": \"RT @FullstackDevJS: Getting Started with React, Webpack and Bootstrap #Fullstack #Javascript #Angular #React #Python https://t.co/YiryaQPz41\", \n",
      "    \"is_quote_status\": false, \n",
      "    \"in_reply_to_status_id\": null, \n",
      "    \"reply_count\": 0, \n",
      "    \"id\": 970401128419614721, \n",
      "    \"favorite_count\": 0, \n",
      "    \"entities\": {\n",
      "        \"user_mentions\": [\n",
      "            {\n",
      "                \"id\": 931055758971752448, \n",
      "                \"indices\": [\n",
      "                    3, \n",
      "                    18\n",
      "                ], \n",
      "                \"id_str\": \"931055758971752448\", \n",
      "                \"screen_name\": \"FullstackDevJS\", \n",
      "                \"name\": \"Fullstack Developer\"\n",
      "            }\n",
      "        ], \n",
      "        \"symbols\": [], \n",
      "        \"hashtags\": [\n",
      "            {\n",
      "                \"indices\": [\n",
      "                    70, \n",
      "                    80\n",
      "                ], \n",
      "                \"text\": \"Fullstack\"\n",
      "            }, \n",
      "            {\n",
      "                \"indices\": [\n",
      "                    81, \n",
      "                    92\n",
      "                ], \n",
      "                \"text\": \"Javascript\"\n",
      "            }, \n",
      "            {\n",
      "                \"indices\": [\n",
      "                    93, \n",
      "                    101\n",
      "                ], \n",
      "                \"text\": \"Angular\"\n",
      "            }, \n",
      "            {\n",
      "                \"indices\": [\n",
      "                    102, \n",
      "                    108\n",
      "                ], \n",
      "                \"text\": \"React\"\n",
      "            }, \n",
      "            {\n",
      "                \"indices\": [\n",
      "                    109, \n",
      "                    116\n",
      "                ], \n",
      "                \"text\": \"Python\"\n",
      "            }\n",
      "        ], \n",
      "        \"urls\": [\n",
      "            {\n",
      "                \"url\": \"https://t.co/YiryaQPz41\", \n",
      "                \"indices\": [\n",
      "                    117, \n",
      "                    140\n",
      "                ], \n",
      "                \"expanded_url\": \"https://www.codementor.io/dinyangetoh/getting-started-with-react-webpack-and-bootstrap-hamr7lsiy\", \n",
      "                \"display_url\": \"codementor.io/dinyangetoh/ge\\u2026\"\n",
      "            }\n",
      "        ]\n",
      "    }, \n",
      "    \"retweeted\": false, \n",
      "    \"coordinates\": null, \n",
      "    \"timestamp_ms\": \"1520196632853\", \n",
      "    \"source\": \"<a href=\\\"http://twitter.com/download/iphone\\\" rel=\\\"nofollow\\\">Twitter for iPhone</a>\", \n",
      "    \"in_reply_to_screen_name\": null, \n",
      "    \"id_str\": \"970401128419614721\", \n",
      "    \"retweet_count\": 0, \n",
      "    \"in_reply_to_user_id\": null, \n",
      "    \"favorited\": false, \n",
      "    \"retweeted_status\": {\n",
      "        \"quote_count\": 2, \n",
      "        \"contributors\": null, \n",
      "        \"truncated\": false, \n",
      "        \"text\": \"Getting Started with React, Webpack and Bootstrap #Fullstack #Javascript #Angular #React #Python https://t.co/YiryaQPz41\", \n",
      "        \"is_quote_status\": false, \n",
      "        \"in_reply_to_status_id\": null, \n",
      "        \"reply_count\": 0, \n",
      "        \"id\": 970365798890995712, \n",
      "        \"favorite_count\": 3, \n",
      "        \"source\": \"<a href=\\\"http://learntocode.com.ng\\\" rel=\\\"nofollow\\\">FullstackdevJs</a>\", \n",
      "        \"retweeted\": false, \n",
      "        \"coordinates\": null, \n",
      "        \"entities\": {\n",
      "            \"user_mentions\": [], \n",
      "            \"symbols\": [], \n",
      "            \"hashtags\": [\n",
      "                {\n",
      "                    \"indices\": [\n",
      "                        50, \n",
      "                        60\n",
      "                    ], \n",
      "                    \"text\": \"Fullstack\"\n",
      "                }, \n",
      "                {\n",
      "                    \"indices\": [\n",
      "                        61, \n",
      "                        72\n",
      "                    ], \n",
      "                    \"text\": \"Javascript\"\n",
      "                }, \n",
      "                {\n",
      "                    \"indices\": [\n",
      "                        73, \n",
      "                        81\n",
      "                    ], \n",
      "                    \"text\": \"Angular\"\n",
      "                }, \n",
      "                {\n",
      "                    \"indices\": [\n",
      "                        82, \n",
      "                        88\n",
      "                    ], \n",
      "                    \"text\": \"React\"\n",
      "                }, \n",
      "                {\n",
      "                    \"indices\": [\n",
      "                        89, \n",
      "                        96\n",
      "                    ], \n",
      "                    \"text\": \"Python\"\n",
      "                }\n",
      "            ], \n",
      "            \"urls\": [\n",
      "                {\n",
      "                    \"url\": \"https://t.co/YiryaQPz41\", \n",
      "                    \"indices\": [\n",
      "                        97, \n",
      "                        120\n",
      "                    ], \n",
      "                    \"expanded_url\": \"https://www.codementor.io/dinyangetoh/getting-started-with-react-webpack-and-bootstrap-hamr7lsiy\", \n",
      "                    \"display_url\": \"codementor.io/dinyangetoh/ge\\u2026\"\n",
      "                }\n",
      "            ]\n",
      "        }, \n",
      "        \"in_reply_to_screen_name\": null, \n",
      "        \"id_str\": \"970365798890995712\", \n",
      "        \"retweet_count\": 3, \n",
      "        \"in_reply_to_user_id\": null, \n",
      "        \"favorited\": false, \n",
      "        \"user\": {\n",
      "            \"follow_request_sent\": null, \n",
      "            \"profile_use_background_image\": true, \n",
      "            \"default_profile_image\": false, \n",
      "            \"id\": 931055758971752448, \n",
      "            \"default_profile\": true, \n",
      "            \"verified\": false, \n",
      "            \"profile_image_url_https\": \"https://pbs.twimg.com/profile_images/931056845661331456/n8_a256l_normal.jpg\", \n",
      "            \"profile_sidebar_fill_color\": \"DDEEF6\", \n",
      "            \"profile_text_color\": \"333333\", \n",
      "            \"followers_count\": 3016, \n",
      "            \"profile_sidebar_border_color\": \"C0DEED\", \n",
      "            \"id_str\": \"931055758971752448\", \n",
      "            \"profile_background_color\": \"F5F8FA\", \n",
      "            \"listed_count\": 16, \n",
      "            \"profile_background_image_url_https\": \"\", \n",
      "            \"utc_offset\": null, \n",
      "            \"statuses_count\": 1737, \n",
      "            \"description\": \"Posts links to great #Javascript #frontend and #backend tutorials (#Angular #VueJS #ReactJS #NodeJS)\", \n",
      "            \"friends_count\": 1737, \n",
      "            \"location\": \"localhost:8080\", \n",
      "            \"profile_link_color\": \"1DA1F2\", \n",
      "            \"profile_image_url\": \"http://pbs.twimg.com/profile_images/931056845661331456/n8_a256l_normal.jpg\", \n",
      "            \"following\": null, \n",
      "            \"geo_enabled\": false, \n",
      "            \"profile_banner_url\": \"https://pbs.twimg.com/profile_banners/931055758971752448/1510816277\", \n",
      "            \"profile_background_image_url\": \"\", \n",
      "            \"name\": \"Fullstack Developer\", \n",
      "            \"lang\": \"en\", \n",
      "            \"profile_background_tile\": false, \n",
      "            \"favourites_count\": 5940, \n",
      "            \"screen_name\": \"FullstackDevJS\", \n",
      "            \"notifications\": null, \n",
      "            \"url\": null, \n",
      "            \"created_at\": \"Thu Nov 16 07:06:05 +0000 2017\", \n",
      "            \"contributors_enabled\": false, \n",
      "            \"time_zone\": null, \n",
      "            \"protected\": false, \n",
      "            \"translator_type\": \"none\", \n",
      "            \"is_translator\": false\n",
      "        }, \n",
      "        \"geo\": null, \n",
      "        \"in_reply_to_user_id_str\": null, \n",
      "        \"possibly_sensitive\": false, \n",
      "        \"lang\": \"en\", \n",
      "        \"created_at\": \"Sun Mar 04 18:30:09 +0000 2018\", \n",
      "        \"filter_level\": \"low\", \n",
      "        \"in_reply_to_status_id_str\": null, \n",
      "        \"place\": null\n",
      "    }, \n",
      "    \"user\": {\n",
      "        \"follow_request_sent\": null, \n",
      "        \"profile_use_background_image\": false, \n",
      "        \"default_profile_image\": false, \n",
      "        \"id\": 773500142561423361, \n",
      "        \"default_profile\": false, \n",
      "        \"verified\": false, \n",
      "        \"profile_image_url_https\": \"https://pbs.twimg.com/profile_images/788211446110978048/hW_G2WsT_normal.jpg\", \n",
      "        \"profile_sidebar_fill_color\": \"000000\", \n",
      "        \"profile_text_color\": \"000000\", \n",
      "        \"followers_count\": 47, \n",
      "        \"profile_sidebar_border_color\": \"000000\", \n",
      "        \"id_str\": \"773500142561423361\", \n",
      "        \"profile_background_color\": \"000000\", \n",
      "        \"listed_count\": 1, \n",
      "        \"profile_background_image_url_https\": \"https://abs.twimg.com/images/themes/theme1/bg.png\", \n",
      "        \"utc_offset\": -18000, \n",
      "        \"statuses_count\": 733, \n",
      "        \"description\": \"Optimizamos procesos comerciales, marketing y servicio al cliente cumpliendo con sus requerimientos y desarrollando productos inform\\u00e1ticos de calidad.\", \n",
      "        \"friends_count\": 137, \n",
      "        \"location\": \"Quito, Ecuador\", \n",
      "        \"profile_link_color\": \"1B95E0\", \n",
      "        \"profile_image_url\": \"http://pbs.twimg.com/profile_images/788211446110978048/hW_G2WsT_normal.jpg\", \n",
      "        \"following\": null, \n",
      "        \"geo_enabled\": false, \n",
      "        \"profile_banner_url\": \"https://pbs.twimg.com/profile_banners/773500142561423361/1476759319\", \n",
      "        \"profile_background_image_url\": \"http://abs.twimg.com/images/themes/theme1/bg.png\", \n",
      "        \"name\": \"B.O.S\", \n",
      "        \"lang\": \"es\", \n",
      "        \"profile_background_tile\": false, \n",
      "        \"favourites_count\": 1, \n",
      "        \"screen_name\": \"BOSOUTSOURCING\", \n",
      "        \"notifications\": null, \n",
      "        \"url\": \"http://www.bos-outsourcing.com\", \n",
      "        \"created_at\": \"Wed Sep 07 12:36:19 +0000 2016\", \n",
      "        \"contributors_enabled\": false, \n",
      "        \"time_zone\": \"Quito\", \n",
      "        \"protected\": false, \n",
      "        \"translator_type\": \"none\", \n",
      "        \"is_translator\": false\n",
      "    }, \n",
      "    \"geo\": null, \n",
      "    \"in_reply_to_user_id_str\": null, \n",
      "    \"possibly_sensitive\": false, \n",
      "    \"lang\": \"en\", \n",
      "    \"created_at\": \"Sun Mar 04 20:50:32 +0000 2018\", \n",
      "    \"filter_level\": \"low\", \n",
      "    \"in_reply_to_status_id_str\": null, \n",
      "    \"place\": null\n",
      "}\n"
     ]
    }
   ],
   "source": [
    "import json\n",
    " \n",
    "with open(r'D:\\GSkyDrive\\Qcfinance\\learners students\\Naveen Python\\Capstone Project\\cryptocapstone\\python.json', 'r') as f:\n",
    "    line = f.readline() # read only the first tweet/line\n",
    "    tweet = json.loads(line) # load it as Python dict\n",
    "    print(json.dumps(tweet, indent=4)) # pretty-print"
   ]
  },
  {
   "cell_type": "code",
   "execution_count": 65,
   "metadata": {},
   "outputs": [
    {
     "name": "stdout",
     "output_type": "stream",
     "text": [
      "['RT', '@marcobonzanini', ':', 'just', 'an', 'example', '!', ':D', 'http://example.com', '#NLP']\n"
     ]
    }
   ],
   "source": [
    "import re\n",
    " \n",
    "emoticons_str = r\"\"\"\n",
    "    (?:\n",
    "        [:=;] # Eyes\n",
    "        [oO\\-]? # Nose (optional)\n",
    "        [D\\)\\]\\(\\]/\\\\OpP] # Mouth\n",
    "    )\"\"\"\n",
    " \n",
    "regex_str = [\n",
    "    emoticons_str,\n",
    "    r'<[^>]+>', # HTML tags\n",
    "    r'(?:@[\\w_]+)', # @-mentions\n",
    "    r\"(?:\\#+[\\w_]+[\\w\\'_\\-]*[\\w_]+)\", # hash-tags\n",
    "    r'http[s]?://(?:[a-z]|[0-9]|[$-_@.&amp;+]|[!*\\(\\),]|(?:%[0-9a-f][0-9a-f]))+', # URLs\n",
    " \n",
    "    r'(?:(?:\\d+,?)+(?:\\.?\\d+)?)', # numbers\n",
    "    r\"(?:[a-z][a-z'\\-_]+[a-z])\", # words with - and '\n",
    "    r'(?:[\\w_]+)', # other words\n",
    "    r'(?:\\S)' # anything else\n",
    "]\n",
    "    \n",
    "tokens_re = re.compile(r'('+'|'.join(regex_str)+')', re.VERBOSE | re.IGNORECASE)\n",
    "emoticon_re = re.compile(r'^'+emoticons_str+'$', re.VERBOSE | re.IGNORECASE)\n",
    " \n",
    "def tokenize(s):\n",
    "    return tokens_re.findall(s)\n",
    " \n",
    "def preprocess(s, lowercase=False):\n",
    "    tokens = tokenize(s)\n",
    "    if lowercase:\n",
    "        tokens = [token if emoticon_re.search(token) else token.lower() for token in tokens]\n",
    "    return tokens\n",
    " \n",
    "tweet = 'RT @marcobonzanini: just an example! :D http://example.com #NLP'\n",
    "print(preprocess(tweet))\n",
    "# ['RT', '@marcobonzanini', ':', 'just', 'an', 'example', '!', ':D', 'http://example.com', '#NLP']"
   ]
  },
  {
   "cell_type": "code",
   "execution_count": 66,
   "metadata": {},
   "outputs": [
    {
     "name": "stdout",
     "output_type": "stream",
     "text": [
      "[u'RT', u'@FullstackDevJS', u':', u'Getting', u'Started', u'with', u'React', u',', u'Webpack', u'and', u'Bootstrap', u'#Fullstack', u'#Javascript', u'#Angular', u'#React', u'#Python', u'https://t.co/YiryaQPz41']\n",
      "[u'\\ud83d', u'\\udce2', u'Very', u'Nice', u'#airdrop', u'about', u'$', u'33', u'worth', u'!', u'(', u'#token', u'price', u')', u'\\ud83d', u'\\udce2', u'1', u'.', u'Go', u'to', u'https://t.co/2B2B61Zy4x', u'2', u'.', u'Sign', u'up', u'E-mail', u'3', u'.', u'Join', u'\\u2026', u'https://t.co/eZPTYw9B7I']\n",
      "[u'RT', u'@NBCoin', u':', u'#Airdrop', u'#National', u'#Broadcasting', u'#Coin', u'#NBC', u'#Is', u'#Live', u'#Join', u'\\xa0', u'https://t.co/rvWHdtnvuV']\n",
      "[u'https://t.co/4NqKZk1R2d']\n",
      "[u'follow', u'this', u'https://t.co/Fnz4RbAg60']\n",
      "[u'The', u'dynamics', u'of', u'the', u'high-volatility', u'market', u'can', u'be', u'incredibly', u'influenced', u'by', u'news', u'background', u'.', u'The', u'announcement', u'of', u'har', u'\\u2026', u'https://t.co/EPoTOenvyD']\n",
      "[u'\\ud83d', u'\\udce2', u'BETHEREUM', u'#airdrop', u'#coin', u'#Freecoin', u'50', u'TOKEN', u'Veriyor', u'\\u2757', u'\\ufe0f', u'\\xc7', u'ok', u'ba', u'\\u015f', u'ar', u'\\u0131', u'l', u'\\u0131', u'.', u'Mail', u'adresi', u'onay', u'\\u0131', u'istiyor', u'.', u'\\u25b6', u'\\ufe0f', u'\\u2026', u'https://t.co/Nh8Pgtj2sL']\n",
      "[u'https://t.co/uii4dF5t9U', u'A', u'decentralized', u'cryptocurrency', u'built', u'to', u'create', u'an', u'all-inclusive', u'ecosystem', u'consisting', u'of', u'co', u'\\u2026', u'https://t.co/K96wgvf9wh']\n",
      "[u'[', u'USD', u']', u'04', u'/', u'03', u'/', u'2018', u'21', u':', u'59', u':', u'03', u'Bitcoin', u':', u'$', u'11444.3', u'Ethereum', u':', u'$', u'865.339', u'#bitcoin', u'#ethereum', u'#altcoin', u'#coin', u'#blockchain', u'\\u2026', u'https://t.co/x1mLuo6dmy']\n",
      "[u'RT', u'@CoinvestHQ', u':', u'Have', u'you', u'seen', u'the', u'latest', u'interview', u'between', u'our', u'Founder', u'@damon_nam', u'and', u'Crypto', u'enthusiast', u'@RobertBeadles', u'?', u'Check', u'out', u'the', u'conve', u'\\u2026']\n",
      "[u'[', u'TR', u']', u'04', u'/', u'03', u'/', u'2018', u'21', u':', u'59', u':', u'03', u'Bitcoin', u':', u'\\u20ba', u'42273', u'Ethereum', u':', u'\\u20ba', u'3201', u'#bitcoin', u'#ethereum', u'#altcoin', u'#coin', u'#blockchain', u'#crypto', u'\\u2026', u'https://t.co/iEfTQjnma1']\n",
      "[u'[', u'TR', u']', u'04', u'/', u'03', u'/', u'2018', u'22', u':', u'00', u':', u'03', u'Bitcoin', u':', u'\\u20ba', u'42273', u'Ethereum', u':', u'\\u20ba', u'3201', u'#bitcoin', u'#ethereum', u'#altcoin', u'#coin', u'#blockchain', u'#crypto', u'\\u2026', u'https://t.co/AYqpTtAPIJ']\n",
      "[u'[', u'USD', u']', u'04', u'/', u'03', u'/', u'2018', u'22', u':', u'00', u':', u'03', u'Bitcoin', u':', u'$', u'11444.3', u'Ethereum', u':', u'$', u'864.746', u'#bitcoin', u'#ethereum', u'#altcoin', u'#coin', u'#blockchain', u'\\u2026', u'https://t.co/ZD7ysg3gN7']\n"
     ]
    }
   ],
   "source": [
    "with open(r'D:\\GSkyDrive\\Qcfinance\\learners students\\Naveen Python\\Capstone Project\\cryptocapstone\\python.json', 'r') as f:\n",
    "    for line in f:\n",
    "        tweet = json.loads(line)\n",
    "        tokens = preprocess(tweet['text'])\n",
    "        print (tokens)\n"
   ]
  },
  {
   "cell_type": "code",
   "execution_count": 67,
   "metadata": {},
   "outputs": [
    {
     "name": "stdout",
     "output_type": "stream",
     "text": [
      "[(u':', 19), (u'\\u2026', 9), (u'/', 8), (u'03', 8), (u'.', 6), (u'$', 5), (u'#coin', 5), (u'Bitcoin', 4), (u'2018', 4), (u'Ethereum', 4), (u'\\u20ba', 4), (u'04', 4), (u'[', 4), (u'#blockchain', 4), (u'#altcoin', 4), (u']', 4), (u'#bitcoin', 4), (u'#ethereum', 4), (u'RT', 3), (u'\\u0131', 3), (u'of', 3), (u'\\ud83d', 3), (u'\\udce2', 3), (u'the', 3), (u'TR', 2), (u'#crypto', 2), (u'11444.3', 2), (u'42273', 2), (u'to', 2), (u'59', 2)]\n"
     ]
    }
   ],
   "source": [
    "import operator \n",
    "import json\n",
    "from collections import Counter\n",
    " \n",
    "fname = (r'D:\\GSkyDrive\\Qcfinance\\learners students\\Naveen Python\\Capstone Project\\cryptocapstone\\python.json')\n",
    "with open(fname, 'r') as f:\n",
    "    count_all = Counter()\n",
    "    for line in f:\n",
    "        tweet = json.loads(line)\n",
    "        # Create a list with all the terms\n",
    "        terms_all = [term for term in preprocess(tweet['text'])]\n",
    "        # Update the counter\n",
    "        count_all.update(terms_all)\n",
    "    # Print the first 5 most frequent words\n",
    "    print(count_all.most_common(30))\n"
   ]
  },
  {
   "cell_type": "code",
   "execution_count": 58,
   "metadata": {
    "collapsed": true
   },
   "outputs": [],
   "source": [
    "from nltk.corpus import stopwords\n",
    "import string\n",
    " \n",
    "punctuation = list(string.punctuation)\n",
    "stop = stopwords.words('english') + punctuation + ['rt', 'via']"
   ]
  },
  {
   "cell_type": "code",
   "execution_count": null,
   "metadata": {},
   "outputs": [],
   "source": []
  },
  {
   "cell_type": "code",
   "execution_count": 69,
   "metadata": {},
   "outputs": [
    {
     "data": {
      "text/plain": [
       "[u'USD',\n",
       " u'04',\n",
       " u'03',\n",
       " u'2018',\n",
       " u'22',\n",
       " u'00',\n",
       " u'03',\n",
       " u'Bitcoin',\n",
       " u'11444.3',\n",
       " u'Ethereum',\n",
       " u'864.746',\n",
       " u'#bitcoin',\n",
       " u'#ethereum',\n",
       " u'#altcoin',\n",
       " u'#coin',\n",
       " u'#blockchain',\n",
       " u'\\u2026',\n",
       " u'https://t.co/ZD7ysg3gN7']"
      ]
     },
     "execution_count": 69,
     "metadata": {},
     "output_type": "execute_result"
    }
   ],
   "source": [
    "terms_stop = [term for term in preprocess(tweet['text']) if term not in stop]\n",
    "terms_stop"
   ]
  },
  {
   "cell_type": "code",
   "execution_count": 70,
   "metadata": {},
   "outputs": [],
   "source": [
    "# Count terms only once, equivalent to Document Frequency\n",
    "terms_single = set(terms_all)\n",
    "# Count hashtags only\n",
    "terms_hash = [term for term in preprocess(tweet['text']) \n",
    "              if term.startswith('#')]\n",
    "# Count terms only (no hashtags, no mentions)\n",
    "terms_only = [term for term in preprocess(tweet['text']) \n",
    "              if term not in stop and\n",
    "              not term.startswith(('#', '@'))] \n",
    "              # mind the ((double brackets))\n",
    "              # startswith() takes a tuple (not a list) if \n",
    "              # we pass a list of inputs"
   ]
  },
  {
   "cell_type": "code",
   "execution_count": 71,
   "metadata": {
    "collapsed": true
   },
   "outputs": [],
   "source": [
    "from nltk import bigrams \n",
    " \n",
    "terms_bigram = bigrams(terms_stop)"
   ]
  },
  {
   "cell_type": "code",
   "execution_count": 72,
   "metadata": {},
   "outputs": [
    {
     "data": {
      "text/plain": [
       "18"
      ]
     },
     "execution_count": 72,
     "metadata": {},
     "output_type": "execute_result"
    }
   ],
   "source": [
    "len(terms_stop)"
   ]
  },
  {
   "cell_type": "code",
   "execution_count": 78,
   "metadata": {},
   "outputs": [
    {
     "data": {
      "text/plain": [
       "collections.Counter"
      ]
     },
     "execution_count": 78,
     "metadata": {},
     "output_type": "execute_result"
    }
   ],
   "source": [
    "type(count_all)"
   ]
  },
  {
   "cell_type": "code",
   "execution_count": 82,
   "metadata": {},
   "outputs": [
    {
     "data": {
      "text/plain": [
       "4"
      ]
     },
     "execution_count": 82,
     "metadata": {},
     "output_type": "execute_result"
    }
   ],
   "source": []
  },
  {
   "cell_type": "code",
   "execution_count": null,
   "metadata": {
    "collapsed": true
   },
   "outputs": [],
   "source": []
  }
 ],
 "metadata": {
  "kernelspec": {
   "display_name": "Python 2",
   "language": "python",
   "name": "python2"
  },
  "language_info": {
   "codemirror_mode": {
    "name": "ipython",
    "version": 2
   },
   "file_extension": ".py",
   "mimetype": "text/x-python",
   "name": "python",
   "nbconvert_exporter": "python",
   "pygments_lexer": "ipython2",
   "version": "2.7.13"
  }
 },
 "nbformat": 4,
 "nbformat_minor": 2
}
